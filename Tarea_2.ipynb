{
 "cells": [
  {
   "cell_type": "markdown",
   "metadata": {},
   "source": [
    "# Tarea 2"
   ]
  },
  {
   "cell_type": "markdown",
   "metadata": {},
   "source": [
    "Ciencia de datos en Python\n"
   ]
  },
  {
   "cell_type": "markdown",
   "metadata": {},
   "source": [
    "Eddson Mauricio Sierra Morataya\n"
   ]
  },
  {
   "cell_type": "markdown",
   "metadata": {},
   "source": [
    "06 de febrero de 2021"
   ]
  },
  {
   "cell_type": "markdown",
   "metadata": {},
   "source": [
    "## Sistemas de Control de Versiones"
   ]
  },
  {
   "cell_type": "markdown",
   "metadata": {},
   "source": [
    "Puede decirse que un **Sistema de Control de Versiones** o VCS por sus siglas en inglés (*Control Version System*) es una herramienta para mantener y rastrear los cambios en el código fuente y otras colecciones de archivos cuando se desarrolla un proyecto. Un VCS es útil para:\n",
    "* Colaborar entre diversas personas en el desarrollo del código o solo.\n",
    "* Capturar snapshots que guardan el estado de una carpeta/archivo en un momento determinado.\n",
    "* Capturar un snapshot de los metadatos del código (autor, fecha de modificación, etc.) con una marca de tiempo.\n",
    "* Especialmente, cuando se necesitan responder preguntas sobre errores o bugs en el código que permitan encontrar un momento en el desarrollo del mismo en que estos no existían. \n",
    "* Combinar cambios de nuevas características que se añaden al código principal. \n",
    "* Restaurar una versión del código fuente a un momento funcional.\n",
    "\n",
    "___\n",
    "\n",
    "## Git\n",
    "Git es un sistema de control de versiones. Básicamente puede decirse que es una colección de snapshots históricos de uno o varios archivos dentro de un directorio de alto nivel. En el lenguaje propio de Git, este directorio se llama \"Árbol\" (*Tree*), al igual que cualquier carpeta o subcarpeta dentro de este. Los archivos que están dentro del directorio o las carpetas reciben el nombre de *blob*. \n",
    "\n",
    "#### El modelo de datos de Git\n",
    "El modelo de datos de Git básicamente consiste en un grafo acíclico dirigido, esto simplemente significa que un mismo vértice no puede tener un camino directo hacia sí mismo.\n",
    "![alt text](https://upload.wikimedia.org/wikipedia/commons/0/08/Directed_acyclic_graph.png)\n",
    "Un grafo acíclico dirigido. Imagen tomada de Wikipedia."
   ]
  },
  {
   "cell_type": "markdown",
   "metadata": {},
   "source": [
    "En el modelo de datos de Git, cada vértice (círculo) corresponde a un snapshot del código que se ejecuta através de un *commit* y guarda tanto el código fuente como los metadatos asociados. Cada snapshot se genera con nuevos cambios o *branches* según la necesidad del desarrolador (puede responder a la adición de nuevas piezas de código, correción de bugs, líneas de otros desarrollos, etc.). La propiedad más útil de Git es que, además de poder llevar el registro del versionamiento y los cambios, se pueden aplicar comandos para combinar, restaurar o crear nuevas ramas de trabajo, por lo que lo vuelve muy útil para el trabajo colaborativo. En la siguiente representación, se muestra cada vértice (O) y cada flecha que indica su *commit parent* (predecesor). "
   ]
  },
  {
   "cell_type": "raw",
   "metadata": {},
   "source": [
    "O<-----O<-----O<-----O\n",
    "       ^            /\n",
    "        \\          / \n",
    "         --O<---- /"
   ]
  },
  {
   "cell_type": "markdown",
   "metadata": {},
   "source": [
    "Cada commit se genera a través de una función *hash*. Este tipo de función ayuda a nombrar un snapshot de una forma determinada basándose en el contenido del snapshot, básicamente toma los datos y los convierte en una cadena hexadecimal de 40 caracteres de largo que identifica a ese snapshot o *commit*. **Git puede asignar a esas cadenas hexadecimales, nombres legibles para los seres humanos que permiten identificar snapshots particulares dentro de la historia del código.** "
   ]
  },
  {
   "cell_type": "markdown",
   "metadata": {},
   "source": [
    "### Comandos locales en Git\n",
    "\n",
    "Algunos de los comandos principales cuando se trabaja en un repositorio local de Git son:"
   ]
  },
  {
   "cell_type": "markdown",
   "metadata": {},
   "source": [
    "* **git init**: crea un nuevo repositorio de git dentro del directorio .git"
   ]
  },
  {
   "cell_type": "code",
   "execution_count": 31,
   "metadata": {},
   "outputs": [
    {
     "data": {
      "text/plain": [
       "['Reinitialized existing Git repository in C:/Users/eddso/OneDrive/MaestrÃ\\xada/Ciclo 1 - 2021/Ciencia de Datos en Python/galileo_tareas/.git/']"
      ]
     },
     "execution_count": 31,
     "metadata": {},
     "output_type": "execute_result"
    }
   ],
   "source": [
    "# git init crea un nuevo repositorio de git (almacenada en .git)\n",
    "%sx git init"
   ]
  },
  {
   "cell_type": "code",
   "execution_count": 32,
   "metadata": {},
   "outputs": [
    {
     "data": {
      "text/plain": [
       "[' El volumen de la unidad C es OS',\n",
       " ' El número de serie del volumen es: D66F-6EC8',\n",
       " '',\n",
       " ' Directorio de C:\\\\Users\\\\eddso\\\\OneDrive\\\\Maestría\\\\Ciclo 1 - 2021\\\\Ciencia de Datos en Python\\\\galileo_tareas',\n",
       " '',\n",
       " '06/02/2021  17:50    <DIR>          .',\n",
       " '06/02/2021  17:50    <DIR>          ..',\n",
       " '06/02/2021  17:50    <DIR>          .git',\n",
       " '05/02/2021  09:07    <DIR>          .ipynb_checkpoints',\n",
       " '06/02/2021  16:27                91 programa.py',\n",
       " '06/02/2021  11:44               128 README.md',\n",
       " '27/01/2021  18:24            15,035 Tarea_1.docx',\n",
       " '27/01/2021  18:24            93,637 Tarea_1.pdf',\n",
       " '06/02/2021  17:50            11,605 Tarea_2.ipynb',\n",
       " '               5 archivos        120,496 bytes',\n",
       " '               4 dirs  81,639,006,208 bytes libres']"
      ]
     },
     "execution_count": 32,
     "metadata": {},
     "output_type": "execute_result"
    }
   ],
   "source": [
    "## Puede verse que se ha creado el directorio .git dentro de la carpeta\n",
    "%sx dir/a"
   ]
  },
  {
   "cell_type": "markdown",
   "metadata": {},
   "source": [
    "___\n",
    "* **git help**: proporciona la ayuda de git, mostrando los comandos más utilizados en diversas situaciones. "
   ]
  },
  {
   "cell_type": "code",
   "execution_count": 33,
   "metadata": {},
   "outputs": [
    {
     "data": {
      "text/plain": [
       "['usage: git [--version] [--help] [-C <path>] [-c <name>=<value>]',\n",
       " '           [--exec-path[=<path>]] [--html-path] [--man-path] [--info-path]',\n",
       " '           [-p | --paginate | -P | --no-pager] [--no-replace-objects] [--bare]',\n",
       " '           [--git-dir=<path>] [--work-tree=<path>] [--namespace=<name>]',\n",
       " '           <command> [<args>]',\n",
       " '',\n",
       " 'These are common Git commands used in various situations:',\n",
       " '',\n",
       " 'start a working area (see also: git help tutorial)',\n",
       " '   clone             Clone a repository into a new directory',\n",
       " '   init              Create an empty Git repository or reinitialize an existing one',\n",
       " '',\n",
       " 'work on the current change (see also: git help everyday)',\n",
       " '   add               Add file contents to the index',\n",
       " '   mv                Move or rename a file, a directory, or a symlink',\n",
       " '   restore           Restore working tree files',\n",
       " '   rm                Remove files from the working tree and from the index',\n",
       " '   sparse-checkout   Initialize and modify the sparse-checkout',\n",
       " '',\n",
       " 'examine the history and state (see also: git help revisions)',\n",
       " '   bisect            Use binary search to find the commit that introduced a bug',\n",
       " '   diff              Show changes between commits, commit and working tree, etc',\n",
       " '   grep              Print lines matching a pattern',\n",
       " '   log               Show commit logs',\n",
       " '   show              Show various types of objects',\n",
       " '   status            Show the working tree status',\n",
       " '',\n",
       " 'grow, mark and tweak your common history',\n",
       " '   branch            List, create, or delete branches',\n",
       " '   commit            Record changes to the repository',\n",
       " '   merge             Join two or more development histories together',\n",
       " '   rebase            Reapply commits on top of another base tip',\n",
       " '   reset             Reset current HEAD to the specified state',\n",
       " '   switch            Switch branches',\n",
       " '   tag               Create, list, delete or verify a tag object signed with GPG',\n",
       " '',\n",
       " 'collaborate (see also: git help workflows)',\n",
       " '   fetch             Download objects and refs from another repository',\n",
       " '   pull              Fetch from and integrate with another repository or a local branch',\n",
       " '   push              Update remote refs along with associated objects',\n",
       " '',\n",
       " \"'git help -a' and 'git help -g' list available subcommands and some\",\n",
       " \"concept guides. See 'git help <command>' or 'git help <concept>'\",\n",
       " 'to read about a specific subcommand or concept.',\n",
       " \"See 'git help git' for an overview of the system.\"]"
      ]
     },
     "execution_count": 33,
     "metadata": {},
     "output_type": "execute_result"
    }
   ],
   "source": [
    "%sx git help"
   ]
  },
  {
   "cell_type": "markdown",
   "metadata": {},
   "source": [
    "___\n",
    "* **git status**: indica el estado del respositorio, cambios pendientes por hacer y archivos no añadidos. "
   ]
  },
  {
   "cell_type": "code",
   "execution_count": 34,
   "metadata": {},
   "outputs": [
    {
     "data": {
      "text/plain": [
       "['On branch main',\n",
       " \"Your branch is up to date with 'origin/main'.\",\n",
       " '',\n",
       " 'Changes not staged for commit:',\n",
       " '  (use \"git add <file>...\" to update what will be committed)',\n",
       " '  (use \"git restore <file>...\" to discard changes in working directory)',\n",
       " '\\tmodified:   Tarea_2.ipynb',\n",
       " '',\n",
       " 'Untracked files:',\n",
       " '  (use \"git add <file>...\" to include in what will be committed)',\n",
       " '\\t.ipynb_checkpoints/',\n",
       " '\\tTarea_1.docx',\n",
       " '\\tprograma.py',\n",
       " '',\n",
       " 'no changes added to commit (use \"git add\" and/or \"git commit -a\")']"
      ]
     },
     "execution_count": 34,
     "metadata": {},
     "output_type": "execute_result"
    }
   ],
   "source": [
    "%sx git status"
   ]
  },
  {
   "cell_type": "markdown",
   "metadata": {},
   "source": [
    "___\n",
    "* **git log**: indica todos los commits realizados, hash(identificador) y metadatos, ordenados desde el más reciente hasta el más antiguo. "
   ]
  },
  {
   "cell_type": "code",
   "execution_count": 35,
   "metadata": {},
   "outputs": [
    {
     "data": {
      "text/plain": [
       "['commit c16c595d9b069df1fcd1029c7fd7a8b6b193f69e',\n",
       " 'Author: Eddson Sierra <eddson.sierra@galileo.edu>',\n",
       " 'Date:   Sat Feb 6 17:33:41 2021 -0600',\n",
       " '',\n",
       " '    Contenido aÃ±adido sobre Git y VCS sin ninguna celda de cÃ³digo',\n",
       " '',\n",
       " 'commit 99ce09bd26560bb9f17b35484703bf75a73211cc',\n",
       " 'Author: Eddson Sierra <eddson.sierra@galileo.edu>',\n",
       " 'Date:   Sat Feb 6 15:53:15 2021 -0600',\n",
       " '',\n",
       " '    Se elimninÃ³ el archivo ya que no correspondÃ\\xada a ese repositorio',\n",
       " '',\n",
       " 'commit a990511c79fd0b6938287ece5d950a55753f7538',\n",
       " 'Author: Eddson Sierra <eddson.sierra@galileo.edu>',\n",
       " 'Date:   Sat Feb 6 10:57:57 2021 -0600',\n",
       " '',\n",
       " '    Se cargÃ³ el archivo vacÃ\\xado de la Tarea_2',\n",
       " '',\n",
       " 'commit e30fa54d5ebe8d3a8fbcfea8b7daa0777f51a67f',\n",
       " 'Author: Eddson Sierra <eddson.sierra@galileo.edu>',\n",
       " 'Date:   Wed Jan 27 18:32:14 2021 -0600',\n",
       " '',\n",
       " '    Se aÃ±adiÃ³ la tarea 1',\n",
       " '',\n",
       " 'commit 0c955b93427f53222e8150a06bb41562040d4a5d',\n",
       " 'Author: Eddson Sierra <eddson.sierra@galileo.edu>',\n",
       " 'Date:   Tue Jan 26 09:37:10 2021 -0600',\n",
       " '',\n",
       " '    Se modificÃ³ el archivo README.md y se agregÃ³ el archivo week2_nhanes_practice.ipynb',\n",
       " '',\n",
       " 'commit 96dc77ceac33b231b017eb3c0c4df53b96c548c2',\n",
       " 'Author: Eddson <62773516+eddson90@users.noreply.github.com>',\n",
       " 'Date:   Tue Jan 26 08:13:46 2021 -0600',\n",
       " '',\n",
       " '    Initial commit']"
      ]
     },
     "execution_count": 35,
     "metadata": {},
     "output_type": "execute_result"
    }
   ],
   "source": [
    "%sx git log"
   ]
  },
  {
   "cell_type": "markdown",
   "metadata": {},
   "source": [
    "El comando **git log** también puede complementarse con otros argumentos. Por ejemplo: utilizando **git log --all --graph --decorate** se genera el mismo registro de commits pero en forma más gráfica (se genera una línea de tiempo vertical con los cambios realizados, similar al diagrama indicado al inicio):"
   ]
  },
  {
   "cell_type": "code",
   "execution_count": 37,
   "metadata": {},
   "outputs": [
    {
     "data": {
      "text/plain": [
       "['* commit c16c595d9b069df1fcd1029c7fd7a8b6b193f69e (HEAD -> main, origin/main, origin/HEAD)',\n",
       " '| Author: Eddson Sierra <eddson.sierra@galileo.edu>',\n",
       " '| Date:   Sat Feb 6 17:33:41 2021 -0600',\n",
       " '| ',\n",
       " '|     Contenido aÃ±adido sobre Git y VCS sin ninguna celda de cÃ³digo',\n",
       " '| ',\n",
       " '* commit 99ce09bd26560bb9f17b35484703bf75a73211cc',\n",
       " '| Author: Eddson Sierra <eddson.sierra@galileo.edu>',\n",
       " '| Date:   Sat Feb 6 15:53:15 2021 -0600',\n",
       " '| ',\n",
       " '|     Se elimninÃ³ el archivo ya que no correspondÃ\\xada a ese repositorio',\n",
       " '| ',\n",
       " '* commit a990511c79fd0b6938287ece5d950a55753f7538 (tareas_en_proceso, pruebas)',\n",
       " '| Author: Eddson Sierra <eddson.sierra@galileo.edu>',\n",
       " '| Date:   Sat Feb 6 10:57:57 2021 -0600',\n",
       " '| ',\n",
       " '|     Se cargÃ³ el archivo vacÃ\\xado de la Tarea_2',\n",
       " '| ',\n",
       " '* commit e30fa54d5ebe8d3a8fbcfea8b7daa0777f51a67f',\n",
       " '| Author: Eddson Sierra <eddson.sierra@galileo.edu>',\n",
       " '| Date:   Wed Jan 27 18:32:14 2021 -0600',\n",
       " '| ',\n",
       " '|     Se aÃ±adiÃ³ la tarea 1',\n",
       " '| ',\n",
       " '* commit 0c955b93427f53222e8150a06bb41562040d4a5d',\n",
       " '| Author: Eddson Sierra <eddson.sierra@galileo.edu>',\n",
       " '| Date:   Tue Jan 26 09:37:10 2021 -0600',\n",
       " '| ',\n",
       " '|     Se modificÃ³ el archivo README.md y se agregÃ³ el archivo week2_nhanes_practice.ipynb',\n",
       " '| ',\n",
       " '* commit 96dc77ceac33b231b017eb3c0c4df53b96c548c2',\n",
       " '  Author: Eddson <62773516+eddson90@users.noreply.github.com>',\n",
       " '  Date:   Tue Jan 26 08:13:46 2021 -0600',\n",
       " '  ',\n",
       " '      Initial commit']"
      ]
     },
     "execution_count": 37,
     "metadata": {},
     "output_type": "execute_result"
    }
   ],
   "source": [
    "%sx git log --all --graph --decorate"
   ]
  },
  {
   "cell_type": "markdown",
   "metadata": {},
   "source": [
    "Del mismo modo, si se utiliza **git log --all --graph --decorate --oneline** se obtiene una versión resumida del registro de cambios:"
   ]
  },
  {
   "cell_type": "code",
   "execution_count": 38,
   "metadata": {},
   "outputs": [
    {
     "data": {
      "text/plain": [
       "['* c16c595 (HEAD -> main, origin/main, origin/HEAD) Contenido aÃ±adido sobre Git y VCS sin ninguna celda de cÃ³digo',\n",
       " '* 99ce09b Se elimninÃ³ el archivo ya que no correspondÃ\\xada a ese repositorio',\n",
       " '* a990511 (tareas_en_proceso, pruebas) Se cargÃ³ el archivo vacÃ\\xado de la Tarea_2',\n",
       " '* e30fa54 Se aÃ±adiÃ³ la tarea 1',\n",
       " '* 0c955b9 Se modificÃ³ el archivo README.md y se agregÃ³ el archivo week2_nhanes_practice.ipynb',\n",
       " '* 96dc77c Initial commit']"
      ]
     },
     "execution_count": 38,
     "metadata": {},
     "output_type": "execute_result"
    }
   ],
   "source": [
    "%sx git log --all --graph --decorate --oneline"
   ]
  },
  {
   "cell_type": "markdown",
   "metadata": {},
   "source": [
    "___\n",
    "* **git checkout /hash/**: este comando alterna entre diferentes commits o ramas si existieran. Para ejemplificar se ejecutara el comando git checkout para volver al commit e30fa54 correspondiente al tercer cambio realizado en el historial. Al ejecutar el código sin ningún commit pendiente, la salida nos muestra que la referencia principal HEAD está ahora en el commmit e30fa54 y que los cambios que hagamos se realizarán a partir de allí si no volvemos a cambiar a la versión más reciente."
   ]
  },
  {
   "cell_type": "code",
   "execution_count": 45,
   "metadata": {},
   "outputs": [
    {
     "data": {
      "text/plain": [
       "['HEAD is now at e30fa54 Se aÃ±adiÃ³ la tarea 1']"
      ]
     },
     "execution_count": 45,
     "metadata": {},
     "output_type": "execute_result"
    }
   ],
   "source": [
    "%sx git checkout e30fa54"
   ]
  },
  {
   "cell_type": "code",
   "execution_count": 46,
   "metadata": {},
   "outputs": [
    {
     "data": {
      "text/plain": [
       "['* e9049a8 (main) Se han aÃ±adido ejemplos para varios comandos locales en git usando magic cells',\n",
       " '* c16c595 (origin/main, origin/HEAD) Contenido aÃ±adido sobre Git y VCS sin ninguna celda de cÃ³digo',\n",
       " '* 99ce09b Se elimninÃ³ el archivo ya que no correspondÃ\\xada a ese repositorio',\n",
       " '* a990511 (tareas_en_proceso, pruebas) Se cargÃ³ el archivo vacÃ\\xado de la Tarea_2',\n",
       " '* e30fa54 (HEAD) Se aÃ±adiÃ³ la tarea 1',\n",
       " '* 0c955b9 Se modificÃ³ el archivo README.md y se agregÃ³ el archivo week2_nhanes_practice.ipynb',\n",
       " '* 96dc77c Initial commit']"
      ]
     },
     "execution_count": 46,
     "metadata": {},
     "output_type": "execute_result"
    }
   ],
   "source": [
    "#con git log podemos verificar que HEAD se ha movido:\n",
    "%sx git log --all --graph --decorate --oneline"
   ]
  },
  {
   "cell_type": "markdown",
   "metadata": {},
   "source": [
    "___\n",
    "* **git commit**: este comando es de especial importancia, permite crear un nuevo vértice (commit) en nuestro sistema de control de versiones y almacena los metadatos y timestamp asociados. "
   ]
  },
  {
   "cell_type": "code",
   "execution_count": 49,
   "metadata": {},
   "outputs": [
    {
     "data": {
      "text/plain": [
       "['M\\tTarea_2.ipynb',\n",
       " \"Your branch is ahead of 'origin/main' by 1 commit.\",\n",
       " '  (use \"git push\" to publish your local commits)',\n",
       " \"Already on 'main'\"]"
      ]
     },
     "execution_count": 49,
     "metadata": {},
     "output_type": "execute_result"
    }
   ],
   "source": [
    "%sx git checkout main"
   ]
  },
  {
   "cell_type": "code",
   "execution_count": 50,
   "metadata": {},
   "outputs": [
    {
     "data": {
      "text/plain": [
       "['On branch main',\n",
       " \"Your branch is ahead of 'origin/main' by 1 commit.\",\n",
       " '  (use \"git push\" to publish your local commits)',\n",
       " '',\n",
       " 'Changes not staged for commit:',\n",
       " '  (use \"git add <file>...\" to update what will be committed)',\n",
       " '  (use \"git restore <file>...\" to discard changes in working directory)',\n",
       " '\\tmodified:   Tarea_2.ipynb',\n",
       " '',\n",
       " 'Untracked files:',\n",
       " '  (use \"git add <file>...\" to include in what will be committed)',\n",
       " '\\t.ipynb_checkpoints/',\n",
       " '\\tTarea_1.docx',\n",
       " '\\tprograma.py',\n",
       " '',\n",
       " 'no changes added to commit (use \"git add\" and/or \"git commit -a\")']"
      ]
     },
     "execution_count": 50,
     "metadata": {},
     "output_type": "execute_result"
    }
   ],
   "source": [
    "%sx git status"
   ]
  },
  {
   "cell_type": "code",
   "execution_count": null,
   "metadata": {},
   "outputs": [],
   "source": []
  }
 ],
 "metadata": {
  "kernelspec": {
   "display_name": "Python 3",
   "language": "python",
   "name": "python3"
  },
  "language_info": {
   "codemirror_mode": {
    "name": "ipython",
    "version": 3
   },
   "file_extension": ".py",
   "mimetype": "text/x-python",
   "name": "python",
   "nbconvert_exporter": "python",
   "pygments_lexer": "ipython3",
   "version": "3.8.5"
  }
 },
 "nbformat": 4,
 "nbformat_minor": 4
}
