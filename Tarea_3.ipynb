{
 "cells": [
  {
   "cell_type": "markdown",
   "metadata": {},
   "source": [
    "# Tarea 3"
   ]
  },
  {
   "cell_type": "markdown",
   "metadata": {},
   "source": [
    "Ciencia de Datos en Python\n",
    "\n",
    "Eddson Mauricio Sierra Morataya\n",
    "\n",
    "21 de febrero de 2021"
   ]
  },
  {
   "cell_type": "markdown",
   "metadata": {},
   "source": [
    "## Funciones"
   ]
  },
  {
   "cell_type": "markdown",
   "metadata": {},
   "source": [
    "* ***Funciones en Python***\n",
    "\n",
    "Las funciones en Python son un grupo de sentencias que trabajan juntas para una tarea específica y que pueden ser invocadas en múltiples ocasiones a lo largo del código. Las funciones pueden contener parámetros, es decir, valores que toman de fuera para realizar la tarea y retornar uno o varios resultados. Las funciones son de la forma:"
   ]
  },
  {
   "cell_type": "markdown",
   "metadata": {},
   "source": [
    "$$ nombrefuncion(parametro_1 = valor_1, parametro_2 = valor_2,..., parametro_n = valor_n) $$"
   ]
  },
  {
   "cell_type": "markdown",
   "metadata": {},
   "source": [
    "En donde *nombrefuncion* indica la función que se invoca y los paréntesis pueden contener los valores de los parámetros necesarios para que la función ejecute la tarea para la que fue creada. Por ejemplo la función *type* devuelve el tipo de datos del valor ingresado como parámetro: *type(tipo de dato)*"
   ]
  },
  {
   "cell_type": "code",
   "execution_count": 6,
   "metadata": {},
   "outputs": [
    {
     "data": {
      "text/plain": [
       "str"
      ]
     },
     "execution_count": 6,
     "metadata": {},
     "output_type": "execute_result"
    }
   ],
   "source": [
    "type(\"funcion\")"
   ]
  },
  {
   "cell_type": "markdown",
   "metadata": {},
   "source": [
    "Cuando se invoca una función, se llama al código que definió la función previamente y se ejecuta con los parámetros indicados. Existen 2 tipos de funciones en Pyton: ***Built-in o funciones integradas***  y ***User-defined o funciones definidas por el usuario.*** La función type del primer ejemplo es una función integrada, otros ejemplos de funciones integradas son:"
   ]
  },
  {
   "cell_type": "code",
   "execution_count": 8,
   "metadata": {},
   "outputs": [
    {
     "data": {
      "text/plain": [
       "25"
      ]
     },
     "execution_count": 8,
     "metadata": {},
     "output_type": "execute_result"
    }
   ],
   "source": [
    "# devuelve el valor máximo\n",
    "max(2,10,25,3)"
   ]
  },
  {
   "cell_type": "code",
   "execution_count": 13,
   "metadata": {},
   "outputs": [
    {
     "name": "stdout",
     "output_type": "stream",
     "text": [
      "funciones integradas\n"
     ]
    }
   ],
   "source": [
    "# print imprime un valor en pantalla\n",
    "print(\"funciones integradas\")"
   ]
  },
  {
   "cell_type": "markdown",
   "metadata": {},
   "source": [
    "* ***Parámetros Posicionales***"
   ]
  },
  {
   "cell_type": "markdown",
   "metadata": {},
   "source": [
    "* ***Parámetros Nombrados***"
   ]
  },
  {
   "cell_type": "markdown",
   "metadata": {},
   "source": [
    "* ***Retorno de múltiples valores***"
   ]
  },
  {
   "cell_type": "markdown",
   "metadata": {},
   "source": [
    "* ***Funciones como objetos y como parámetros de otras funciones***"
   ]
  },
  {
   "cell_type": "markdown",
   "metadata": {},
   "source": [
    "* ***Funciones Anónimas o Lambda***"
   ]
  },
  {
   "cell_type": "markdown",
   "metadata": {},
   "source": [
    "## Conclusiones"
   ]
  },
  {
   "cell_type": "markdown",
   "metadata": {},
   "source": [
    "## Referencias"
   ]
  },
  {
   "cell_type": "markdown",
   "metadata": {},
   "source": [
    "$$ De la forma $$"
   ]
  }
 ],
 "metadata": {
  "kernelspec": {
   "display_name": "Python 3",
   "language": "python",
   "name": "python3"
  },
  "language_info": {
   "codemirror_mode": {
    "name": "ipython",
    "version": 3
   },
   "file_extension": ".py",
   "mimetype": "text/x-python",
   "name": "python",
   "nbconvert_exporter": "python",
   "pygments_lexer": "ipython3",
   "version": "3.8.5"
  }
 },
 "nbformat": 4,
 "nbformat_minor": 4
}
