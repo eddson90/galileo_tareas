{
 "cells": [
  {
   "cell_type": "markdown",
   "metadata": {},
   "source": [
    "# Tarea 3"
   ]
  },
  {
   "cell_type": "markdown",
   "metadata": {},
   "source": [
    "Ciencia de Datos en Python\n",
    "\n",
    "Eddson Mauricio Sierra Morataya\n",
    "\n",
    "21 de febrero de 2021"
   ]
  },
  {
   "cell_type": "markdown",
   "metadata": {},
   "source": [
    "## Funciones"
   ]
  },
  {
   "cell_type": "markdown",
   "metadata": {},
   "source": [
    "* ***Funciones en Python***\n",
    "\n",
    "Las funciones en Python son un grupo de sentencias que trabajan juntas para una tarea específica y que pueden ser invocadas en múltiples ocasiones a lo largo del código. Las funciones contienen parámetros, es decir, variables que se utilizan para realizar la tarea y retornar uno o varios resultados. Cuando un parámetro se define, este se convierte en el argumento de la función. Las funciones son de la forma:"
   ]
  },
  {
   "cell_type": "markdown",
   "metadata": {},
   "source": [
    "$$ nombrefuncion(parametro_1 = valor_1, parametro_2 = valor_2,..., parametro_n = valor_n) $$"
   ]
  },
  {
   "cell_type": "markdown",
   "metadata": {},
   "source": [
    "En donde *nombrefuncion* indica la función que se invoca y los paréntesis pueden contener los valores de los parámetros necesarios para que la función ejecute la tarea para la que fue creada. Por ejemplo la función *type* devuelve el tipo de datos del valor ingresado como parámetro: *type(tipo de dato)*"
   ]
  },
  {
   "cell_type": "code",
   "execution_count": 6,
   "metadata": {},
   "outputs": [
    {
     "data": {
      "text/plain": [
       "str"
      ]
     },
     "execution_count": 6,
     "metadata": {},
     "output_type": "execute_result"
    }
   ],
   "source": [
    "type(\"funcion\")"
   ]
  },
  {
   "cell_type": "markdown",
   "metadata": {},
   "source": [
    "Cuando se invoca una función, se llama al código que definió la función previamente y se ejecuta con los parámetros indicados. Existen 2 tipos de funciones en Pyton: ***Built-in o funciones integradas***  y ***User-defined o funciones definidas por el usuario.*** La función type del primer ejemplo es una función integrada, otros ejemplos de funciones integradas son:"
   ]
  },
  {
   "cell_type": "code",
   "execution_count": 8,
   "metadata": {},
   "outputs": [
    {
     "data": {
      "text/plain": [
       "25"
      ]
     },
     "execution_count": 8,
     "metadata": {},
     "output_type": "execute_result"
    }
   ],
   "source": [
    "# devuelve el valor máximo\n",
    "max(2,10,25,3)"
   ]
  },
  {
   "cell_type": "code",
   "execution_count": 13,
   "metadata": {},
   "outputs": [
    {
     "name": "stdout",
     "output_type": "stream",
     "text": [
      "funciones integradas\n"
     ]
    }
   ],
   "source": [
    "# print imprime un valor en pantalla\n",
    "print(\"funciones integradas\")"
   ]
  },
  {
   "cell_type": "markdown",
   "metadata": {},
   "source": [
    "Las ***funciones definidas por el usuario*** son funciones creadas por el desarrollador. Y se crean usando la siguiente sintaxis:"
   ]
  },
  {
   "cell_type": "code",
   "execution_count": null,
   "metadata": {},
   "outputs": [],
   "source": [
    "\"\"\"\n",
    "def nombre_funcion():\n",
    "    setencia o\n",
    "    sentencias\n",
    "\"\"\"  "
   ]
  },
  {
   "cell_type": "markdown",
   "metadata": {},
   "source": [
    "Ejemplo: una función que calcula las dos raíces de una función cuadrática basada en los valores de los tres parámetros a, b y c"
   ]
  },
  {
   "cell_type": "code",
   "execution_count": 41,
   "metadata": {},
   "outputs": [],
   "source": [
    "#primero se importa la librería math que contiene el método sqrt\n",
    "import math\n",
    "\n",
    "#definción de la función\n",
    "def funcion_cuadratica(a,b,c):\n",
    "    x1 = (-b + math.sqrt(b**2-4*a*c))/(2*a)\n",
    "    x2 = (-b - math.sqrt(b**2-4*a*c))/(2*a)\n",
    "    print(\"x1 =\", x1)\n",
    "    print(\"x2 =\", x2)"
   ]
  },
  {
   "cell_type": "code",
   "execution_count": 44,
   "metadata": {},
   "outputs": [
    {
     "name": "stdout",
     "output_type": "stream",
     "text": [
      "x1 = 1.0\n",
      "x2 = 0.6666666666666666\n"
     ]
    }
   ],
   "source": [
    "## invocando a la función\n",
    "funcion_cuadratica(3,-5,2)"
   ]
  },
  {
   "cell_type": "markdown",
   "metadata": {},
   "source": [
    "* ***Parámetros Posicionales***\n",
    "\n",
    "Los parámetros posicionales se refieren a los argumentos de una función cuando estos se definen según la posición que ocupan en la parametrización de la función. Por ejemplo, en el caso anterior de la función *funcion_cuadratica* los parámetros que deben ingresarse al invocar la función siempre correponden a **\"a, b, y c\"** en ese orden y posición. Otro ejemplo de parámetros posicionales en una función podría ser la siguiente en que se calcula la Velocidad:\n",
    "\n",
    "$$ V = \\frac{d}{t} $$\n",
    "\n",
    "En donde d es la distancia en metros y t el tiempo en segundos."
   ]
  },
  {
   "cell_type": "code",
   "execution_count": 52,
   "metadata": {},
   "outputs": [],
   "source": [
    "def velocidad(d,t):\n",
    "    v = d/t\n",
    "    print(v)"
   ]
  },
  {
   "cell_type": "markdown",
   "metadata": {},
   "source": [
    "Al invocar la función, los parámetros deben especificar de acuerdo a la posición cómo se definieron: primero la distancia d y luego el tiempo t, de lo contrario el resultado es distinto:"
   ]
  },
  {
   "cell_type": "code",
   "execution_count": 54,
   "metadata": {},
   "outputs": [
    {
     "name": "stdout",
     "output_type": "stream",
     "text": [
      "2.0\n"
     ]
    }
   ],
   "source": [
    "velocidad(10,5)"
   ]
  },
  {
   "cell_type": "code",
   "execution_count": 55,
   "metadata": {},
   "outputs": [
    {
     "name": "stdout",
     "output_type": "stream",
     "text": [
      "0.5\n"
     ]
    }
   ],
   "source": [
    "velocidad(5,10)"
   ]
  },
  {
   "cell_type": "markdown",
   "metadata": {},
   "source": [
    "* ***Parámetros Nombrados***\n",
    "\n",
    "Un parámetro nombrado se refiere al parámetro que se especifica en la función haciendo referencia al nombre que se utilizó para definirlo. La forma más clara y simple para definir las funciones es utilizar los parámetros posicionales, sin embargo, cuando se trabaja con funciones con muchos parámetros puede ser más útil utilizar parámetros nombrados. En el siguiente ejemplo se define una función de un solo parámetro nombrado con fines ilustrativos:"
   ]
  },
  {
   "cell_type": "code",
   "execution_count": 59,
   "metadata": {},
   "outputs": [],
   "source": [
    "material = 'madera'\n",
    "\n",
    "#funcion que decide qué herramienta se debe utilizar para recolectar un material basado en el tipo de material en Minecraft\n",
    "def herramienta(material):\n",
    "    if material == 'madera':\n",
    "        herramienta = 'hacha'\n",
    "    elif material == 'piedra':\n",
    "        herramienta = 'pico'\n",
    "    elif material == 'tierra':\n",
    "        herramienta = 'pala'\n",
    "    print('Para obtener ', material, ' utilizar: ', herramienta)"
   ]
  },
  {
   "cell_type": "code",
   "execution_count": 58,
   "metadata": {},
   "outputs": [
    {
     "name": "stdout",
     "output_type": "stream",
     "text": [
      "Para obtener  madera  utilizar:  hacha\n"
     ]
    }
   ],
   "source": [
    "herramienta(material = 'madera')"
   ]
  },
  {
   "cell_type": "markdown",
   "metadata": {},
   "source": [
    "En el siguiente ejemplo se ha definido una función con 3 parámetros  nombrados, que determina el mensaje a desplegar en una plataforma de streaming luego de que un usuario ha realizado cierta acción en un canal:"
   ]
  },
  {
   "cell_type": "code",
   "execution_count": 74,
   "metadata": {},
   "outputs": [],
   "source": [
    "def mensaje(usuario, donacion, accion):\n",
    "    if accion == \"suscribirse\":\n",
    "        estado = \" se ha suscrito\"\n",
    "    elif accion == \"seguir\":\n",
    "        estado = \" te ha seguido\"\n",
    "    else:\n",
    "        \"no hay ninguna acción\"\n",
    "    print(usuario + estado + \" y ha donado \" + str(donacion) + \" bits\")"
   ]
  },
  {
   "cell_type": "code",
   "execution_count": 73,
   "metadata": {},
   "outputs": [
    {
     "name": "stdout",
     "output_type": "stream",
     "text": [
      "auronplay se ha suscrito y ha donado 300 bits\n"
     ]
    }
   ],
   "source": [
    "mensaje(usuario = \"auronplay\", donacion = 300, accion = \"suscribirse\")"
   ]
  },
  {
   "cell_type": "markdown",
   "metadata": {},
   "source": [
    "* ***Retorno de múltiples valores***\n",
    "\n",
    "A menudo se requiere obtener un valor de una función y para ello se utiliza *return* al final de la definición de la función indicando los valores que la función debe retornar. Se puede retornar uno o varios valores y pueden utilizarse inmediatamente para asignar los resultados a una variable, utilizarlos en otra función o cualquier otra sentencia de código. \n",
    "\n",
    "Por ejemplo podríamos modificar la funcion cuadrática para que devuelva los valores de las raíces x1 y x2 para que puedan ser utilizados más adelante:"
   ]
  },
  {
   "cell_type": "code",
   "execution_count": 75,
   "metadata": {},
   "outputs": [],
   "source": [
    "def funcion_cuadratica_v2(a,b,c):\n",
    "    x1 = (-b + math.sqrt(b**2-4*a*c))/(2*a)\n",
    "    x2 = (-b - math.sqrt(b**2-4*a*c))/(2*a)\n",
    "    return x1, x2"
   ]
  },
  {
   "cell_type": "code",
   "execution_count": 78,
   "metadata": {},
   "outputs": [
    {
     "data": {
      "text/plain": [
       "(1.0, 0.6666666666666666)"
      ]
     },
     "execution_count": 78,
     "metadata": {},
     "output_type": "execute_result"
    }
   ],
   "source": [
    "funcion_cuadratica_v2(3,-5,2)"
   ]
  },
  {
   "cell_type": "markdown",
   "metadata": {},
   "source": [
    "* ***Funciones como objetos y como parámetros de otras funciones***"
   ]
  },
  {
   "cell_type": "markdown",
   "metadata": {},
   "source": [
    "Los valores devueltos se pueden almacenar en una variable y utilizarlos para otra función (type por ejemplo). En este caso, se utiliza la función como cualquier otro objeto de Python:"
   ]
  },
  {
   "cell_type": "code",
   "execution_count": 82,
   "metadata": {},
   "outputs": [
    {
     "data": {
      "text/plain": [
       "tuple"
      ]
     },
     "execution_count": 82,
     "metadata": {},
     "output_type": "execute_result"
    }
   ],
   "source": [
    "resultado = funcion_cuadratica_v2(3,-5,2)\n",
    "type(resultado) #ya que se retornan dos valores, el resultado es una tupla"
   ]
  },
  {
   "cell_type": "markdown",
   "metadata": {},
   "source": [
    "La misma función se puede utilizar como parámetro de otra función:"
   ]
  },
  {
   "cell_type": "code",
   "execution_count": 126,
   "metadata": {},
   "outputs": [],
   "source": [
    "valores = [25,30,40,35,21,28]\n",
    "def media(valores):\n",
    "    for valor in valores:\n",
    "        valor+= valor\n",
    "    print(valor/len(valores))"
   ]
  },
  {
   "cell_type": "code",
   "execution_count": 129,
   "metadata": {},
   "outputs": [],
   "source": [
    "def desv(valores):\n",
    "    for valor in valores:\n",
    "        n = valor - media(valores)\n",
    "    return n"
   ]
  },
  {
   "cell_type": "code",
   "execution_count": 130,
   "metadata": {},
   "outputs": [
    {
     "name": "stdout",
     "output_type": "stream",
     "text": [
      "9.333333333333334\n"
     ]
    },
    {
     "ename": "TypeError",
     "evalue": "unsupported operand type(s) for -: 'int' and 'NoneType'",
     "output_type": "error",
     "traceback": [
      "\u001b[1;31m---------------------------------------------------------------------------\u001b[0m",
      "\u001b[1;31mTypeError\u001b[0m                                 Traceback (most recent call last)",
      "\u001b[1;32m<ipython-input-130-287960003eb7>\u001b[0m in \u001b[0;36m<module>\u001b[1;34m\u001b[0m\n\u001b[1;32m----> 1\u001b[1;33m \u001b[0mdesv\u001b[0m\u001b[1;33m(\u001b[0m\u001b[0mvalores\u001b[0m\u001b[1;33m)\u001b[0m\u001b[1;33m\u001b[0m\u001b[1;33m\u001b[0m\u001b[0m\n\u001b[0m",
      "\u001b[1;32m<ipython-input-129-6580a2068db9>\u001b[0m in \u001b[0;36mdesv\u001b[1;34m(valores)\u001b[0m\n\u001b[0;32m      1\u001b[0m \u001b[1;32mdef\u001b[0m \u001b[0mdesv\u001b[0m\u001b[1;33m(\u001b[0m\u001b[0mvalores\u001b[0m\u001b[1;33m)\u001b[0m\u001b[1;33m:\u001b[0m\u001b[1;33m\u001b[0m\u001b[1;33m\u001b[0m\u001b[0m\n\u001b[0;32m      2\u001b[0m     \u001b[1;32mfor\u001b[0m \u001b[0mvalor\u001b[0m \u001b[1;32min\u001b[0m \u001b[0mvalores\u001b[0m\u001b[1;33m:\u001b[0m\u001b[1;33m\u001b[0m\u001b[1;33m\u001b[0m\u001b[0m\n\u001b[1;32m----> 3\u001b[1;33m         \u001b[0mn\u001b[0m \u001b[1;33m=\u001b[0m \u001b[0mmath\u001b[0m\u001b[1;33m.\u001b[0m\u001b[0msqrt\u001b[0m\u001b[1;33m(\u001b[0m\u001b[0mvalor\u001b[0m \u001b[1;33m-\u001b[0m \u001b[0mmedia\u001b[0m\u001b[1;33m(\u001b[0m\u001b[0mvalores\u001b[0m\u001b[1;33m)\u001b[0m\u001b[1;33m)\u001b[0m\u001b[1;33m\u001b[0m\u001b[1;33m\u001b[0m\u001b[0m\n\u001b[0m\u001b[0;32m      4\u001b[0m     \u001b[1;32mreturn\u001b[0m \u001b[0mn\u001b[0m\u001b[1;33m\u001b[0m\u001b[1;33m\u001b[0m\u001b[0m\n",
      "\u001b[1;31mTypeError\u001b[0m: unsupported operand type(s) for -: 'int' and 'NoneType'"
     ]
    }
   ],
   "source": [
    "desv(valores)"
   ]
  },
  {
   "cell_type": "markdown",
   "metadata": {},
   "source": [
    "* ***Funciones Anónimas o Lambda***"
   ]
  },
  {
   "cell_type": "code",
   "execution_count": null,
   "metadata": {},
   "outputs": [],
   "source": []
  },
  {
   "cell_type": "markdown",
   "metadata": {},
   "source": [
    "## Conclusiones"
   ]
  },
  {
   "cell_type": "markdown",
   "metadata": {},
   "source": [
    "## Referencias"
   ]
  },
  {
   "cell_type": "markdown",
   "metadata": {},
   "source": [
    "* https://docs.python.org/es/3.7/glossary.html\n",
    "* A Beginners Guide to Python 3 Programming John Hunt, Springer Nature Switzerland AG 2019\n",
    "* https://www.superprof.es/diccionario/matematicas/estadistica/desviacion-estandar.html\n",
    "* https://www.medwave.cl/link.cgi/Medwave/Series/MBE04/5033\n",
    "* https://www.youtube.com/watch?v=RgqZHu-pzbE\n",
    "* https://www.youtube.com/watch?v=df6ZWB0cpGk\n",
    "* https://www.youtube.com/watch?v=QaOHeMnpnmU"
   ]
  },
  {
   "cell_type": "code",
   "execution_count": null,
   "metadata": {},
   "outputs": [],
   "source": []
  }
 ],
 "metadata": {
  "kernelspec": {
   "display_name": "Python 3",
   "language": "python",
   "name": "python3"
  },
  "language_info": {
   "codemirror_mode": {
    "name": "ipython",
    "version": 3
   },
   "file_extension": ".py",
   "mimetype": "text/x-python",
   "name": "python",
   "nbconvert_exporter": "python",
   "pygments_lexer": "ipython3",
   "version": "3.8.5"
  }
 },
 "nbformat": 4,
 "nbformat_minor": 4
}
