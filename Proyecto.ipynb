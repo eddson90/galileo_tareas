{
 "cells": [
  {
   "cell_type": "code",
   "execution_count": 1,
   "metadata": {},
   "outputs": [],
   "source": [
    "import numpy as np\n",
    "import matplotlib.pyplot as plt\n",
    "import sklearn\n",
    "import seaborn as sns\n",
    "import pandas as pd"
   ]
  },
  {
   "cell_type": "markdown",
   "metadata": {},
   "source": [
    "## Carga de datos y creación de data sets de entrenamiento y de pruebas"
   ]
  },
  {
   "cell_type": "code",
   "execution_count": 2,
   "metadata": {},
   "outputs": [],
   "source": [
    "data = np.load(r\"C:\\Users\\eddso\\OneDrive\\Maestría\\Ciclo 1 - 2021\\Ciencia de Datos en Python\\Proyecto\\proyecto_training_data.npy\")"
   ]
  },
  {
   "cell_type": "code",
   "execution_count": 3,
   "metadata": {},
   "outputs": [
    {
     "data": {
      "text/plain": [
       "array([[2.08500e+05, 7.00000e+00, 8.56000e+02, 8.00000e+00, 2.00300e+03,\n",
       "        6.50000e+01],\n",
       "       [1.81500e+05, 6.00000e+00, 1.26200e+03, 6.00000e+00, 1.97600e+03,\n",
       "        8.00000e+01],\n",
       "       [2.23500e+05, 7.00000e+00, 9.20000e+02, 6.00000e+00, 2.00100e+03,\n",
       "        6.80000e+01],\n",
       "       ...,\n",
       "       [2.66500e+05, 7.00000e+00, 1.18800e+03, 9.00000e+00, 1.94100e+03,\n",
       "        6.60000e+01],\n",
       "       [1.42125e+05, 5.00000e+00, 1.07800e+03, 5.00000e+00, 1.95000e+03,\n",
       "        6.80000e+01],\n",
       "       [1.47500e+05, 5.00000e+00, 1.25600e+03, 6.00000e+00, 1.96500e+03,\n",
       "        7.50000e+01]])"
      ]
     },
     "execution_count": 3,
     "metadata": {},
     "output_type": "execute_result"
    }
   ],
   "source": [
    "data"
   ]
  },
  {
   "cell_type": "code",
   "execution_count": 4,
   "metadata": {},
   "outputs": [
    {
     "data": {
      "text/plain": [
       "(1460, 6)"
      ]
     },
     "execution_count": 4,
     "metadata": {},
     "output_type": "execute_result"
    }
   ],
   "source": [
    "#filas y columnas de la matriz de datos completos\n",
    "data.shape"
   ]
  },
  {
   "cell_type": "code",
   "execution_count": 5,
   "metadata": {},
   "outputs": [
    {
     "data": {
      "text/plain": [
       "1168.0"
      ]
     },
     "execution_count": 5,
     "metadata": {},
     "output_type": "execute_result"
    }
   ],
   "source": [
    "#el 80% de los datos corresponden a 1168 filas\n",
    "len(data)*0.8"
   ]
  },
  {
   "cell_type": "code",
   "execution_count": 6,
   "metadata": {},
   "outputs": [],
   "source": [
    "# se define el 80% de los datos como datos de entrenamiento\n",
    "training_data = data[:1169]"
   ]
  },
  {
   "cell_type": "code",
   "execution_count": 7,
   "metadata": {},
   "outputs": [],
   "source": [
    "# se define el 20% restante como datos de validación y pruebas\n",
    "validation_data = data[1169:]"
   ]
  },
  {
   "cell_type": "code",
   "execution_count": 8,
   "metadata": {},
   "outputs": [
    {
     "data": {
      "text/plain": [
       "1460"
      ]
     },
     "execution_count": 8,
     "metadata": {},
     "output_type": "execute_result"
    }
   ],
   "source": [
    "#comprobando que el slicing sea correcto sobre los data sets\n",
    "len(training_data)+len(validation_data)"
   ]
  },
  {
   "cell_type": "markdown",
   "metadata": {},
   "source": [
    "## Análisis exploratorio"
   ]
  },
  {
   "cell_type": "markdown",
   "metadata": {},
   "source": [
    "Para cada variable en el dataset calcular((usando numpy o pandas):\n",
    " * media\n",
    " * valor máximo\n",
    " * valor mínimo \n",
    " * rango(peak to peak, no el rango del tensor que por ser vector sabemos que es 1)\n",
    " * desviación estándar\n",
    " \n",
    "Para cada variable en el dataset usar seaborn(función distplot https://seaborn.pydata.org/generated/seaborn.distplot.html)  para graficar  un histograma de la variable.\n",
    "\n",
    "A continuación se definen las variables:"
   ]
  },
  {
   "cell_type": "code",
   "execution_count": 9,
   "metadata": {},
   "outputs": [],
   "source": [
    "SalesPrice = training_data[:,0] # el precio de venta en dólares (y, variable dependiente de las otras características)\n",
    "\n",
    "# variables independientes (x):\n",
    "\n",
    "OverallQual = training_data[:,1] # Nivel de calidad 1-Very poor y 10-Very Excelent\n",
    "FirstFloorArea =  training_data[:,2] # Área del primer nivel en pies cuadrados\n",
    "TotRmsAbvGrd = training_data[:,3] # Cantidad de habitaciones por encima del nivel del suelo\n",
    "YearBuilt = training_data[:,4] # Año de construcción\n",
    "LotFrontage = training_data[:,5] # Pies lineales de la calle conectada a la propiedad"
   ]
  },
  {
   "cell_type": "markdown",
   "metadata": {},
   "source": [
    "##### Precio de venta"
   ]
  },
  {
   "cell_type": "code",
   "execution_count": 10,
   "metadata": {},
   "outputs": [
    {
     "data": {
      "text/plain": [
       "180636.82121471342"
      ]
     },
     "execution_count": 10,
     "metadata": {},
     "output_type": "execute_result"
    }
   ],
   "source": [
    "np.mean(SalesPrice)"
   ]
  },
  {
   "cell_type": "code",
   "execution_count": 11,
   "metadata": {},
   "outputs": [
    {
     "data": {
      "text/plain": [
       "755000.0"
      ]
     },
     "execution_count": 11,
     "metadata": {},
     "output_type": "execute_result"
    }
   ],
   "source": [
    "np.max(SalesPrice)"
   ]
  },
  {
   "cell_type": "code",
   "execution_count": 12,
   "metadata": {},
   "outputs": [
    {
     "data": {
      "text/plain": [
       "34900.0"
      ]
     },
     "execution_count": 12,
     "metadata": {},
     "output_type": "execute_result"
    }
   ],
   "source": [
    "np.min(SalesPrice)"
   ]
  },
  {
   "cell_type": "code",
   "execution_count": 13,
   "metadata": {},
   "outputs": [
    {
     "data": {
      "text/plain": [
       "720100.0"
      ]
     },
     "execution_count": 13,
     "metadata": {},
     "output_type": "execute_result"
    }
   ],
   "source": [
    "np.ptp(SalesPrice)"
   ]
  },
  {
   "cell_type": "code",
   "execution_count": 14,
   "metadata": {},
   "outputs": [
    {
     "data": {
      "text/plain": [
       "78764.31149488971"
      ]
     },
     "execution_count": 14,
     "metadata": {},
     "output_type": "execute_result"
    }
   ],
   "source": [
    "np.std(SalesPrice)"
   ]
  },
  {
   "cell_type": "code",
   "execution_count": 15,
   "metadata": {},
   "outputs": [
    {
     "name": "stderr",
     "output_type": "stream",
     "text": [
      "C:\\Users\\eddso\\anaconda3\\lib\\site-packages\\seaborn\\distributions.py:2551: FutureWarning: `distplot` is a deprecated function and will be removed in a future version. Please adapt your code to use either `displot` (a figure-level function with similar flexibility) or `histplot` (an axes-level function for histograms).\n",
      "  warnings.warn(msg, FutureWarning)\n"
     ]
    },
    {
     "data": {
      "text/plain": [
       "<AxesSubplot:xlabel='Precio de venta en dólares', ylabel='Density'>"
      ]
     },
     "execution_count": 15,
     "metadata": {},
     "output_type": "execute_result"
    },
    {
     "data": {
      "image/png": "[encoded data removed]",
      "text/plain": [
       "<Figure size 432x288 with 1 Axes>"
      ]
     },
     "metadata": {
      "needs_background": "light"
     },
     "output_type": "display_data"
    }
   ],
   "source": [
    "sns.distplot(SalesPrice, bins = 50, axlabel = \"Precio de venta en dólares\")"
   ]
  },
  {
   "cell_type": "markdown",
   "metadata": {},
   "source": [
    "##### Nivel de calidad"
   ]
  },
  {
   "cell_type": "code",
   "execution_count": 16,
   "metadata": {},
   "outputs": [
    {
     "data": {
      "text/plain": [
       "6.100940975192472"
      ]
     },
     "execution_count": 16,
     "metadata": {},
     "output_type": "execute_result"
    }
   ],
   "source": [
    "np.mean(OverallQual)"
   ]
  },
  {
   "cell_type": "code",
   "execution_count": 17,
   "metadata": {},
   "outputs": [
    {
     "data": {
      "text/plain": [
       "10.0"
      ]
     },
     "execution_count": 17,
     "metadata": {},
     "output_type": "execute_result"
    }
   ],
   "source": [
    "np.max(OverallQual)"
   ]
  },
  {
   "cell_type": "code",
   "execution_count": 18,
   "metadata": {},
   "outputs": [
    {
     "data": {
      "text/plain": [
       "1.0"
      ]
     },
     "execution_count": 18,
     "metadata": {},
     "output_type": "execute_result"
    }
   ],
   "source": [
    "np.min(OverallQual)"
   ]
  },
  {
   "cell_type": "code",
   "execution_count": 19,
   "metadata": {},
   "outputs": [
    {
     "data": {
      "text/plain": [
       "9.0"
      ]
     },
     "execution_count": 19,
     "metadata": {},
     "output_type": "execute_result"
    }
   ],
   "source": [
    "np.ptp(OverallQual)"
   ]
  },
  {
   "cell_type": "code",
   "execution_count": 20,
   "metadata": {},
   "outputs": [
    {
     "data": {
      "text/plain": [
       "1.37684908406113"
      ]
     },
     "execution_count": 20,
     "metadata": {},
     "output_type": "execute_result"
    }
   ],
   "source": [
    "np.std(OverallQual)"
   ]
  },
  {
   "cell_type": "code",
   "execution_count": 21,
   "metadata": {},
   "outputs": [
    {
     "name": "stderr",
     "output_type": "stream",
     "text": [
      "C:\\Users\\eddso\\anaconda3\\lib\\site-packages\\seaborn\\distributions.py:2551: FutureWarning: `distplot` is a deprecated function and will be removed in a future version. Please adapt your code to use either `displot` (a figure-level function with similar flexibility) or `histplot` (an axes-level function for histograms).\n",
      "  warnings.warn(msg, FutureWarning)\n"
     ]
    },
    {
     "data": {
      "text/plain": [
       "<AxesSubplot:xlabel='Calidad material y acabado', ylabel='Density'>"
      ]
     },
     "execution_count": 21,
     "metadata": {},
     "output_type": "execute_result"
    },
    {
     "data": {
      "image/png": "[encoded data removed]",
      "text/plain": [
       "<Figure size 432x288 with 1 Axes>"
      ]
     },
     "metadata": {
      "needs_background": "light"
     },
     "output_type": "display_data"
    }
   ],
   "source": [
    "sns.distplot(OverallQual, axlabel = \"Calidad material y acabado\")"
   ]
  },
  {
   "cell_type": "markdown",
   "metadata": {},
   "source": [
    "##### Área en pies cuadrados del primer nivel"
   ]
  },
  {
   "cell_type": "code",
   "execution_count": 22,
   "metadata": {},
   "outputs": [
    {
     "data": {
      "text/plain": [
       "1156.3917878528657"
      ]
     },
     "execution_count": 22,
     "metadata": {},
     "output_type": "execute_result"
    }
   ],
   "source": [
    "np.mean(FirstFloorArea)"
   ]
  },
  {
   "cell_type": "code",
   "execution_count": 23,
   "metadata": {},
   "outputs": [
    {
     "data": {
      "text/plain": [
       "3228.0"
      ]
     },
     "execution_count": 23,
     "metadata": {},
     "output_type": "execute_result"
    }
   ],
   "source": [
    "np.max(FirstFloorArea)"
   ]
  },
  {
   "cell_type": "code",
   "execution_count": 24,
   "metadata": {},
   "outputs": [
    {
     "data": {
      "text/plain": [
       "334.0"
      ]
     },
     "execution_count": 24,
     "metadata": {},
     "output_type": "execute_result"
    }
   ],
   "source": [
    "np.min(FirstFloorArea)"
   ]
  },
  {
   "cell_type": "code",
   "execution_count": 25,
   "metadata": {},
   "outputs": [
    {
     "data": {
      "text/plain": [
       "2894.0"
      ]
     },
     "execution_count": 25,
     "metadata": {},
     "output_type": "execute_result"
    }
   ],
   "source": [
    "np.ptp(FirstFloorArea)"
   ]
  },
  {
   "cell_type": "code",
   "execution_count": 26,
   "metadata": {},
   "outputs": [
    {
     "data": {
      "text/plain": [
       "373.4677582253169"
      ]
     },
     "execution_count": 26,
     "metadata": {},
     "output_type": "execute_result"
    }
   ],
   "source": [
    "np.std(FirstFloorArea)"
   ]
  },
  {
   "cell_type": "code",
   "execution_count": 27,
   "metadata": {},
   "outputs": [
    {
     "name": "stderr",
     "output_type": "stream",
     "text": [
      "C:\\Users\\eddso\\anaconda3\\lib\\site-packages\\seaborn\\distributions.py:2551: FutureWarning: `distplot` is a deprecated function and will be removed in a future version. Please adapt your code to use either `displot` (a figure-level function with similar flexibility) or `histplot` (an axes-level function for histograms).\n",
      "  warnings.warn(msg, FutureWarning)\n"
     ]
    },
    {
     "data": {
      "text/plain": [
       "<AxesSubplot:xlabel='Área del primer nivel en pies cuadrados', ylabel='Density'>"
      ]
     },
     "execution_count": 27,
     "metadata": {},
     "output_type": "execute_result"
    },
    {
     "data": {
      "image/png": "[encoded data removed]",
      "text/plain": [
       "<Figure size 432x288 with 1 Axes>"
      ]
     },
     "metadata": {
      "needs_background": "light"
     },
     "output_type": "display_data"
    }
   ],
   "source": [
    "sns.distplot(FirstFloorArea, axlabel = \"Área del primer nivel en pies cuadrados\")"
   ]
  },
  {
   "cell_type": "markdown",
   "metadata": {},
   "source": [
    "##### Número de habitaciones por encima del nivel del suelo"
   ]
  },
  {
   "cell_type": "code",
   "execution_count": 28,
   "metadata": {},
   "outputs": [
    {
     "data": {
      "text/plain": [
       "6.485885372112917"
      ]
     },
     "execution_count": 28,
     "metadata": {},
     "output_type": "execute_result"
    }
   ],
   "source": [
    "np.mean(TotRmsAbvGrd)"
   ]
  },
  {
   "cell_type": "code",
   "execution_count": 29,
   "metadata": {},
   "outputs": [
    {
     "data": {
      "text/plain": [
       "14.0"
      ]
     },
     "execution_count": 29,
     "metadata": {},
     "output_type": "execute_result"
    }
   ],
   "source": [
    "np.max(TotRmsAbvGrd)"
   ]
  },
  {
   "cell_type": "code",
   "execution_count": 30,
   "metadata": {},
   "outputs": [
    {
     "data": {
      "text/plain": [
       "2.0"
      ]
     },
     "execution_count": 30,
     "metadata": {},
     "output_type": "execute_result"
    }
   ],
   "source": [
    "np.min(TotRmsAbvGrd)"
   ]
  },
  {
   "cell_type": "code",
   "execution_count": 31,
   "metadata": {},
   "outputs": [
    {
     "data": {
      "text/plain": [
       "12.0"
      ]
     },
     "execution_count": 31,
     "metadata": {},
     "output_type": "execute_result"
    }
   ],
   "source": [
    "np.ptp(TotRmsAbvGrd)"
   ]
  },
  {
   "cell_type": "code",
   "execution_count": 32,
   "metadata": {},
   "outputs": [
    {
     "data": {
      "text/plain": [
       "1.607833983530941"
      ]
     },
     "execution_count": 32,
     "metadata": {},
     "output_type": "execute_result"
    }
   ],
   "source": [
    "np.std(TotRmsAbvGrd)"
   ]
  },
  {
   "cell_type": "code",
   "execution_count": 33,
   "metadata": {},
   "outputs": [
    {
     "name": "stderr",
     "output_type": "stream",
     "text": [
      "C:\\Users\\eddso\\anaconda3\\lib\\site-packages\\seaborn\\distributions.py:2551: FutureWarning: `distplot` is a deprecated function and will be removed in a future version. Please adapt your code to use either `displot` (a figure-level function with similar flexibility) or `histplot` (an axes-level function for histograms).\n",
      "  warnings.warn(msg, FutureWarning)\n"
     ]
    },
    {
     "data": {
      "text/plain": [
       "<AxesSubplot:xlabel='Número de habitaciones por encima del nivel del suelo', ylabel='Density'>"
      ]
     },
     "execution_count": 33,
     "metadata": {},
     "output_type": "execute_result"
    },
    {
     "data": {
      "image/png": "[encoded data removed]",
      "text/plain": [
       "<Figure size 432x288 with 1 Axes>"
      ]
     },
     "metadata": {
      "needs_background": "light"
     },
     "output_type": "display_data"
    }
   ],
   "source": [
    "sns.distplot(TotRmsAbvGrd, axlabel = \"Número de habitaciones por encima del nivel del suelo\")"
   ]
  },
  {
   "cell_type": "markdown",
   "metadata": {},
   "source": [
    "##### Año original de construcción"
   ]
  },
  {
   "cell_type": "code",
   "execution_count": 34,
   "metadata": {},
   "outputs": [
    {
     "data": {
      "text/plain": [
       "1971.42001710864"
      ]
     },
     "execution_count": 34,
     "metadata": {},
     "output_type": "execute_result"
    }
   ],
   "source": [
    "np.mean(YearBuilt)"
   ]
  },
  {
   "cell_type": "code",
   "execution_count": 35,
   "metadata": {},
   "outputs": [
    {
     "data": {
      "text/plain": [
       "2010.0"
      ]
     },
     "execution_count": 35,
     "metadata": {},
     "output_type": "execute_result"
    }
   ],
   "source": [
    "np.max(YearBuilt)"
   ]
  },
  {
   "cell_type": "code",
   "execution_count": 36,
   "metadata": {},
   "outputs": [
    {
     "data": {
      "text/plain": [
       "1875.0"
      ]
     },
     "execution_count": 36,
     "metadata": {},
     "output_type": "execute_result"
    }
   ],
   "source": [
    "np.min(YearBuilt)"
   ]
  },
  {
   "cell_type": "code",
   "execution_count": 37,
   "metadata": {},
   "outputs": [
    {
     "data": {
      "text/plain": [
       "135.0"
      ]
     },
     "execution_count": 37,
     "metadata": {},
     "output_type": "execute_result"
    }
   ],
   "source": [
    "np.ptp(YearBuilt)"
   ]
  },
  {
   "cell_type": "code",
   "execution_count": 38,
   "metadata": {},
   "outputs": [
    {
     "data": {
      "text/plain": [
       "29.945041927060213"
      ]
     },
     "execution_count": 38,
     "metadata": {},
     "output_type": "execute_result"
    }
   ],
   "source": [
    "np.std(YearBuilt)"
   ]
  },
  {
   "cell_type": "code",
   "execution_count": 39,
   "metadata": {},
   "outputs": [
    {
     "name": "stderr",
     "output_type": "stream",
     "text": [
      "C:\\Users\\eddso\\anaconda3\\lib\\site-packages\\seaborn\\distributions.py:2551: FutureWarning: `distplot` is a deprecated function and will be removed in a future version. Please adapt your code to use either `displot` (a figure-level function with similar flexibility) or `histplot` (an axes-level function for histograms).\n",
      "  warnings.warn(msg, FutureWarning)\n"
     ]
    },
    {
     "data": {
      "text/plain": [
       "<AxesSubplot:xlabel='Año original de construcción', ylabel='Density'>"
      ]
     },
     "execution_count": 39,
     "metadata": {},
     "output_type": "execute_result"
    },
    {
     "data": {
      "image/png": "[encoded data removed]",
      "text/plain": [
       "<Figure size 432x288 with 1 Axes>"
      ]
     },
     "metadata": {
      "needs_background": "light"
     },
     "output_type": "display_data"
    }
   ],
   "source": [
    "sns.distplot(YearBuilt, axlabel = \"Año original de construcción\")"
   ]
  },
  {
   "cell_type": "markdown",
   "metadata": {},
   "source": [
    "##### Pies lineales de la calle conectada a la propiedad"
   ]
  },
  {
   "cell_type": "code",
   "execution_count": 40,
   "metadata": {},
   "outputs": [],
   "source": [
    "# ya que esta variable contiene valores nulos se remueven primero mediante el siguiente código:\n",
    "nanLotFrontage = np.isnan(LotFrontage)\n",
    "notnanLotFrontage = ~ nanLotFrontage\n",
    "LotFrontage2 = LotFrontage[notnanLotFrontage]"
   ]
  },
  {
   "cell_type": "code",
   "execution_count": 41,
   "metadata": {},
   "outputs": [
    {
     "data": {
      "text/plain": [
       "69.99896157840082"
      ]
     },
     "execution_count": 41,
     "metadata": {},
     "output_type": "execute_result"
    }
   ],
   "source": [
    "np.mean(LotFrontage2)"
   ]
  },
  {
   "cell_type": "code",
   "execution_count": 42,
   "metadata": {},
   "outputs": [
    {
     "data": {
      "text/plain": [
       "313.0"
      ]
     },
     "execution_count": 42,
     "metadata": {},
     "output_type": "execute_result"
    }
   ],
   "source": [
    "np.max(LotFrontage2)"
   ]
  },
  {
   "cell_type": "code",
   "execution_count": 43,
   "metadata": {},
   "outputs": [
    {
     "data": {
      "text/plain": [
       "21.0"
      ]
     },
     "execution_count": 43,
     "metadata": {},
     "output_type": "execute_result"
    }
   ],
   "source": [
    "np.min(LotFrontage2)"
   ]
  },
  {
   "cell_type": "code",
   "execution_count": 44,
   "metadata": {},
   "outputs": [
    {
     "data": {
      "text/plain": [
       "292.0"
      ]
     },
     "execution_count": 44,
     "metadata": {},
     "output_type": "execute_result"
    }
   ],
   "source": [
    "np.ptp(LotFrontage2)"
   ]
  },
  {
   "cell_type": "code",
   "execution_count": 45,
   "metadata": {},
   "outputs": [
    {
     "name": "stderr",
     "output_type": "stream",
     "text": [
      "C:\\Users\\eddso\\anaconda3\\lib\\site-packages\\seaborn\\distributions.py:2551: FutureWarning: `distplot` is a deprecated function and will be removed in a future version. Please adapt your code to use either `displot` (a figure-level function with similar flexibility) or `histplot` (an axes-level function for histograms).\n",
      "  warnings.warn(msg, FutureWarning)\n"
     ]
    },
    {
     "data": {
      "text/plain": [
       "<AxesSubplot:xlabel='Pies lineales de la calle conectada a la propiedad', ylabel='Density'>"
      ]
     },
     "execution_count": 45,
     "metadata": {},
     "output_type": "execute_result"
    },
    {
     "data": {
      "image/png": "[encoded data removed]",
      "text/plain": [
       "<Figure size 432x288 with 1 Axes>"
      ]
     },
     "metadata": {
      "needs_background": "light"
     },
     "output_type": "display_data"
    }
   ],
   "source": [
    "sns.distplot(LotFrontage, axlabel = \"Pies lineales de la calle conectada a la propiedad\")"
   ]
  },
  {
   "cell_type": "markdown",
   "metadata": {},
   "source": [
    "### Correlación entre las variables independientes (x) y la variable dependiente (y = precio de venta)\n",
    "Para cada variable independiente x :\n",
    "* Calcular el coeficiente de correlación entre x y y\n",
    "* Graficar x vs y(scatterplot) usando matplotlib\n",
    "* Colocar el coeficiente de correlación y colocarlo  como parte del título de la gráfica. \n",
    "\n",
    "Basado en la gráfica y el coeficiente de correlación  de cada par x,y elegir  las 2 variables con más potencial predictivo(la 2 que presentan mayor correlación)."
   ]
  },
  {
   "cell_type": "markdown",
   "metadata": {},
   "source": [
    "* ***Correlación entre Nivel de calidad y Precio de venta***"
   ]
  },
  {
   "cell_type": "code",
   "execution_count": 46,
   "metadata": {},
   "outputs": [
    {
     "data": {
      "image/png": "[encoded data removed]",
      "text/plain": [
       "<Figure size 432x288 with 1 Axes>"
      ]
     },
     "metadata": {
      "needs_background": "light"
     },
     "output_type": "display_data"
    }
   ],
   "source": [
    "r_x1 = np.corrcoef(OverallQual,SalesPrice)\n",
    "r_x1[0,1]\n",
    "\n",
    "\n",
    "fig = plt.figure()\n",
    "ax1 = fig.add_subplot(1,1,1)\n",
    "\n",
    "ax1.scatter(OverallQual,SalesPrice)\n",
    "ax1.set_xlabel(\"Nivel de calidad\")\n",
    "ax1.set_ylabel(\"Precio de venta en $\")\n",
    "ax1.set_title(\"Gráfico de Dispersión\\n R = \"+str(r_x1[0,1]))\n",
    "\n",
    "plt.show()"
   ]
  },
  {
   "cell_type": "markdown",
   "metadata": {},
   "source": [
    "* ***Correlación entre Área del primer nivel y Precio de venta***"
   ]
  },
  {
   "cell_type": "code",
   "execution_count": 47,
   "metadata": {},
   "outputs": [
    {
     "data": {
      "image/png": "[encoded data removed]",
      "text/plain": [
       "<Figure size 432x288 with 1 Axes>"
      ]
     },
     "metadata": {
      "needs_background": "light"
     },
     "output_type": "display_data"
    }
   ],
   "source": [
    "r_x2 = np.corrcoef(FirstFloorArea,SalesPrice)\n",
    "r_x2[0,1]\n",
    "\n",
    "fig = plt.figure()\n",
    "ax2 = fig.add_subplot(1,1,1)\n",
    "\n",
    "ax2.scatter(FirstFloorArea,SalesPrice)\n",
    "ax2.set_xlabel(\"Área del primer nivel\")\n",
    "ax2.set_ylabel(\"Precio de venta en $\")\n",
    "ax2.set_title(\"Gráfico de Dispersión\\n R = \"+str(r_x2[0,1]))\n",
    "plt.show()"
   ]
  },
  {
   "cell_type": "markdown",
   "metadata": {},
   "source": [
    "* ***Correlación entre Número de habitaciones por encima del nivel del suelo y Precio de venta***"
   ]
  },
  {
   "cell_type": "code",
   "execution_count": 48,
   "metadata": {},
   "outputs": [
    {
     "data": {
      "image/png": "[encoded data removed]",
      "text/plain": [
       "<Figure size 432x288 with 1 Axes>"
      ]
     },
     "metadata": {
      "needs_background": "light"
     },
     "output_type": "display_data"
    }
   ],
   "source": [
    "r_x3 = np.corrcoef(TotRmsAbvGrd,SalesPrice)\n",
    "r_x3[0,1]\n",
    "\n",
    "fig = plt.figure()\n",
    "ax3 = fig.add_subplot(1,1,1)\n",
    "\n",
    "ax3.scatter(TotRmsAbvGrd,SalesPrice)\n",
    "ax3.set_xlabel(\"Número de habitaciones por encima del nivel del suelo\")\n",
    "ax3.set_ylabel(\"Precio de venta en $\")\n",
    "ax3.set_title(\"Gráfico de Dispersión\\n R = \"+str(r_x3[0,1]))\n",
    "plt.show()"
   ]
  },
  {
   "cell_type": "markdown",
   "metadata": {},
   "source": [
    "* ***Correlación entre Año de construcción y Precio de venta***"
   ]
  },
  {
   "cell_type": "code",
   "execution_count": 49,
   "metadata": {},
   "outputs": [
    {
     "data": {
      "image/png": "[encoded data removed]",
      "text/plain": [
       "<Figure size 432x288 with 1 Axes>"
      ]
     },
     "metadata": {
      "needs_background": "light"
     },
     "output_type": "display_data"
    }
   ],
   "source": [
    "r_x4 = np.corrcoef(YearBuilt,SalesPrice)\n",
    "r_x4[0,1]\n",
    "\n",
    "fig = plt.figure()\n",
    "ax4 = fig.add_subplot(1,1,1)\n",
    "\n",
    "ax4.scatter(YearBuilt,SalesPrice)\n",
    "ax4.set_xlabel(\"Año de construcción\")\n",
    "ax4.set_ylabel(\"Precio de venta en $\")\n",
    "ax4.set_title(\"Gráfico de Dispersión\\n R = \"+str(r_x4[0,1]))\n",
    "plt.show()"
   ]
  },
  {
   "cell_type": "markdown",
   "metadata": {},
   "source": [
    "* ***Correlación entre Pies lineales de la calle conectada a la propiedad y Precio de venta***"
   ]
  },
  {
   "cell_type": "code",
   "execution_count": 50,
   "metadata": {},
   "outputs": [
    {
     "data": {
      "image/png": "[encoded data removed]",
      "text/plain": [
       "<Figure size 432x288 with 1 Axes>"
      ]
     },
     "metadata": {
      "needs_background": "light"
     },
     "output_type": "display_data"
    }
   ],
   "source": [
    "df = pd.DataFrame(training_data[:,[0,5]], columns = ['Pies lineales','Precio de venta'])\n",
    "df_corr = df.corr(method='pearson')\n",
    "r_x5 = df_corr.at['Pies lineales','Precio de venta']\n",
    "\n",
    "fig = plt.figure()\n",
    "ax5 = fig.add_subplot(1,1,1)\n",
    "\n",
    "ax5.scatter(LotFrontage,SalesPrice)\n",
    "ax5.set_xlabel(\"Pies lineales de la calle conetada a la propiedad\")\n",
    "ax5.set_ylabel(\"Precio de venta en $\")\n",
    "ax5.set_title(\"Gráfico de Dispersión\\n R = \"+str(r_x5))\n",
    "plt.show()"
   ]
  },
  {
   "cell_type": "code",
   "execution_count": 51,
   "metadata": {},
   "outputs": [
    {
     "name": "stdout",
     "output_type": "stream",
     "text": [
      " R de Overall Quality = 0.7937829677609736 \n",
      " R de First Floor Area = 0.6162769848463842 \n",
      " R de Total Rooms Above Ground = 0.5647560082444893 \n",
      " R de Year Built = 0.5330047607874275 \n",
      " R de Lot Frontage = 0.36378989653866756\n"
     ]
    }
   ],
   "source": [
    "print(\" R de Overall Quality =\", r_x1[0,1], \"\\n\",\"R de First Floor Area =\", r_x2[0,1],\"\\n\",\"R de Total Rooms Above Ground =\", r_x3[0,1],\"\\n\",\"R de Year Built =\", r_x4[0,1],\"\\n\",\"R de Lot Frontage =\",r_x5)"
   ]
  },
  {
   "cell_type": "markdown",
   "metadata": {},
   "source": [
    "***De las gráficas y los coeficientes de correlación podemos ver que las 2 variables con mayor potencial predictivo son Overall Quailty y First Floor Area.***"
   ]
  },
  {
   "cell_type": "markdown",
   "metadata": {},
   "source": [
    "## Modelado"
   ]
  },
  {
   "cell_type": "code",
   "execution_count": 454,
   "metadata": {},
   "outputs": [],
   "source": [
    "def modelo_lineal(x,y,epochs,imprimir_error_cada,lr):\n",
    "    b = 0\n",
    "    m = 0\n",
    "    modelo = {}\n",
    "    errores = {}\n",
    "    \n",
    "    \n",
    "    # crear matriz con primera columna = vector x y segunda columa de unos\n",
    "    unos = np.ones_like(x)\n",
    "    matriz_x = np.vstack((x,unos))\n",
    "    matriz_x = matriz_x.T\n",
    "       \n",
    "    for i in range(epochs):\n",
    "        # vector de parámetros\n",
    "        parametros = np.array([m,b])\n",
    "        \n",
    "        y_hat = np.matmul(matriz_x,parametros)\n",
    "        error_promedio = np.mean(np.power(y-y_hat,2))/2\n",
    "        gradiente_m = np.mean((y_hat-y)*x)\n",
    "        gradiente_b = np.mean(y_hat-y)\n",
    "        m -= lr*gradiente_m\n",
    "        b -= lr*gradiente_b\n",
    "        \n",
    "        # imprimir error cada n iteraciones\n",
    "        if imprimir_error_cada == 0:\n",
    "            pass\n",
    "        else:\n",
    "            if (i+1)%imprimir_error_cada == 0:\n",
    "                print(\"Iteración no.\",i+1,\"----------------------\")\n",
    "                print(\"Error promedio = \",error_promedio)\n",
    "        \n",
    "        # resultados de la funcion\n",
    "        modelo[i+1] = [m,b]\n",
    "        errores[i+1] = error_promedio\n",
    "        vector_errores = np.array(list(errores.items()))\n",
    "    return modelo, vector_errores"
   ]
  },
  {
   "cell_type": "code",
   "execution_count": 548,
   "metadata": {},
   "outputs": [
    {
     "data": {
      "text/plain": [
       "({1: [118.8137624465355, 18.06368212147134],\n",
       "  2: [237.1517382455051, 36.05307029955785],\n",
       "  3: [355.01583386707335, 53.96846223827923],\n",
       "  4: [472.40794814220106, 71.81015444875857],\n",
       "  5: [589.3299722932554, 89.5784422540023],\n",
       "  6: [705.7837899644974, 107.27361979366094],\n",
       "  7: [821.7712772524474, 124.89598002877082],\n",
       "  8: [937.2943027361287, 142.4458147464767],\n",
       "  9: [1052.3547275071903, 159.92341456473568],\n",
       "  10: [1166.9544051999085, 177.32906893700195],\n",
       "  11: [1281.0951820210685, 194.66306615689305],\n",
       "  12: [1394.7788967797262, 211.9256933628373],\n",
       "  13: [1508.0073809168514, 229.11723654270264],\n",
       "  14: [1620.7824585348508, 246.23798053840687],\n",
       "  15: [1733.1059464269738, 263.2882090505095],\n",
       "  16: [1844.9796541066007, 280.26820464278524],\n",
       "  17: [1956.4053838364125, 297.17824874677876],\n",
       "  18: [2067.384930657445, 314.01862166634197],\n",
       "  19: [2177.920082418024, 330.7896025821523],\n",
       "  20: [2288.0126198025896, 347.4914695562136],\n",
       "  21: [2397.664316360399, 364.1244995363382],\n",
       "  22: [2506.8769385341184, 380.6889683606119],\n",
       "  23: [2615.6522456882985, 397.1851507618404],\n",
       "  24: [2723.9919901377366, 413.6133203719782],\n",
       "  25: [2831.8979171757255, 429.9737497265396],\n",
       "  26: [2939.3717651021875, 446.26671026899237],\n",
       "  27: [3046.4152652516973, 462.49247235513326],\n",
       "  28: [3153.0301420213923, 478.6513052574465],\n",
       "  29: [3259.2181128987704, 494.7434771694446],\n",
       "  30: [3364.9808884893773, 510.7692552099916],\n",
       "  31: [3470.3201725443814, 526.7289054276096],\n",
       "  32: [3575.237661988041, 542.6226928047669],\n",
       "  33: [3679.735046945058, 558.4508812621503],\n",
       "  34: [3783.814010767824, 574.2137336629196],\n",
       "  35: [3887.4762300635575, 589.9115118169445],\n",
       "  36: [3990.7233747213313, 605.544476485026],\n",
       "  37: [4093.557107938992, 621.1128873830993],\n",
       "  38: [4195.979086249971, 636.6170031864208],\n",
       "  39: [4297.990959549991, 652.0570815337381],\n",
       "  40: [4399.594371123661, 667.4333790314436],\n",
       "  41: [4500.790957670967, 682.7461512577103],\n",
       "  42: [4601.5823493336575, 697.9956527666128],\n",
       "  43: [4701.970169721522, 713.1821370922303],\n",
       "  44: [4801.956035938565, 728.3058567527337],\n",
       "  45: [4901.541558609073, 743.3670632544568],\n",
       "  46: [5000.72834190358, 758.36600709595],\n",
       "  47: [5099.517983564729, 773.3029377720192],\n",
       "  48: [5197.912074933023, 788.1781037777472],\n",
       "  49: [5295.912200972486, 802.9917526125001],\n",
       "  50: [5393.519940296207, 817.7441307839167],\n",
       "  51: [5490.736865191791, 832.4354838118826],\n",
       "  52: [5587.564541646707, 847.0660562324879],\n",
       "  53: [5684.0045293735275, 861.6360916019695],\n",
       "  54: [5780.058381835076, 876.1458325006372],\n",
       "  55: [5875.727646269469, 890.5955205367842],\n",
       "  56: [5971.013863715057, 904.9853963505822],\n",
       "  57: [6065.918569035268, 919.3156996179603],\n",
       "  58: [6160.44329094335, 933.586669054469],\n",
       "  59: [6254.589552027015, 947.7985424191284],\n",
       "  60: [6348.358868772984, 961.9515565182605],\n",
       "  61: [6441.752751591433, 976.0459472093077],\n",
       "  62: [6534.77270484034, 990.0819494046337],\n",
       "  63: [6627.420226849742, 1004.0597970753116],\n",
       "  64: [6719.696809945882, 1017.9797232548947],\n",
       "  65: [6811.603940475269, 1031.8419600431737],\n",
       "  66: [6903.143098828641, 1045.646738609918],\n",
       "  67: [6994.3157594648255, 1059.3942891986023],\n",
       "  68: [7085.123390934511, 1073.0848411301185],\n",
       "  69: [7175.567455903922, 1086.7186228064722],\n",
       "  70: [7265.649411178393, 1100.2958617144648],\n",
       "  71: [7355.37070772586, 1113.8167844293605],\n",
       "  72: [7444.732790700245, 1127.2816166185394],\n",
       "  73: [7533.737099464755, 1140.6905830451346],\n",
       "  74: [7622.385067615089, 1154.0439075716563],\n",
       "  75: [7710.678123002539, 1167.3418131635997],\n",
       "  76: [7798.617687757018, 1180.5845218930401],\n",
       "  77: [7886.205178309978, 1193.7722549422124],\n",
       "  78: [7973.442005417249, 1206.9052326070769],\n",
       "  79: [8060.3295741817765, 1219.9836743008705],\n",
       "  80: [8146.869284076276, 1233.0077985576436],\n",
       "  81: [8233.062528965793, 1245.9778230357833],\n",
       "  82: [8318.91069713017, 1258.893964521522],\n",
       "  83: [8404.415171286428, 1271.7564389324325],\n",
       "  84: [8489.57732861106, 1284.5654613209076],\n",
       "  85: [8574.398540762226, 1297.3212458776281],\n",
       "  86: [8658.880173901869, 1310.024005935015],\n",
       "  87: [8743.023588717737, 1322.673953970669],\n",
       "  88: [8826.830140445316, 1335.271301610795],\n",
       "  89: [8910.30117888968, 1347.8162596336147],\n",
       "  90: [8993.438048447253, 1360.3090379727632],\n",
       "  91: [9076.242088127474, 1372.7498457206746],\n",
       "  92: [9158.714631574388, 1385.1388911319516],\n",
       "  93: [9240.857007088145, 1397.476381626723],\n",
       "  94: [9322.670537646409, 1409.7625237939878],\n",
       "  95: [9404.156540925691, 1421.9975233949451],\n",
       "  96: [9485.316329322586, 1434.181585366311],\n",
       "  97: [9566.15120997493, 1446.314913823623],\n",
       "  98: [9646.662484782875, 1458.3977120645297],\n",
       "  99: [9726.851450429873, 1470.4301825720681],\n",
       "  100: [9806.71939840358, 1482.4125270179284],\n",
       "  101: [9886.267615016677, 1494.3449462657045],\n",
       "  102: [9965.497381427605, 1506.2276403741319],\n",
       "  103: [10044.409973661219, 1518.0608086003133],\n",
       "  104: [10123.006662629352, 1529.8446494029304],\n",
       "  105: [10201.288714151315, 1541.5793604454432],\n",
       "  106: [10279.25738897429, 1553.2651385992765],\n",
       "  107: [10356.913942793666, 1564.9021799469936],\n",
       "  108: [10434.259626273268, 1576.490679785457],\n",
       "  109: [10511.29568506553, 1588.030832628977],\n",
       "  110: [10588.02335983157, 1599.5228322124474],\n",
       "  111: [10664.443886261191, 1610.9668714944683],\n",
       "  112: [10740.558495092804, 1622.363142660457],\n",
       "  113: [10816.36841213326, 1633.711837125746],\n",
       "  114: [10891.874858277622, 1645.0131455386686],\n",
       "  115: [10967.079049528837, 1656.2672577836327],\n",
       "  116: [11041.982197017342, 1667.4743629841812],\n",
       "  117: [11116.58550702059, 1678.6346495060413],\n",
       "  118: [11190.890180982497, 1689.7483049601608],\n",
       "  119: [11264.897415532801, 1700.8155162057326],\n",
       "  120: [11338.608402506363, 1711.836469353207],\n",
       "  121: [11412.024328962374, 1722.8113497672916],\n",
       "  122: [11485.146377203491, 1733.7403420699402],\n",
       "  123: [11557.975724794902, 1744.6236301433282],\n",
       "  124: [11630.513544583302, 1755.4613971328172],\n",
       "  125: [11702.761004715803, 1766.2538254499073],\n",
       "  126: [11774.719268658768, 1777.001096775178],\n",
       "  127: [11846.389495216557, 1787.7033920612168],\n",
       "  128: [11917.772838550223, 1798.3608915355364],\n",
       "  129: [11988.870448196103, 1808.9737747034794],\n",
       "  130: [12059.683469084359, 1819.542220351113],\n",
       "  131: [12130.213041557427, 1830.0664065481103],\n",
       "  132: [12200.460301388406, 1840.5465106506217],\n",
       "  133: [12270.426379799368, 1850.982709304133],\n",
       "  134: [12340.112403479588, 1861.375178446314],\n",
       "  135: [12409.519494603712, 1871.7240933098537],\n",
       "  136: [12478.648770849843, 1882.0296284252863],\n",
       "  137: [12547.501345417562, 1892.291957623804],\n",
       "  138: [12616.078327045874, 1902.5112540400587],\n",
       "  139: [12684.380820031078, 1912.6876901149549],\n",
       "  140: [12752.40992424457, 1922.8214375984273],\n",
       "  141: [12820.166735150575, 1932.9126675522114],\n",
       "  142: [12887.652343823804, 1942.9615503525995],\n",
       "  143: [12954.867836967047, 1952.9682556931887],\n",
       "  144: [13021.814296928687, 1962.932952587615],\n",
       "  145: [13088.49280172015, 1972.8558093722797],\n",
       "  146: [13154.904425033279, 1982.7369937090612],\n",
       "  147: [13221.050236257654, 1992.576672588019],\n",
       "  148: [13286.931300497818, 2002.3750123300852],\n",
       "  149: [13352.548678590452, 2012.132178589746],\n",
       "  150: [13417.90342712148, 2021.848336357712],\n",
       "  151: [13482.996598443096, 2031.5236499635776],\n",
       "  152: [13547.829240690731, 2041.1582830784703],\n",
       "  153: [13612.402397799951, 2050.7523987176896],\n",
       "  154: [13676.717109523282, 2060.3061592433346],\n",
       "  155: [13740.774411446977, 2069.819726366921],\n",
       "  156: [13804.575335007705, 2079.293261151988],\n",
       "  157: [13868.12090750918, 2088.7269240166966],\n",
       "  158: [13931.41215213872, 2098.1208747364117],\n",
       "  159: [13994.450087983749, 2107.4752724462815],\n",
       "  160: [14057.235730048213, 2116.7902756438016],\n",
       "  161: [14119.770089268954, 2126.0660421913694],\n",
       "  162: [14182.054172531998, 2135.3027293188297],\n",
       "  163: [14244.088982688794, 2144.5004936260093],\n",
       "  164: [14305.875518572375, 2153.6594910852405],\n",
       "  165: [14367.414775013462, 2162.779877043877],\n",
       "  166: [14428.707742856499, 2171.8618062267974],\n",
       "  167: [14489.75540897563, 2180.905432738899],\n",
       "  168: [14550.558756290606, 2189.910910067583],\n",
       "  169: [14611.118763782628, 2198.8783910852276],\n",
       "  170: [14671.436406510133, 2207.8080280516538],\n",
       "  171: [14731.512655624507, 2216.699972616579],\n",
       "  172: [14791.348478385748, 2225.554375822062],\n",
       "  173: [14850.94483817805, 2234.3713881049375],\n",
       "  174: [14910.30269452534, 2243.151159299242],\n",
       "  175: [14969.423003106745, 2251.893838638628],\n",
       "  176: [15028.306715771994, 2260.5995747587713],\n",
       "  177: [15086.954780556767, 2269.2685156997654],\n",
       "  178: [15145.368141697976, 2277.900808908509],\n",
       "  179: [15203.547739648986, 2286.4966012410837],\n",
       "  180: [15261.494511094776, 2295.056038965119],\n",
       "  181: [15319.20938896704, 2303.5792677621525],\n",
       "  182: [15376.693302459224, 2312.0664327299774],\n",
       "  183: [15433.94717704151, 2320.5176783849815],\n",
       "  184: [15490.971934475727, 2328.9331486644774],\n",
       "  185: [15547.768492830219, 2337.3129869290224],\n",
       "  186: [15604.33776649464, 2345.6573359647296],\n",
       "  187: [15660.680666194694, 2353.966337985569],\n",
       "  188: [15716.798099006819, 2362.240134635663],\n",
       "  189: [15772.690968372806, 2370.4788669915647],\n",
       "  190: [15828.360174114368, 2378.6826755645375],\n",
       "  191: [15883.806612447643, 2386.8517003028164],\n",
       "  192: [15939.031175997638, 2394.986080593866],\n",
       "  193: [15994.034753812623, 2403.0859552666266],\n",
       "  194: [16048.818231378465, 2411.1514625937525],\n",
       "  195: [16103.382490632897, 2419.182740293841],\n",
       "  196: [16157.728409979738, 2427.179925533653],\n",
       "  197: [16211.856864303052, 2435.1431549303234],\n",
       "  198: [16265.768724981255, 2443.0725645535636],\n",
       "  199: [16319.464859901158, 2450.9682899278555],\n",
       "  200: [16372.94613347196, 2458.8304660346357],\n",
       "  201: [16426.213406639185, 2466.659227314472],\n",
       "  202: [16479.26753689855, 2474.4547076692297],\n",
       "  203: [16532.109378309808, 2482.217040464232],\n",
       "  204: [16584.739781510496, 2489.9463585304075],\n",
       "  205: [16637.159593729662, 2497.6427941664338],\n",
       "  206: [16689.369658801512, 2505.3064791408683],\n",
       "  207: [16741.37081717902, 2512.937544694274],\n",
       "  208: [16793.16390594748, 2520.536121541334],\n",
       "  209: [16844.749758837985, 2528.1023398729594],\n",
       "  210: [16896.129206240883, 2535.6363293583877],\n",
       "  211: [16947.30307521916, 2543.138219147273],\n",
       "  212: [16998.272189521762, 2550.6081378717686],\n",
       "  213: [17049.03736959689, 2558.0462136486],\n",
       "  214: [17099.599432605213, 2565.45257408113],\n",
       "  215: [17149.959192433056, 2572.8273462614175],\n",
       "  216: [17200.1174597055, 2580.170656772263],\n",
       "  217: [17250.075041799468, 2587.482631689253],\n",
       "  218: [17299.832742856728, 2594.7633965827895],\n",
       "  219: [17349.391363796865, 2602.0130765201156],\n",
       "  220: [17398.751702330188, 2609.2317960673313],\n",
       "  221: [17447.91455297059, 2616.4196792914013],\n",
       "  222: [17496.880707048353, 2623.576849762156],\n",
       "  223: [17545.65095272291, 2630.7034305542825],\n",
       "  224: [17594.22607499555, 2637.7995442493093],\n",
       "  225: [17642.606855722068, 2644.8653129375816],\n",
       "  226: [17690.794073625377, 2651.9008582202305],\n",
       "  227: [17738.78850430805, 2658.9063012111324],\n",
       "  228: [17786.59092026483, 2665.881762538862],\n",
       "  229: [17834.202090895087, 2672.8273623486366],\n",
       "  230: [17881.622782515213, 2679.7432203042526],\n",
       "  231: [17928.85375837098, 2686.6294555900154],\n",
       "  232: [17975.895778649847, 2693.48618691266],\n",
       "  233: [18022.749600493204, 2700.3135325032645],\n",
       "  234: [18069.415978008587, 2707.1116101191574],\n",
       "  235: [18115.895662281833, 2713.880537045814],\n",
       "  236: [18162.189401389187, 2720.620430098748],\n",
       "  237: [18208.29794040936, 2727.3314056253953],\n",
       "  238: [18254.22202143554, 2734.0135795069887],\n",
       "  239: [18299.962383587357, 2740.6670671604256],\n",
       "  240: [18345.5197630228, 2747.29198354013],\n",
       "  241: [18390.894892950077, 2753.888443139904],\n",
       "  242: [18436.088503639443, 2760.456559994776],\n",
       "  243: [18481.10132243497, 2766.996447682835],\n",
       "  244: [18525.934073766264, 2773.5082193270655],\n",
       "  245: [18570.587479160153, 2779.9919875971686],\n",
       "  246: [18615.062257252317, 2786.4478647113797],\n",
       "  247: [18659.359123798873, 2792.875962438277],\n",
       "  248: [18703.478791687907, 2799.2763920985826],\n",
       "  249: [18747.421970950974, 2805.6492645669587],\n",
       "  250: [18791.18936877454, 2811.9946902737934],\n",
       "  251: [18834.78168951138, 2818.3127792069818],\n",
       "  252: [18878.199634691937, 2824.6036409136977],\n",
       "  253: [18921.443903035633, 2830.867384502162],\n",
       "  254: [18964.515190462127, 2837.1041186433995],\n",
       "  255: [19007.414190102536, 2843.3139515729913],\n",
       "  256: [19050.14159231061, 2849.4969910928203],\n",
       "  257: [19092.698084673855, 2855.653344572808],\n",
       "  258: [19135.084352024627, 2861.7831189526455],\n",
       "  259: [19177.301076451167, 2867.8864207435186],\n",
       "  260: [19219.348937308594, 2873.963356029823],\n",
       "  261: [19261.228611229857, 2880.0140304708766],\n",
       "  262: [19302.940772136644, 2886.0385493026206],\n",
       "  263: [19344.486091250255, 2892.0370173393176],\n",
       "  264: [19385.865237102407, 2898.00953897524],\n",
       "  265: [19427.078875546016, 2903.956218186354],\n",
       "  266: [19468.12766976594, 2909.877158531995],\n",
       "  267: [19509.012280289662, 2915.772463156538],\n",
       "  268: [19549.733364997934, 2921.6422347910584],\n",
       "  269: [19590.291579135388, 2927.48657575499],\n",
       "  270: [19630.687575321102, 2933.3055879577746],\n",
       "  271: [19670.922003559117, 2939.099372900502],\n",
       "  272: [19710.995511248915, 2944.868031677551],\n",
       "  273: [19750.90874319585, 2950.611664978213],\n",
       "  274: [19790.66234162156, 2956.3303730883213],\n",
       "  275: [19830.256946174293, 2962.024255891864],\n",
       "  276: [19869.69319393925, 2967.693412872595],\n",
       "  277: [19908.971719448826, 2973.3379431156386],\n",
       "  278: [19948.09315469286, 2978.957945309085],\n",
       "  279: [19987.05812912881, 2984.553517745583],\n",
       "  280: [20025.86726969191, 2990.124758323924],\n",
       "  281: [20064.52120080527, 2995.67176455062],\n",
       "  282: [20103.02054438994, 3001.1946335414755],\n",
       "  283: [20141.365919874945, 3006.6934620231523],\n",
       "  284: [20179.557944207263, 3012.1683463347304],\n",
       "  285: [20217.597231861775, 3017.6193824292595],\n",
       "  286: [20255.484394851163, 3023.0466658753076],\n",
       "  287: [20293.220042735782, 3028.4502918584994],\n",
       "  288: [20330.80478263349, 3033.8303551830527],\n",
       "  289: [20368.239219229436, 3039.186950273305],\n",
       "  290: [20405.523954785785, 3044.520171175237],\n",
       "  291: [20442.65958915146, 3049.8301115579884],\n",
       "  292: [20479.646719771787, 3055.1168647153672],\n",
       "  293: [20516.485941698145, 3060.380523567355],\n",
       "  294: [20553.17784759754, 3065.621180661603],\n",
       "  295: [20589.723027762175, 3070.8389281749255],\n",
       "  296: [20626.122070118952, 3076.0338579147856],\n",
       "  297: [20662.375560238965, 3081.2060613207746],\n",
       "  298: [20698.484081346924, 3086.355629466086],\n",
       "  299: [20734.44821433057, 3091.482653058985],\n",
       "  300: [20770.268537750027, 3096.5872224442687],\n",
       "  301: [20805.945627847144, 3101.6694276047247],\n",
       "  302: [20841.480058554767, 3106.7293581625795],\n",
       "  303: [20876.872401506007, 3111.767103380945],\n",
       "  304: [20912.12322604344, 3116.782752165257],\n",
       "  305: [20947.233099228302, 3121.7763930647075],\n",
       "  306: [20982.202585849616, 3126.7481142736733],\n",
       "  307: [21017.0322484333, 3131.6980036331374],\n",
       "  308: [21051.72264725124, 3136.6261486321046],\n",
       "  309: [21086.27434033032, 3141.5326364090124],\n",
       "  310: [21120.687883461418, 3146.417553753136],\n",
       "  311: [21154.963830208355, 3151.280987105986],\n",
       "  312: [21189.10273191684, 3156.123022562703],\n",
       "  313: [21223.105137723338, 3160.943745873447],\n",
       "  314: [21256.97159456394, 3165.7432424447757],\n",
       "  315: [21290.70264718316, 3170.521597341025],\n",
       "  316: [21324.29883814273, 3175.2788952856786],\n",
       "  317: [21357.760707830348, 3180.015220662734],\n",
       "  318: [21391.08879446838, 3184.7306575180633],\n",
       "  319: [21424.283634122537, 3189.4252895607674],\n",
       "  320: [21457.345760710534, 3194.0992001645263],\n",
       "  321: [21490.275706010674, 3198.752472368942],\n",
       "  322: [21523.073999670436, 3203.385188880878],\n",
       "  323: [21555.741169215, 3207.9974320757924],\n",
       "  324: [21588.277740055768, 3212.5892839990656],\n",
       "  325: [21620.68423549882, 3217.160826367323],\n",
       "  326: [21652.96117675335, 3221.712140569752],\n",
       "  327: [21685.109082940082, 3226.243307669416],\n",
       "  328: [21717.128471099622, 3230.7544084045576],\n",
       "  329: [21749.019856200804, 3235.2455231899035],\n",
       "  330: [21780.78375114899, 3239.7167321179586],\n",
       "  331: [21812.420666794325, 3244.168114960299],\n",
       "  332: [21843.93111194, 3248.5997511688565],\n",
       "  333: [21875.315593350428, 3253.0117198771995],\n",
       "  334: [21906.57461575942, 3257.4040999018093],\n",
       "  335: [21937.70868187833, 3261.7769697433505],\n",
       "  336: [21968.71829240415, 3266.1304075879366],\n",
       "  337: [21999.603946027593, 3270.4644913083903],\n",
       "  338: [22030.366139441114, 3274.7792984654984],\n",
       "  339: [22061.00536734693, 3279.074906309262],\n",
       "  340: [22091.522122464994, 3283.351391780144],\n",
       "  341: [22121.916895540933, 3287.608831510305],\n",
       "  342: [22152.190175353968, 3291.8473018248446],\n",
       "  343: [22182.34244872478, 3296.0668787430263],\n",
       "  344: [22212.37420052337, 3300.2676379795057],\n",
       "  345: [22242.285913676867, 3304.449654945551],\n",
       "  346: [22272.07806917732, 3308.6130047502584],\n",
       "  347: [22301.75114608945, 3312.7577622017616],\n",
       "  348: [22331.305621558364, 3316.8840018084406],\n",
       "  349: [22360.74197081726, 3320.99179778012],\n",
       "  350: [22390.060667195077, 3325.081224029267],\n",
       "  351: [22419.262182124137, 3329.1523541721817],\n",
       "  352: [22448.346985147735, 3333.2052615301855],\n",
       "  353: [22477.31554392771, 3337.240019130801],\n",
       "  354: [22506.16832425199, 3341.2566997089316],\n",
       "  355: [22534.905790042092, 3345.2553757080314],\n",
       "  356: [22563.528403360604, 3349.236119281275],\n",
       "  357: [22592.036624418637, 3353.1990022927203],\n",
       "  358: [22620.430911583244, 3357.144096318466],\n",
       "  359: [22648.7117213848, 3361.071472647807],\n",
       "  360: [22676.879508524373, 3364.9812022843817],\n",
       "  361: [22704.934725881045, 3368.8733559473185],\n",
       "  362: [22732.877824519222, 3372.7480040723754],\n",
       "  363: [22760.7092536959, 3376.605216813074],\n",
       "  364: [22788.429460867897, 3380.4450640418327],\n",
       "  365: [22816.038891699092, 3384.2676153510906],\n",
       "  366: [22843.537990067587, 3388.0729400544315],\n",
       "  367: [22870.927198072866, 3391.8611071877003],\n",
       "  368: [22898.20695604293, 3395.6321855101164],\n",
       "  369: [22925.37770254139, 3399.3862435053807],\n",
       "  370: [22952.43987437454, 3403.1233493827817],\n",
       "  371: [22979.39390659839, 3406.8435710782933],\n",
       "  372: [23006.24023252569, 3410.5469762556713],\n",
       "  373: [23032.97928373291, 3414.2336323075433],\n",
       "  374: [23059.6114900672, 3417.9036063564954],\n",
       "  375: [23086.137279653314, 3421.556965256154],\n",
       "  376: [23112.557078900518, 3425.193775592264],\n",
       "  377: [23138.87131250946, 3428.8141036837624],\n",
       "  378: [23165.080403479013, 3432.4180155838458],\n",
       "  379: [23191.184773113106, 3436.0055770810372],\n",
       "  380: [23217.184841027505, 3439.576853700246],\n",
       "  381: [23243.08102515658, 3443.131910703823],\n",
       "  382: [23268.873741760046, 3446.6708130926145],\n",
       "  383: [23294.563405429664, 3450.193625607008],\n",
       "  384: [23320.150429095935, 3453.7004127279783],\n",
       "  385: [23345.635224034748, 3457.1912386781246],\n",
       "  386: [23371.01819987402, 3460.666167422707],\n",
       "  387: [23396.299764600288, 3464.1252626706782],\n",
       "  388: [23421.4803245653, 3467.568587875709],\n",
       "  389: [23446.56028449255, 3470.9962062372124],\n",
       "  390: [23471.54004748381, 3474.4081807013617],\n",
       "  391: [23496.420015025633, 3477.8045739621066],\n",
       "  392: [23521.200586995812, 3481.1854484621813],\n",
       "  393: [23545.882161669844, 3484.550866394114],\n",
       "  394: [23570.465135727332, 3487.9008897012277],\n",
       "  395: [23594.949904258396, 3491.2355800786386],\n",
       "  396: [23619.336860770025, 3494.5549989742517],\n",
       "  397: [23643.626397192438, 3497.859207589751],\n",
       "  398: [23667.818903885393, 3501.148266881586],\n",
       "  399: [23691.914769644478, 3504.4222375619543],\n",
       "  400: [23715.914381707385, 3507.6811800997802],\n",
       "  401: [23739.81812576015, 3510.92515472169],\n",
       "  402: [23763.626385943364, 3514.154221412982],\n",
       "  403: [23787.339544858372, 3517.3684399185954],\n",
       "  404: [23810.957983573448, 3520.567869744071],\n",
       "  405: [23834.482081629918, 3523.752570156511],\n",
       "  406: [23857.9122170483, 3526.922600185536],\n",
       "  407: [23881.24876633438, 3530.078018624235],\n",
       "  408: [23904.4921044853, 3533.2188840301146],\n",
       "  409: [23927.64260499558, 3536.345254726041],\n",
       "  410: [23950.700639863164, 3539.4571888011815],\n",
       "  411: [23973.666579595396, 3542.5547441119415],\n",
       "  412: [23996.54079321501, 3545.6379782828963],\n",
       "  413: [24019.323648266058, 3548.706948707719],\n",
       "  414: [24042.015510819856, 3551.7617125501083],\n",
       "  415: [24064.616745480875, 3554.8023267447074],\n",
       "  416: [24087.12771539262, 3557.828847998024],\n",
       "  417: [24109.548782243484, 3560.8413327893422],\n",
       "  418: [24131.88030627258, 3563.8398373716354],\n",
       "  419: [24154.12264627554, 3566.824417772472],\n",
       "  420: [24176.27615961032, 3569.795129794917],\n",
       "  421: [24198.341202202933, 3572.752029018435],\n",
       "  422: [24220.31812855321, 3575.6951707997837],\n",
       "  423: [24242.207291740495, 3578.6246102739065],\n",
       "  424: [24264.00904342936, 3581.5404023548213],\n",
       "  425: [24285.72373387525, 3584.442601736507],\n",
       "  426: [24307.351711930147, 3587.3312628937847],\n",
       "  427: [24328.89332504819, 3590.2064400831937],\n",
       "  428: [24350.348919291264, 3593.0681873438693],\n",
       "  429: [24371.718839334593, 3595.9165584984125],\n",
       "  430: [24393.003428472293, 3598.7516071537575],\n",
       "  431: [24414.203028622902, 3601.573386702036],\n",
       "  432: [24435.317980334894, 3604.3819503214377],\n",
       "  433: [24456.34862279217, 3607.1773509770687],\n",
       "  434: [24477.295293819527, 3609.959641421804],\n",
       "  435: [24498.158329888098, 3612.7288741971383],\n",
       "  436: [24518.938066120783, 3615.485101634033],\n",
       "  437: [24539.63483629765, 3618.2283758537606],\n",
       "  438: [24560.24897286131, 3620.9587487687436],\n",
       "  439: [24580.780806922285, 3623.676272083392],\n",
       "  440: [24601.230668264336, 3626.3809972949375],\n",
       "  441: [24621.598885349784, 3629.072975694262],\n",
       "  442: [24641.885785324812, 3631.7522583667255],\n",
       "  443: [24662.091694024726, 3634.41889619299],\n",
       "  444: [24682.216935979217, 3637.072939849839],\n",
       "  445: [24702.261834417586, 3639.7144398109945],\n",
       "  446: [24722.22671127396, 3642.3434463479316],\n",
       "  447: [24742.11188719248, 3644.9600095306873],\n",
       "  448: [24761.91768153247, 3647.5641792286688],\n",
       "  449: [24781.644412373586, 3650.1560051114566],\n",
       "  450: [24801.292396520937, 3652.7355366496067],\n",
       "  451: [24820.861949510203, 3655.3028231154467],\n",
       "  452: [24840.353385612714, 3657.8579135838704],\n",
       "  453: [24859.767017840517, 3660.4008569331286],\n",
       "  454: [24879.103157951427, 3662.9317018456186],\n",
       "  455: [24898.36211645405, 3665.4504968086667],\n",
       "  456: [24917.54420261278, 3667.957290115312],\n",
       "  457: [24936.649724452796, 3670.452129865083],\n",
       "  458: [24955.67898876503, 3672.935063964774],\n",
       "  459: [24974.6323011111, 3675.4061401292183],\n",
       "  460: [24993.509965828245, 3677.8654058820553],\n",
       "  461: [25012.31228603422, 3680.3129085564983],\n",
       "  462: [25031.0395636322, 3682.7486952960962],\n",
       "  463: [25049.692099315635, 3685.172813055495],\n",
       "  464: [25068.2701925731, 3687.585308601194],\n",
       "  465: [25086.774141693124, 3689.9862285122986],\n",
       "  466: [25105.204243768992, 3692.375619181273],\n",
       "  467: [25123.560794703546, 3694.7535268146876],\n",
       "  468: [25141.844089213944, 3697.119997433963],\n",
       "  469: [25160.05442083642, 3699.4750768761123],\n",
       "  470: [25178.192081931003, 3701.8188107944807],\n",
       "  471: [25196.257363686254, 3704.1512446594807],\n",
       "  472: [25214.25055612393, 3706.472423759325],\n",
       "  473: [25232.171948103685, 3708.7823932007577],\n",
       "  474: [25250.021827327706, 3711.0811979097803],\n",
       "  475: [25267.800480345366, 3713.368882632376],\n",
       "  476: [25285.50819255784, 3715.6454919352313],\n",
       "  477: [25303.145248222703, 3717.911070206455],\n",
       "  478: [25320.711930458507, 3720.1656616562927],\n",
       "  479: [25338.20852124936, 3722.4093103178407],\n",
       "  480: [25355.635301449456, 3724.642060047754],\n",
       "  481: [25372.992550787614, 3726.8639545269557],\n",
       "  482: [25390.28054787178, 3729.075037261339],\n",
       "  483: [25407.499570193522, 3731.2753515824697],\n",
       "  484: [25424.649894132504, 3733.464940648285],\n",
       "  485: [25441.73179496094, 3735.6438474437878],\n",
       "  486: [25458.745546848026, 3737.8121147817415],\n",
       "  487: [25475.691422864373, 3739.969785303358],\n",
       "  488: [25492.5696949864, 3742.116901478988],\n",
       "  489: [25509.38063410071, 3744.2535056088022],\n",
       "  490: [25526.12451000848, 3746.3796398234763],\n",
       "  491: [25542.80159142979, 3748.495346084868],\n",
       "  492: [25559.412146007962, 3750.600666186694],\n",
       "  493: [25575.956440313872, 3752.6956417552055],\n",
       "  494: [25592.434739850258, 3754.7803142498565],\n",
       "  495: [25608.847309055982, 3756.8547249639737],\n",
       "  496: [25625.194411310305, 3758.918915025422],\n",
       "  497: [25641.476308937134, 3760.9729253972673],\n",
       "  498: [25657.693263209247, 3763.0167968784367],\n",
       "  499: [25673.8455343525, 3765.0505701043767],\n",
       "  500: [25689.93338155003, 3767.0742855477083],\n",
       "  501: [25705.957062946432, 3769.0879835188784],\n",
       "  502: [25721.91683565192, 3771.0917041668113],\n",
       "  503: [25737.81295574646, 3773.0854874795536],\n",
       "  504: [25753.64567828392, 3775.0693732849218],\n",
       "  505: [25769.415257296165, 3777.0434012511414],\n",
       "  506: [25785.12194579716, 3779.0076108874887],\n",
       "  507: [25800.765995787042, 3780.9620415449263],\n",
       "  508: [25816.347658256193, 3782.906732416738],\n",
       "  509: [25831.867183189268, 3784.841722539161],\n",
       "  510: [25847.324819569247, 3786.7670507920134],\n",
       "  511: [25862.720815381435, 3788.6827558993236],\n",
       "  512: [25878.055417617463, 3790.5888764299525],\n",
       "  513: [25893.328872279268, 3792.4854507982163],\n",
       "  514: [25908.54142438306, 3794.3725172645054],\n",
       "  515: [25923.693317963272, 3796.2501139359015],\n",
       "  516: [25938.784796076496, 3798.118278766791],\n",
       "  517: [25953.816100805398, 3799.977049559477],\n",
       "  518: [25968.78747326262, 3801.826463964791],\n",
       "  519: [25983.69915359467, 3803.6665594826964],\n",
       "  520: [25998.551380985788, 3805.4973734628957],\n",
       "  521: [26013.344393661813, 3807.31894310543],\n",
       "  522: [26028.078428894012, 3809.1313054612824],\n",
       "  523: [26042.75372300291, 3810.9344974329715],\n",
       "  524: [26057.37051136209, 3812.728555775148],\n",
       "  525: [26071.929028402006, 3814.5135170951876],\n",
       "  526: [26086.429507613753, 3816.289417853781],\n",
       "  527: [26100.872181552822, 3818.0562943655195],\n",
       "  528: [26115.25728184286, 3819.8141827994846],\n",
       "  529: [26129.5850391794, 3821.563119179827],\n",
       "  530: [26143.855683333586, 3823.30313938635],\n",
       "  531: [26158.069443155862, 3825.0342791550856],\n",
       "  532: [26172.22654657968, 3826.7565740788737],\n",
       "  533: [26186.32722062516, 3828.4700596079324],\n",
       "  534: [26200.37169140276, 3830.174771050432],\n",
       "  535: [26214.36018411691, 3831.870743573063],\n",
       "  536: [26228.292923069654, 3833.5580122016036],\n",
       "  537: [26242.17013166425, 3835.236611821484],\n",
       "  538: [26255.992032408798, 3836.906577178349],\n",
       "  539: [26269.758846919798, 3838.5679428786175],\n",
       "  540: [26283.47079592574, 3840.220743390041],\n",
       "  541: [26297.128099270652, 3841.8650130422598],\n",
       "  542: [26310.73097591766, 3843.5007860273545],\n",
       "  543: [26324.2796439525, 3845.128096400399],\n",
       "  544: [26337.774320587043, 3846.746978080009],\n",
       "  545: [26351.215222162795, 3848.357464848888],\n",
       "  546: [26364.602564154382, 3849.9595903543736],\n",
       "  547: [26377.936561173025, 3851.553388108978],\n",
       "  548: [26391.217426970004, 3853.13889149093],\n",
       "  549: [26404.4453744401, 3854.7161337447105],\n",
       "  550: [26417.620615625023, 3856.285147981592],\n",
       "  551: [26430.743361716835, 3857.8459671801697],\n",
       "  552: [26443.81382306136, 3859.398624186894],\n",
       "  553: [26456.83220916156, 3860.943151716599],\n",
       "  554: [26469.79872868093, 3862.479582353032],\n",
       "  555: [26482.713589446845, 3864.0079485493775],\n",
       "  556: [26495.576998453922, 3865.52828262878],\n",
       "  557: [26508.38916186735, 3867.040616784865],\n",
       "  558: [26521.150285026222, 3868.5449830822595],\n",
       "  559: [26533.860572446836, 3870.0414134571074],\n",
       "  560: [26546.520227825997, 3871.5299397175845],\n",
       "  561: [26559.129454044294, 3873.010593544412],\n",
       "  562: [26571.688453169383, 3874.483406491367],\n",
       "  563: [26584.197426459235, 3875.9484099857905],\n",
       "  564: [26596.65657436538, 3877.405635329094],\n",
       "  565: [26609.066096536146, 3878.8551136972656],\n",
       "  566: [26621.426191819868, 3880.296876141371],\n",
       "  567: [26633.7370582681, 3881.7309535880545],\n",
       "  568: [26645.998893138803, 3883.157376840038],\n",
       "  569: [26658.211892899533, 3884.576176576617],\n",
       "  570: [26670.3762532306, 3885.987383354155],\n",
       "  571: [26682.49216902822, 3887.3910276065776],\n",
       "  572: [26694.55983440767, 3888.787139645861],\n",
       "  573: [26706.57944270641, 3890.175749662521],\n",
       "  574: [26718.55118648719, 3891.556887726102],\n",
       "  575: [26730.475257541173, 3892.930583785659],\n",
       "  576: [26742.35184689101, 3894.2968676702417],\n",
       "  577: [26754.181144793933, 3895.6557690893746],\n",
       "  578: [26765.963340744805, 3897.0073176335377],\n",
       "  579: [26777.6986234792, 3898.3515427746406],\n",
       "  580: [26789.387180976417, 3899.6884738665008],\n",
       "  581: [26801.029200462533, 3901.018140145314],\n",
       "  582: [26812.624868413408, 3902.3405707301276],\n",
       "  583: [26824.1743705577, 3903.6557946233092],\n",
       "  584: [26835.677891879845, 3904.9638407110137],\n",
       "  585: [26847.135616623058, 3906.2647377636504],\n",
       "  586: [26858.54772829229, 3907.558514436345],\n",
       "  587: [26869.91440965719, 3908.8451992694027],\n",
       "  588: [26881.235842755053, 3910.1248206887676],\n",
       "  589: [26892.51220889375, 3911.3974070064824],\n",
       "  590: [26903.74368865465, 3912.6629864211427],\n",
       "  591: [26914.930461895543, 3913.921587018353],\n",
       "  592: [26926.072707753527, 3915.173236771179],\n",
       "  593: [26937.170604647898, 3916.4179635405985],\n",
       "  594: [26948.22433028303, 3917.655795075951],\n",
       "  595: [26959.234061651234, 3918.8867590153845],\n",
       "  596: [26970.199975035623, 3920.110882886301],\n",
       "  597: [26981.12224601294, 3921.328194105801],\n",
       "  598: [26992.00104945639, 3922.538719981124],\n",
       "  599: [27002.836559538475, 3923.7424877100902],\n",
       "  600: [27013.628949733775, 3924.9395243815393],\n",
       "  601: [27024.37839282177, 3926.129856975765],\n",
       "  602: [27035.085060889614, 3927.3135123649517],\n",
       "  603: [27045.749125334907, 3928.490517313607],\n",
       "  604: [27056.37075686846, 3929.660898478994],\n",
       "  605: [27066.950125517043, 3930.82468241156],\n",
       "  606: [27077.487400626145, 3931.981895555364],\n",
       "  607: [27087.982750862677, 3933.1325642485062],\n",
       "  608: [27098.43634421771, 3934.276714723548],\n",
       "  609: [27108.84834800917, 3935.414373107939],\n",
       "  610: [27119.218928884555, 3936.5455654244347],\n",
       "  611: [27129.54825282359, 3937.670317591519],\n",
       "  612: [27139.836485140942, 3938.78865542382],\n",
       "  613: [27150.083790488847, 3939.9006046325267],\n",
       "  614: [27160.290332859786, 3941.0061908258044],\n",
       "  615: [27170.456275589127, 3942.1054395092065],\n",
       "  616: [27180.581781357756, 3943.1983760860853],\n",
       "  617: [27190.667012194695, 3944.2850258580024],\n",
       "  618: [27200.71212947972, 3945.3654140251365],\n",
       "  619: [27210.71729394596, 3946.4395656866895],\n",
       "  620: [27220.682665682485, 3947.507505841291],\n",
       "  621: [27230.608404136892, 3948.5692593874005],\n",
       "  622: [27240.494668117874, 3949.6248511237113],\n",
       "  623: [27250.341615797777, 3950.674305749547],\n",
       "  624: [27260.149404715157, 3951.717647865262],\n",
       "  625: [27269.918191777313, 3952.754901972637],\n",
       "  626: [27279.648133262817, 3953.786092475275],\n",
       "  627: [27289.339384824034, 3954.811243678993],\n",
       "  628: [27298.99210148963, 3955.830379792216],\n",
       "  629: [27308.606437667084, 3956.8435249263644],\n",
       "  630: [27318.18254714515, 3957.8507030962464],\n",
       "  631: [27327.72058309636, 3958.8519382204418],\n",
       "  632: [27337.22069807949, 3959.847254121689],\n",
       "  633: [27346.68304404201, 3960.8366745272688],\n",
       "  634: [27356.10777232253, 3961.820223069388],\n",
       "  635: [27365.495033653267, 3962.7979232855578],\n",
       "  636: [27374.84497816244, 3963.7697986189764],\n",
       "  637: [27384.157755376713, 3964.7358724189044],\n",
       "  638: [27393.433514223594, 3965.6961679410424],\n",
       "  639: [27402.672403033845, 3966.650708347906],\n",
       "  640: [27411.874569543863, 3967.599516709198],\n",
       "  641: [27421.040160898076, 3968.5426160021816],\n",
       "  642: [27430.169323651295, 3969.4800291120505],\n",
       "  643: [27439.262203771093, 3970.4117788322974],\n",
       "  644: [27448.318946640153, 3971.337887865082],\n",
       "  645: [27457.33969705861, 3972.2583788215957],\n",
       "  646: [27466.324599246393, 3973.1732742224285],\n",
       "  647: [27475.27379684553, 3974.08259649793],\n",
       "  648: [27484.187432922485, 3974.9863679885707],\n",
       "  649: [27493.06564997046, 3975.8846109453043],\n",
       "  650: [27501.908589911684, 3976.777347529925],\n",
       "  651: [27510.7163940997, 3977.6645998154245],\n",
       "  652: [27519.489203321664, 3978.546389786348],\n",
       "  653: [27528.227157800582, 3979.4227393391493],\n",
       "  654: [27536.9303971976, 3980.2936702825436],\n",
       "  655: [27545.599060614237, 3981.1592043378582],\n",
       "  656: [27554.233286594637, 3982.019363139383],\n",
       "  657: [27562.8332131278, 3982.874168234721],\n",
       "  658: [27571.398977649806, 3983.723641085132],\n",
       "  659: [27579.930717046027, 3984.5678030658823],\n",
       "  660: [27588.428567653336, 3985.4066754665873],\n",
       "  661: [27596.892665262312, 3986.240279491555],\n",
       "  662: [27605.323145119415, 3987.0686362601286],\n",
       "  663: [27613.72014192918, 3987.8917668070253],\n",
       "  664: [27622.083789856384, 3988.7096920826766],\n",
       "  665: [27630.414222528198, 3989.5224329535663],\n",
       "  666: [27638.71157303636, 3990.330010202566],\n",
       "  667: [27646.975973939305, 3991.1324445292707],\n",
       "  668: [27655.20755726431, 3991.9297565503325],\n",
       "  669: [27663.406454509623, 3992.721966799792],\n",
       "  670: [27671.572796646575, 3993.509095729411],\n",
       "  671: [27679.706714121698, 3994.291163709001],\n",
       "  672: [27687.80833685883, 3995.0681910267517],\n",
       "  673: [27695.8777942612, 3995.8401978895586],\n",
       "  674: [27703.915215213525, 3996.607204423348],\n",
       "  675: [27711.92072808408, 3997.3692306734015],\n",
       "  676: [27719.894460726766, 3998.12629660468],\n",
       "  677: [27727.836540483182, 3998.878422102145],\n",
       "  678: [27735.747094184666, 3999.625626971079],\n",
       "  679: [27743.626248154345, 4000.3679309374043],\n",
       "  680: [27751.474128209175, 4001.1053536480026],\n",
       "  681: [27759.290859661956, 4001.837914671031],\n",
       "  682: [27767.076567323373, 4002.5656334962355],\n",
       "  683: [27774.831375503985, 4003.288529535268],\n",
       "  684: [27782.555408016244, 4004.0066221219986],\n",
       "  685: [27790.24878817649, 4004.7199305128256],\n",
       "  686: [27797.91163880693, 4005.428473886988],\n",
       "  687: [27805.54408223763, 4006.1322713468726],\n",
       "  688: [27813.146240308477, 4006.831341918325],\n",
       "  689: [27820.718234371147, 4007.525704550953],\n",
       "  690: [27828.260185291063, 4008.2153781184334],\n",
       "  691: [27835.77221344934, 4008.900381418817],\n",
       "  692: [27843.25443874473, 4009.5807331748306],\n",
       "  693: [27850.70698059555, 4010.25645203418],\n",
       "  694: [27858.129957941608, 4010.927556569848],\n",
       "  695: [27865.523489246123, 4011.5940652803984],\n",
       "  696: [27872.887692497636, 4012.2559965902688],\n",
       "  697: [27880.222685211902, 4012.9133688500715],\n",
       "  698: [27887.5285844338, 4013.566200336888],\n",
       "  699: [27894.805506739205, 4014.2145092545634],\n",
       "  700: [27902.05356823688, 4014.858313734],\n",
       "  701: [27909.272884570335, 4015.497631833451],\n",
       "  702: [27916.463570919706, 4016.132481538809],\n",
       "  703: [27923.625742003594, 4016.762880763897],\n",
       "  704: [27930.75951208093, 4017.388847350759],\n",
       "  705: [27937.864994952808, 4018.0103990699454],\n",
       "  706: [27944.942303964326, 4018.6275536207995],\n",
       "  707: [27951.991552006406, 4019.2403286317444],\n",
       "  708: [27959.012851517615, 4019.848741660566],\n",
       "  709: [27966.00631448599, 4020.4528101946953],\n",
       "  710: [27972.97205245082, 4021.052551651493],\n",
       "  711: [27979.91017650447, 4021.6479833785284],\n",
       "  712: [27986.82079729415, 4022.2391226538575],\n",
       "  713: [27993.70402502371, 4022.8259866863054],\n",
       "  714: [28000.55996945542, 4023.4085926157404],\n",
       "  715: [28007.388739911723, 4023.9869575133516],\n",
       "  716: [28014.19044527702, 4024.5610983819242],\n",
       "  717: [28020.965193999407, 4025.1310321561136],\n",
       "  718: [28027.713094092433, 4025.6967757027182],\n",
       "  719: [28034.43425313683, 4026.2583458209506],\n",
       "  720: [28041.12877828227, 4026.8157592427096],\n",
       "  721: [28047.79677624906, 4027.3690326328497],\n",
       "  722: [28054.438353329893, 4027.918182589449],\n",
       "  723: [28061.053615391545, 4028.4632256440773],\n",
       "  724: [28067.642667876582, 4029.004178262063],\n",
       "  725: [28074.205615805065, 4029.541056842757],\n",
       "  726: [28080.742563776243, 4030.0738777197994],\n",
       "  727: [28087.253615970232, 4030.6026571613816],\n",
       "  728: [28093.738876149706, 4031.127411370507],\n",
       "  729: [28100.198447661558, 4031.6481564852556],\n",
       "  730: [28106.63243343857, 4032.1649085790405],\n",
       "  731: [28113.04093600108, 4032.67768366087],\n",
       "  732: [28119.424057458626, 4033.186497675604],\n",
       "  733: [28125.781899511585, 4033.6913665042116],\n",
       "  734: [28132.114563452837, 4034.1923059640267],\n",
       "  735: [28138.422150169372, 4034.6893318090038],\n",
       "  736: [28144.70476014393, 4035.182459729971],\n",
       "  737: [28150.96249345662, 4035.6717053548837],\n",
       "  738: [28157.195449786526, 4036.157084249076],\n",
       "  739: [28163.403728413326, 4036.638611915512],\n",
       "  740: [28169.58742821888, 4037.116303795035],\n",
       "  741: [28175.746647688833, 4037.590175266618],\n",
       "  742: [28181.881484914196, 4038.0602416476104],\n",
       "  743: [28187.992037592932, 4038.526518193984],\n",
       "  744: [28194.07840303153, 4038.989020100581],\n",
       "  745: [28200.14067814657, 4039.447762501358],\n",
       "  746: [28206.17895946629, 4039.9027604696294],\n",
       "  747: [28212.19334313215, 4040.354029018312],\n",
       "  748: [28218.183924900353, 4040.801583100165],\n",
       "  749: [28224.150800143423, 4041.245437608032],\n",
       "  750: [28230.094063851724, 4041.685607375082],\n",
       "  751: [28236.01381063499, 4042.1221071750465],\n",
       "  752: [28241.910134723865, 4042.55495172246],\n",
       "  753: [28247.783129971398, 4042.9841556728948],\n",
       "  754: [28253.63288985458, 4043.4097336231994],\n",
       "  755: [28259.45950747584, 4043.8317001117325],\n",
       "  756: [28265.263075564544, 4044.2500696185975],\n",
       "  757: [28271.043686478493, 4044.6648565658766],\n",
       "  758: [28276.80143220541, 4045.076075317862],\n",
       "  759: [28282.536404364433, 4045.4837401812892],\n",
       "  760: [28288.248694207567, 4045.8878654055666],\n",
       "  761: [28293.938392621185, 4046.288465183005],\n",
       "  762: [28299.605590127474, 4046.6855536490466],\n",
       "  763: [28305.250376885902, 4047.0791448824934],\n",
       "  764: [28310.872842694665, 4047.469252905734],\n",
       "  765: [28316.473076992144, 4047.855891684969],\n",
       "  766: [28322.05116885834, 4048.239075130436],\n",
       "  767: [28327.607207016306, 4048.6188170966357],\n",
       "  768: [28333.141279833588, 4048.995131382553],\n",
       "  769: [28338.653475323645, 4049.368031731881],\n",
       "  770: [28344.14388114726, 4049.7375318332406],\n",
       "  771: [28349.612584613973, 4050.103645320404],\n",
       "  772: [28355.059672683463, 4050.466385772513],\n",
       "  773: [28360.48523196697, 4050.825766714297],\n",
       "  774: [28365.88934872868, 4051.181801616292],\n",
       "  775: [28371.272108887126, 4051.534503895058],\n",
       "  776: [28376.633598016557, 4051.8838869133956],\n",
       "  777: [28381.97390134833, 4052.229963980559],\n",
       "  778: [28387.293103772285, 4052.5727483524747],\n",
       "  779: [28392.591289838107, 4052.9122532319507],\n",
       "  780: [28397.86854375669, 4053.248491768892],\n",
       "  781: [28403.124949401496, 4053.581477060513],\n",
       "  782: [28408.360590309912, 4053.9112221515466],\n",
       "  783: [28413.575549684585, 4054.2377400344562],\n",
       "  784: [28418.769910394774, 4054.5610436496445],\n",
       "  785: [28423.943754977678, 4054.881145885661],\n",
       "  786: [28429.097165639774, 4055.198059579413],\n",
       "  787: [28434.23022425814, 4055.5117975163685],\n",
       "  788: [28439.34301238177, 4055.822372430765],\n",
       "  789: [28444.435611232893, 4056.129797005814],\n",
       "  790: [28449.50810170828, 4056.4340838739054],\n",
       "  791: [28454.560564380557, 4056.735245616811],\n",
       "  792: [28459.593079499486, 4057.033294765888],\n",
       "  793: [28464.60572699327, 4057.3282438022807],\n",
       "  794: [28469.598586469856, 4057.6201051571206],\n",
       "  795: [28474.571737218183, 4057.9088912117286],\n",
       "  796: [28479.525258209487, 4058.1946142978136],\n",
       "  797: [28484.459228098574, 4058.4772866976714],\n",
       "  798: [28489.373725225076, 4058.7569206443823],\n",
       "  799: [28494.268827614713, 4059.0335283220093],\n",
       "  800: [28499.144612980566, 4059.3071218657938],\n",
       "  801: [28504.00115872432, 4059.5777133623515],\n",
       "  802: [28508.838541937508, 4059.845314849867],\n",
       "  803: [28513.656839402756, 4060.109938318288],\n",
       "  804: [28518.456127595033, 4060.3715957095187],\n",
       "  805: [28523.236482682863, 4060.630298917612],\n",
       "  806: [28527.99798052957, 4060.886059788961],\n",
       "  807: [28532.74069669449, 4061.1388901224914],\n",
       "  808: [28537.4647064342, 4061.3888016698497],\n",
       "  809: [28542.170084703717, 4061.6358061355945],\n",
       "  810: [28546.856906157722, 4061.879915177384],\n",
       "  811: [28551.525245151748, 4062.1211404061646],\n",
       "  812: [28556.175175743392, 4062.3594933863565],\n",
       "  813: [28560.8067716935, 4062.5949856360426],\n",
       "  814: [28565.42010646736, 4062.8276286271525],\n",
       "  815: [28570.015253235888, 4063.057433785648],\n",
       "  816: [28574.592284876802, 4063.2844124917065],\n",
       "  817: [28579.1512739758, 4063.508576079906],\n",
       "  818: [28583.692292827727, 4063.729935839407],\n",
       "  819: [28588.21541343775, 4063.948503014134],\n",
       "  820: [28592.720707522505, 4064.164288802957],\n",
       "  821: [28597.20824651127, 4064.377304359872],\n",
       "  822: [28601.6781015471, 4064.587560794182],\n",
       "  823: [28606.130343487977, 4064.7950691706747],\n",
       "  824: [28610.565042907965, 4064.999840509801],\n",
       "  825: [28614.98227009833, 4065.2018857878525],\n",
       "  826: [28619.38209506869, 4065.40121593714],\n",
       "  827: [28623.76458754813, 4065.597841846168],\n",
       "  828: [28628.12981698633, 4065.7917743598114],\n",
       "  829: [28632.47785255469, 4065.9830242794887],\n",
       "  830: [28636.808763147437, 4066.171602363338],\n",
       "  831: [28641.122617382745, 4066.357519326389],\n",
       "  832: [28645.41948360383, 4066.5407858407375],\n",
       "  833: [28649.69942988006, 4066.7214125357154],\n",
       "  834: [28653.962524008053, 4066.8994099980628],\n",
       "  835: [28658.208833512763, 4067.074788772099],\n",
       "  836: [28662.438425648572, 4067.247559359893],\n",
       "  837: [28666.651367400376, 4067.4177322214314],\n",
       "  838: [28670.847725484662, 4067.5853177747877],\n",
       "  839: [28675.02756635059, 4067.7503263962903],\n",
       "  840: [28679.190956181046, 4067.9127684206896],\n",
       "  841: [28683.33796089374, 4068.0726541413255],\n",
       "  842: [28687.468646142235, 4068.2299938102915],\n",
       "  843: [28691.58307731703, 4068.384797638602],\n",
       "  844: [28695.681319546602, 4068.537075796355],\n",
       "  845: [28699.763437698457, 4068.686838412898],\n",
       "  846: [28703.82949638018, 4068.8340955769895],\n",
       "  847: [28707.87955994048, 4068.978857336963],\n",
       "  848: [28711.913692470207, 4069.121133700887],\n",
       "  849: [28715.931957803412, 4069.2609346367303],\n",
       "  850: [28719.93441951836, 4069.398270072518],\n",
       "  851: [28723.921140938557, 4069.533149896494],\n",
       "  852: [28727.892185133776, 4069.6655839572804],\n",
       "  853: [28731.847614921066, 4069.795582064037],\n",
       "  854: [28735.787492865773, 4069.923153986616],\n",
       "  855: [28739.71188128254, 4070.048309455724],\n",
       "  856: [28743.62084223632, 4070.1710581630755],\n",
       "  857: [28747.51443754337, 4070.2914097615508],\n",
       "  858: [28751.39272877225, 4070.4093738653514],\n",
       "  859: [28755.255777244816, 4070.5249600501543],\n",
       "  860: [28759.103644037208, 4070.6381778532673],\n",
       "  861: [28762.936389980838, 4070.749036773782],\n",
       "  862: [28766.75407566336, 4070.857546272727],\n",
       "  863: [28770.55676142966, 4070.9637157732213],\n",
       "  864: [28774.34450738282, 4071.067554660625],\n",
       "  865: [28778.117373385092, 4071.1690722826906],\n",
       "  866: [28781.87541905886, 4071.2682779497154],\n",
       "  867: [28785.618703787597, 4071.3651809346898],\n",
       "  868: [28789.347286716835, 4071.4597904734474],\n",
       "  869: [28793.061226755104, 4071.5521157648136],\n",
       "  870: [28796.76058257489, 4071.642165970755],\n",
       "  871: [28800.445412613582, 4071.729950216525],\n",
       "  872: [28804.11577507441, 4071.815477590814],\n",
       "  873: [28807.77172792738, 4071.8987571458924],\n",
       "  874: [28811.413328910217, 4071.979797897759],\n",
       "  875: [28815.04063552929, 4072.058608826285],\n",
       "  876: [28818.653705060544, 4072.13519887536],\n",
       "  877: [28822.252594550417, 4072.209576953035],\n",
       "  878: [28825.83736081676, 4072.2817519316673],\n",
       "  879: [28829.40806044976, 4072.3517326480614],\n",
       "  880: [28832.96474981285, 4072.419527903614],\n",
       "  881: [28836.507485043607, 4072.4851464644535],\n",
       "  882: [28840.03632205467, 4072.5485970615837],\n",
       "  883: [28843.551316534642, 4072.6098883910227],\n",
       "  884: [28847.05252394897, 4072.6690291139435],\n",
       "  885: [28850.539999540862, 4072.7260278568147],\n",
       "  886: [28854.013798332166, 4072.7808932115377],\n",
       "  887: [28857.473975124252, 4072.8336337355863],\n",
       "  888: [28860.92058449891, 4072.8842579521456],\n",
       "  889: [28864.353680819208, 4072.932774350247],\n",
       "  890: [28867.7733182304, 4072.9791913849076],\n",
       "  891: [28871.179550660767, 4073.0235174772647],\n",
       "  892: [28874.572431822507, 4073.065761014712],\n",
       "  893: [28877.95201521259, 4073.1059303510347],\n",
       "  894: [28881.318354113628, 4073.144033806546],\n",
       "  895: [28884.671501594723, 4073.1800796682173],\n",
       "  896: [28888.011510512333, 4073.2140761898163],\n",
       "  897: [28891.338433511126, 4073.246031592037],\n",
       "  898: [28894.65232302482, 4073.275954062633],\n",
       "  899: [28897.95323127703, 4073.3038517565496],\n",
       "  900: [28901.241210282114, 4073.329732796056],\n",
       "  901: [28904.516311846008, 4073.3536052708746],\n",
       "  902: [28907.77858756706, 4073.3754772383127],\n",
       "  903: [28911.02808883687, 4073.395356723392],\n",
       "  904: [28914.264866841106, 4073.4132517189787],\n",
       "  905: [28917.48897256034, 4073.42917018591],\n",
       "  906: [28920.70045677086, 4073.4431200531258],\n",
       "  907: [28923.899370045503, 4073.4551092177935],\n",
       "  908: [28927.085762754454, 4073.4651455454377],\n",
       "  909: [28930.259685066067, 4073.473236870065],\n",
       "  910: [28933.42118694767, 4073.479390994292],\n",
       "  911: [28936.570318166378, 4073.4836156894685],\n",
       "  912: [28939.707128289883, 4073.485918695807],\n",
       "  913: [28942.831666687267, 4073.486307722503],\n",
       "  914: [28945.943982529785, 4073.4847904478634],\n",
       "  915: [28949.044124791668, 4073.4813745194256],\n",
       "  916: [28952.132142250903, 4073.476067554085],\n",
       "  917: [28955.208083490026, 4073.4688771382166],\n",
       "  918: [28958.271996896907, 4073.459810827795],\n",
       "  919: [28961.32393066552, 4073.44887614852],\n",
       "  920: [28964.36393279673, 4073.4360805959345],\n",
       "  921: [28967.39205109906, 4073.421431635548],\n",
       "  922: [28970.408333189473, 4073.4049367029543],\n",
       "  923: [28973.41282649412, 4073.386603203954],\n",
       "  924: [28976.405578249127, 4073.3664385146726],\n",
       "  925: [28979.386635501338, 4073.3444499816787],\n",
       "  926: [28982.35604510908, 4073.3206449221043],\n",
       "  927: [28985.31385374293, 4073.2950306237612],\n",
       "  928: [28988.26010788644, 4073.2676143452586],\n",
       "  929: [28991.194853836914, 4073.238403316121],\n",
       "  930: [28994.118137706144, 4073.2074047369047],\n",
       "  931: [28997.030005421148, 4073.174625779312],\n",
       "  932: [28999.930502724914, 4073.1400735863094],\n",
       "  933: [29002.819675177143, 4073.1037552722414],\n",
       "  934: [29005.697568154977, 4073.065677922945],\n",
       "  935: [29008.564226853734, 4073.0258485958643],\n",
       "  936: [29011.41969628763, 4072.984274320165],\n",
       "  937: [29014.264021290513, 4072.9409620968454],\n",
       "  938: [29017.097246516583, 4072.895918898853],\n",
       "  939: [29019.91941644111, 4072.8491516711924],\n",
       "  940: [29022.730575361147, 4072.800667331042],\n",
       "  941: [29025.53076739626, 4072.750472767861],\n",
       "  942: [29028.320036489222, 4072.698574843504],\n",
       "  943: [29031.098426406727, 4072.644980392329],\n",
       "  944: [29033.865980740098, 4072.58969622131],\n",
       "  945: [29036.62274290599, 4072.532729110145],\n",
       "  946: [29039.368756147083, 4072.474085811365],\n",
       "  947: [29042.104063532788, 4072.413773050445],\n",
       "  948: [29044.828707959936, 4072.35179752591],\n",
       "  949: [29047.542732153473, 4072.288165909445],\n",
       "  950: [29050.246178667145, 4072.2228848460004],\n",
       "  951: [29052.939089884185, 4072.1559609539013],\n",
       "  952: [29055.621508017997, 4072.0874008249525],\n",
       "  953: [29058.293475112838, 4072.017211024546],\n",
       "  954: [29060.95503304449, 4071.9453980917665],\n",
       "  955: [29063.606223520947, 4071.871968539496],\n",
       "  956: [29066.24708808307, 4071.7969288545196],\n",
       "  957: [29068.877668105273, 4071.72028549763],\n",
       "  958: [29071.49800479618, 4071.6420449037314],\n",
       "  959: [29074.108139199296, 4071.5622134819437],\n",
       "  960: [29076.70811219366, 4071.480797615705],\n",
       "  961: [29079.29796449452, 4071.3978036628755],\n",
       "  962: [29081.87773665396, 4071.313237955839],\n",
       "  963: [29084.44746906159, 4071.227106801606],\n",
       "  964: [29087.00720194517, 4071.1394164819144],\n",
       "  965: [29089.55697537127, 4071.0501732533307],\n",
       "  966: [29092.096829245915, 4070.9593833473527],\n",
       "  967: [29094.626803315223, 4070.867052970508],\n",
       "  968: [29097.146937166053, 4070.7731883044544],\n",
       "  969: [29099.657270226642, 4070.67779550608],\n",
       "  970: [29102.157841767235, 4070.580880707603],\n",
       "  971: [29104.64869090072, 4070.482450016668],\n",
       "  972: [29107.12985658327, 4070.3825095164475],\n",
       "  973: [29109.601377614945, 4070.2810652657395],\n",
       "  974: [29112.063292640345, 4070.1781232990634],\n",
       "  975: [29114.51564014922, 4070.073689626758],\n",
       "  976: [29116.958458477093, 4069.96777023508],\n",
       "  977: [29119.391785805874, 4069.860371086298],\n",
       "  978: [29121.815660164477, 4069.75149811879],\n",
       "  979: [29124.23011942944, 4069.6411572471397],\n",
       "  980: [29126.635201325527, 4069.52935436223],\n",
       "  981: [29129.030943426336, 4069.4160953313403],\n",
       "  982: [29131.417383154916, 4069.3013859982384],\n",
       "  983: [29133.794557784357, 4069.1852321832775],\n",
       "  984: [29136.162504438395, 4069.067639683488],\n",
       "  985: [29138.521260092013, 4068.9486142726714],\n",
       "  986: [29140.87086157204, 4068.828161701494],\n",
       "  987: [29143.211345557735, 4068.7062876975797],\n",
       "  988: [29145.542748581385, 4068.5829979656005],\n",
       "  989: [29147.865107028894, 4068.458298187371],\n",
       "  990: [29150.178457140366, 4068.332194021938],\n",
       "  991: [29152.482835010695, 4068.204691105673],\n",
       "  992: [29154.778276590136, 4068.075795052363],\n",
       "  993: [29157.0648176849, 4067.945511453299],\n",
       "  994: [29159.342493957716, 4067.813845877369],\n",
       "  995: [29161.61134092842, 4067.680803871147],\n",
       "  996: [29163.87139397451, 4067.5463909589803],\n",
       "  997: [29166.12268833174, 4067.4106126430815],\n",
       "  998: [29168.365259094666, 4067.273474403615],\n",
       "  999: [29170.599141217222, 4067.134981698787],\n",
       "  1000: [29172.824369513284, 4066.995139964932]},\n",
       " array([[1.00000000e+00, 1.94167390e+10],\n",
       "        [2.00000000e+00, 1.92725983e+10],\n",
       "        [3.00000000e+00, 1.91296104e+10],\n",
       "        ...,\n",
       "        [9.98000000e+02, 1.39844656e+09],\n",
       "        [9.99000000e+02, 1.39839618e+09],\n",
       "        [1.00000000e+03, 1.39834618e+09]]))"
      ]
     },
     "execution_count": 548,
     "metadata": {},
     "output_type": "execute_result"
    }
   ],
   "source": [
    "x = OverallQual\n",
    "y = SalesPrice\n",
    "modelo_lineal(OverallQual,SalesPrice,1000,0,0.0001)"
   ]
  },
  {
   "cell_type": "markdown",
   "metadata": {},
   "source": [
    "### Error del modelo en el tiempo"
   ]
  },
  {
   "cell_type": "code",
   "execution_count": 549,
   "metadata": {},
   "outputs": [],
   "source": [
    "resultado = modelo_lineal(OverallQual,SalesPrice,1000,0,0.0001)\n",
    "# extraer los resultados de la tupla de la función\n",
    "dict_modelo = resultado[0]\n",
    "vector_errores = resultado[1]"
   ]
  },
  {
   "cell_type": "code",
   "execution_count": 550,
   "metadata": {},
   "outputs": [],
   "source": [
    "def graficar_error(vector_errores):\n",
    "    plt.plot(vector_errores[:,0],vector_errores[:,1],color = 'r')\n",
    "    plt.xlabel('Iteraciones')\n",
    "    plt.ylabel('Error promedio')\n",
    "    plt.title('Curva de aprendizaje')\n",
    "    plt.show()   "
   ]
  },
  {
   "cell_type": "code",
   "execution_count": 551,
   "metadata": {},
   "outputs": [
    {
     "data": {
      "image/png": "[encoded data removed]",
      "text/plain": [
       "<Figure size 432x288 with 1 Axes>"
      ]
     },
     "metadata": {
      "needs_background": "light"
     },
     "output_type": "display_data"
    }
   ],
   "source": [
    "graficar_error(vector_errores)"
   ]
  },
  {
   "cell_type": "markdown",
   "metadata": {},
   "source": [
    "### Evolución del modelo en el tiempo"
   ]
  },
  {
   "cell_type": "code",
   "execution_count": 562,
   "metadata": {},
   "outputs": [],
   "source": [
    "def graficar_modelo(historial_modelos,n):\n",
    "    unos = np.ones_like(x)\n",
    "    matriz_x = np.vstack((x,unos))\n",
    "    matriz_x = matriz_x.T\n",
    "\n",
    "    fig_modelo = plt.figure()\n",
    "    ax_modelo = fig_modelo.add_subplot(111)\n",
    "    \n",
    "    for i in range(len(dict_modelo)):\n",
    "        y_hat = np.matmul(matriz_x,dict_modelo[i+1])\n",
    "        if n == 0:\n",
    "            pass\n",
    "        else:\n",
    "            if (i+1)%n == 0:\n",
    "                ax_modelo.plot(x, y_hat, label = \"y_hat\")\n",
    "\n",
    "    ax_modelo.scatter(x,y)\n",
    "    ax_modelo.set_xlabel('Variable independiente X')\n",
    "    ax_modelo.set_ylabel('Precio de venta en dólares')\n",
    "    fig_modelo.suptitle(\"Evolución del modelo en el tiempo\", fontsize =14)\n",
    "    \n",
    "    plt.show()"
   ]
  },
  {
   "cell_type": "code",
   "execution_count": 563,
   "metadata": {},
   "outputs": [
    {
     "data": {
      "image/png": "[encoded data removed]",
      "text/plain": [
       "<Figure size 432x288 with 1 Axes>"
      ]
     },
     "metadata": {
      "needs_background": "light"
     },
     "output_type": "display_data"
    }
   ],
   "source": [
    "graficar_modelo(dict_modelo,250)"
   ]
  },
  {
   "cell_type": "code",
   "execution_count": null,
   "metadata": {},
   "outputs": [],
   "source": []
  }
 ],
 "metadata": {
  "kernelspec": {
   "display_name": "Python 3",
   "language": "python",
   "name": "python3"
  },
  "language_info": {
   "codemirror_mode": {
    "name": "ipython",
    "version": 3
   },
   "file_extension": ".py",
   "mimetype": "text/x-python",
   "name": "python",
   "nbconvert_exporter": "python",
   "pygments_lexer": "ipython3",
   "version": "3.8.5"
  }
 },
 "nbformat": 4,
 "nbformat_minor": 4
}
