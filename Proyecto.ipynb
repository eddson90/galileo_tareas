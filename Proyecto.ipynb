{
 "cells": [
  {
   "cell_type": "code",
   "execution_count": 90,
   "metadata": {},
   "outputs": [],
   "source": [
    "import numpy as np\n",
    "import matplotlib\n",
    "import matplotlib.pyplot as plt\n",
    "import sklearn\n",
    "import seaborn as sns\n",
    "import pandas as pd"
   ]
  },
  {
   "cell_type": "markdown",
   "metadata": {},
   "source": [
    "## Carga de datos y creación de data sets de entrenamiento y de pruebas"
   ]
  },
  {
   "cell_type": "code",
   "execution_count": 2,
   "metadata": {},
   "outputs": [],
   "source": [
    "data = np.load(r\"C:\\Users\\eddso\\OneDrive\\Maestría\\Ciclo 1 - 2021\\Ciencia de Datos en Python\\Proyecto\\proyecto_training_data.npy\")"
   ]
  },
  {
   "cell_type": "code",
   "execution_count": 3,
   "metadata": {},
   "outputs": [
    {
     "data": {
      "text/plain": [
       "array([[2.08500e+05, 7.00000e+00, 8.56000e+02, 8.00000e+00, 2.00300e+03,\n",
       "        6.50000e+01],\n",
       "       [1.81500e+05, 6.00000e+00, 1.26200e+03, 6.00000e+00, 1.97600e+03,\n",
       "        8.00000e+01],\n",
       "       [2.23500e+05, 7.00000e+00, 9.20000e+02, 6.00000e+00, 2.00100e+03,\n",
       "        6.80000e+01],\n",
       "       ...,\n",
       "       [2.66500e+05, 7.00000e+00, 1.18800e+03, 9.00000e+00, 1.94100e+03,\n",
       "        6.60000e+01],\n",
       "       [1.42125e+05, 5.00000e+00, 1.07800e+03, 5.00000e+00, 1.95000e+03,\n",
       "        6.80000e+01],\n",
       "       [1.47500e+05, 5.00000e+00, 1.25600e+03, 6.00000e+00, 1.96500e+03,\n",
       "        7.50000e+01]])"
      ]
     },
     "execution_count": 3,
     "metadata": {},
     "output_type": "execute_result"
    }
   ],
   "source": [
    "data"
   ]
  },
  {
   "cell_type": "code",
   "execution_count": 4,
   "metadata": {},
   "outputs": [
    {
     "data": {
      "text/plain": [
       "(1460, 6)"
      ]
     },
     "execution_count": 4,
     "metadata": {},
     "output_type": "execute_result"
    }
   ],
   "source": [
    "#filas y columnas de la matriz de datos completos\n",
    "data.shape"
   ]
  },
  {
   "cell_type": "code",
   "execution_count": 5,
   "metadata": {},
   "outputs": [
    {
     "data": {
      "text/plain": [
       "1168.0"
      ]
     },
     "execution_count": 5,
     "metadata": {},
     "output_type": "execute_result"
    }
   ],
   "source": [
    "#el 80% de los datos corresponden a 1168 filas\n",
    "len(data)*0.8"
   ]
  },
  {
   "cell_type": "code",
   "execution_count": 6,
   "metadata": {},
   "outputs": [],
   "source": [
    "# se define el 80% de los datos como datos de entrenamiento\n",
    "training_data = data[:1169]"
   ]
  },
  {
   "cell_type": "code",
   "execution_count": 7,
   "metadata": {},
   "outputs": [],
   "source": [
    "# se define el 20% restante como datos de validación y pruebas\n",
    "validation_data = data[1169:]"
   ]
  },
  {
   "cell_type": "code",
   "execution_count": 8,
   "metadata": {},
   "outputs": [
    {
     "data": {
      "text/plain": [
       "1460"
      ]
     },
     "execution_count": 8,
     "metadata": {},
     "output_type": "execute_result"
    }
   ],
   "source": [
    "#comprobando que el slicing sea correcto sobre los data sets\n",
    "len(training_data)+len(validation_data)"
   ]
  },
  {
   "cell_type": "markdown",
   "metadata": {},
   "source": [
    "## Análisis exploratorio"
   ]
  },
  {
   "cell_type": "markdown",
   "metadata": {},
   "source": [
    "Para cada variable en el dataset calcular((usando numpy o pandas):\n",
    " * media\n",
    " * valor máximo\n",
    " * valor mínimo \n",
    " * rango(peak to peak, no el rango del tensor que por ser vector sabemos que es 1)\n",
    " * desviación estándar\n",
    " \n",
    "Para cada variable en el dataset usar seaborn(función distplot https://seaborn.pydata.org/generated/seaborn.distplot.html)  para graficar  un histograma de la variable.\n",
    "\n",
    "A continuación se definen las variables:"
   ]
  },
  {
   "cell_type": "code",
   "execution_count": 110,
   "metadata": {},
   "outputs": [],
   "source": [
    "SalesPrice_t = training_data[:,0] # el precio de venta en dólares (y, variable dependiente de las otras características)\n",
    "\n",
    "# variables independientes (x):\n",
    "\n",
    "OverallQual_t = training_data[:,1] # Nivel de calidad 1-Very poor y 10-Very Excelent\n",
    "FirstFloorArea_t =  training_data[:,2] # Área del primer nivel en pies cuadrados\n",
    "TotRmsAbvGrd_t = training_data[:,3] # Cantidad de habitaciones por encima del nivel del suelo\n",
    "YearBuilt_t = training_data[:,4] # Año de construcción\n",
    "LotFrontage_t = training_data[:,5] # Pies lineales de la calle conectada a la propiedad"
   ]
  },
  {
   "cell_type": "markdown",
   "metadata": {},
   "source": [
    "##### Precio de venta"
   ]
  },
  {
   "cell_type": "code",
   "execution_count": 111,
   "metadata": {},
   "outputs": [
    {
     "data": {
      "text/plain": [
       "180636.82121471342"
      ]
     },
     "execution_count": 111,
     "metadata": {},
     "output_type": "execute_result"
    }
   ],
   "source": [
    "np.mean(SalesPrice_t)"
   ]
  },
  {
   "cell_type": "code",
   "execution_count": 112,
   "metadata": {},
   "outputs": [
    {
     "data": {
      "text/plain": [
       "755000.0"
      ]
     },
     "execution_count": 112,
     "metadata": {},
     "output_type": "execute_result"
    }
   ],
   "source": [
    "np.max(SalesPrice_t)"
   ]
  },
  {
   "cell_type": "code",
   "execution_count": 113,
   "metadata": {},
   "outputs": [
    {
     "data": {
      "text/plain": [
       "34900.0"
      ]
     },
     "execution_count": 113,
     "metadata": {},
     "output_type": "execute_result"
    }
   ],
   "source": [
    "np.min(SalesPrice_t)"
   ]
  },
  {
   "cell_type": "code",
   "execution_count": 114,
   "metadata": {},
   "outputs": [
    {
     "data": {
      "text/plain": [
       "720100.0"
      ]
     },
     "execution_count": 114,
     "metadata": {},
     "output_type": "execute_result"
    }
   ],
   "source": [
    "np.ptp(SalesPrice_t)"
   ]
  },
  {
   "cell_type": "code",
   "execution_count": 115,
   "metadata": {},
   "outputs": [
    {
     "data": {
      "text/plain": [
       "78764.31149488971"
      ]
     },
     "execution_count": 115,
     "metadata": {},
     "output_type": "execute_result"
    }
   ],
   "source": [
    "np.std(SalesPrice_t)"
   ]
  },
  {
   "cell_type": "code",
   "execution_count": 116,
   "metadata": {},
   "outputs": [
    {
     "name": "stderr",
     "output_type": "stream",
     "text": [
      "C:\\Users\\eddso\\anaconda3\\lib\\site-packages\\seaborn\\distributions.py:2551: FutureWarning: `distplot` is a deprecated function and will be removed in a future version. Please adapt your code to use either `displot` (a figure-level function with similar flexibility) or `histplot` (an axes-level function for histograms).\n",
      "  warnings.warn(msg, FutureWarning)\n"
     ]
    },
    {
     "data": {
      "text/plain": [
       "<AxesSubplot:xlabel='Precio de venta en dólares', ylabel='Density'>"
      ]
     },
     "execution_count": 116,
     "metadata": {},
     "output_type": "execute_result"
    },
    {
     "data": {
      "image/png": "[encoded data removed]",
      "text/plain": [
       "<Figure size 432x288 with 1 Axes>"
      ]
     },
     "metadata": {
      "needs_background": "light"
     },
     "output_type": "display_data"
    }
   ],
   "source": [
    "sns.distplot(SalesPrice_t, bins = 50, axlabel = \"Precio de venta en dólares\")"
   ]
  },
  {
   "cell_type": "markdown",
   "metadata": {},
   "source": [
    "##### Nivel de calidad"
   ]
  },
  {
   "cell_type": "code",
   "execution_count": 117,
   "metadata": {},
   "outputs": [
    {
     "data": {
      "text/plain": [
       "6.100940975192472"
      ]
     },
     "execution_count": 117,
     "metadata": {},
     "output_type": "execute_result"
    }
   ],
   "source": [
    "np.mean(OverallQual_t)"
   ]
  },
  {
   "cell_type": "code",
   "execution_count": 118,
   "metadata": {},
   "outputs": [
    {
     "data": {
      "text/plain": [
       "10.0"
      ]
     },
     "execution_count": 118,
     "metadata": {},
     "output_type": "execute_result"
    }
   ],
   "source": [
    "np.max(OverallQual_t)"
   ]
  },
  {
   "cell_type": "code",
   "execution_count": 119,
   "metadata": {},
   "outputs": [
    {
     "data": {
      "text/plain": [
       "1.0"
      ]
     },
     "execution_count": 119,
     "metadata": {},
     "output_type": "execute_result"
    }
   ],
   "source": [
    "np.min(OverallQual_t)"
   ]
  },
  {
   "cell_type": "code",
   "execution_count": 120,
   "metadata": {},
   "outputs": [
    {
     "data": {
      "text/plain": [
       "9.0"
      ]
     },
     "execution_count": 120,
     "metadata": {},
     "output_type": "execute_result"
    }
   ],
   "source": [
    "np.ptp(OverallQual_t)"
   ]
  },
  {
   "cell_type": "code",
   "execution_count": 121,
   "metadata": {},
   "outputs": [
    {
     "data": {
      "text/plain": [
       "1.37684908406113"
      ]
     },
     "execution_count": 121,
     "metadata": {},
     "output_type": "execute_result"
    }
   ],
   "source": [
    "np.std(OverallQual_t)"
   ]
  },
  {
   "cell_type": "code",
   "execution_count": 122,
   "metadata": {},
   "outputs": [
    {
     "name": "stderr",
     "output_type": "stream",
     "text": [
      "C:\\Users\\eddso\\anaconda3\\lib\\site-packages\\seaborn\\distributions.py:2551: FutureWarning: `distplot` is a deprecated function and will be removed in a future version. Please adapt your code to use either `displot` (a figure-level function with similar flexibility) or `histplot` (an axes-level function for histograms).\n",
      "  warnings.warn(msg, FutureWarning)\n"
     ]
    },
    {
     "data": {
      "text/plain": [
       "<AxesSubplot:xlabel='Calidad material y acabado', ylabel='Density'>"
      ]
     },
     "execution_count": 122,
     "metadata": {},
     "output_type": "execute_result"
    },
    {
     "data": {
      "image/png": "[encoded data removed]",
      "text/plain": [
       "<Figure size 432x288 with 1 Axes>"
      ]
     },
     "metadata": {
      "needs_background": "light"
     },
     "output_type": "display_data"
    }
   ],
   "source": [
    "sns.distplot(OverallQual_t, axlabel = \"Calidad material y acabado\")"
   ]
  },
  {
   "cell_type": "markdown",
   "metadata": {},
   "source": [
    "##### Área en pies cuadrados del primer nivel"
   ]
  },
  {
   "cell_type": "code",
   "execution_count": 123,
   "metadata": {},
   "outputs": [
    {
     "data": {
      "text/plain": [
       "1156.3917878528657"
      ]
     },
     "execution_count": 123,
     "metadata": {},
     "output_type": "execute_result"
    }
   ],
   "source": [
    "np.mean(FirstFloorArea_t)"
   ]
  },
  {
   "cell_type": "code",
   "execution_count": 124,
   "metadata": {},
   "outputs": [
    {
     "data": {
      "text/plain": [
       "3228.0"
      ]
     },
     "execution_count": 124,
     "metadata": {},
     "output_type": "execute_result"
    }
   ],
   "source": [
    "np.max(FirstFloorArea_t)"
   ]
  },
  {
   "cell_type": "code",
   "execution_count": 125,
   "metadata": {},
   "outputs": [
    {
     "data": {
      "text/plain": [
       "334.0"
      ]
     },
     "execution_count": 125,
     "metadata": {},
     "output_type": "execute_result"
    }
   ],
   "source": [
    "np.min(FirstFloorArea_t)"
   ]
  },
  {
   "cell_type": "code",
   "execution_count": 126,
   "metadata": {},
   "outputs": [
    {
     "data": {
      "text/plain": [
       "2894.0"
      ]
     },
     "execution_count": 126,
     "metadata": {},
     "output_type": "execute_result"
    }
   ],
   "source": [
    "np.ptp(FirstFloorArea_t)"
   ]
  },
  {
   "cell_type": "code",
   "execution_count": 127,
   "metadata": {},
   "outputs": [
    {
     "data": {
      "text/plain": [
       "373.4677582253169"
      ]
     },
     "execution_count": 127,
     "metadata": {},
     "output_type": "execute_result"
    }
   ],
   "source": [
    "np.std(FirstFloorArea_t)"
   ]
  },
  {
   "cell_type": "code",
   "execution_count": 128,
   "metadata": {},
   "outputs": [
    {
     "name": "stderr",
     "output_type": "stream",
     "text": [
      "C:\\Users\\eddso\\anaconda3\\lib\\site-packages\\seaborn\\distributions.py:2551: FutureWarning: `distplot` is a deprecated function and will be removed in a future version. Please adapt your code to use either `displot` (a figure-level function with similar flexibility) or `histplot` (an axes-level function for histograms).\n",
      "  warnings.warn(msg, FutureWarning)\n"
     ]
    },
    {
     "data": {
      "text/plain": [
       "<AxesSubplot:xlabel='Área del primer nivel en pies cuadrados', ylabel='Density'>"
      ]
     },
     "execution_count": 128,
     "metadata": {},
     "output_type": "execute_result"
    },
    {
     "data": {
      "image/png": "[encoded data removed]",
      "text/plain": [
       "<Figure size 432x288 with 1 Axes>"
      ]
     },
     "metadata": {
      "needs_background": "light"
     },
     "output_type": "display_data"
    }
   ],
   "source": [
    "sns.distplot(FirstFloorArea_t, axlabel = \"Área del primer nivel en pies cuadrados\")"
   ]
  },
  {
   "cell_type": "markdown",
   "metadata": {},
   "source": [
    "##### Número de habitaciones por encima del nivel del suelo"
   ]
  },
  {
   "cell_type": "code",
   "execution_count": 129,
   "metadata": {},
   "outputs": [
    {
     "data": {
      "text/plain": [
       "6.485885372112917"
      ]
     },
     "execution_count": 129,
     "metadata": {},
     "output_type": "execute_result"
    }
   ],
   "source": [
    "np.mean(TotRmsAbvGrd_t)"
   ]
  },
  {
   "cell_type": "code",
   "execution_count": 130,
   "metadata": {},
   "outputs": [
    {
     "data": {
      "text/plain": [
       "14.0"
      ]
     },
     "execution_count": 130,
     "metadata": {},
     "output_type": "execute_result"
    }
   ],
   "source": [
    "np.max(TotRmsAbvGrd_t)"
   ]
  },
  {
   "cell_type": "code",
   "execution_count": 131,
   "metadata": {},
   "outputs": [
    {
     "data": {
      "text/plain": [
       "2.0"
      ]
     },
     "execution_count": 131,
     "metadata": {},
     "output_type": "execute_result"
    }
   ],
   "source": [
    "np.min(TotRmsAbvGrd_t)"
   ]
  },
  {
   "cell_type": "code",
   "execution_count": 132,
   "metadata": {},
   "outputs": [
    {
     "data": {
      "text/plain": [
       "12.0"
      ]
     },
     "execution_count": 132,
     "metadata": {},
     "output_type": "execute_result"
    }
   ],
   "source": [
    "np.ptp(TotRmsAbvGrd_t)"
   ]
  },
  {
   "cell_type": "code",
   "execution_count": 133,
   "metadata": {},
   "outputs": [
    {
     "data": {
      "text/plain": [
       "1.607833983530941"
      ]
     },
     "execution_count": 133,
     "metadata": {},
     "output_type": "execute_result"
    }
   ],
   "source": [
    "np.std(TotRmsAbvGrd_t)"
   ]
  },
  {
   "cell_type": "code",
   "execution_count": 134,
   "metadata": {},
   "outputs": [
    {
     "name": "stderr",
     "output_type": "stream",
     "text": [
      "C:\\Users\\eddso\\anaconda3\\lib\\site-packages\\seaborn\\distributions.py:2551: FutureWarning: `distplot` is a deprecated function and will be removed in a future version. Please adapt your code to use either `displot` (a figure-level function with similar flexibility) or `histplot` (an axes-level function for histograms).\n",
      "  warnings.warn(msg, FutureWarning)\n"
     ]
    },
    {
     "data": {
      "text/plain": [
       "<AxesSubplot:xlabel='Número de habitaciones por encima del nivel del suelo', ylabel='Density'>"
      ]
     },
     "execution_count": 134,
     "metadata": {},
     "output_type": "execute_result"
    },
    {
     "data": {
      "image/png": "[encoded data removed]",
      "text/plain": [
       "<Figure size 432x288 with 1 Axes>"
      ]
     },
     "metadata": {
      "needs_background": "light"
     },
     "output_type": "display_data"
    }
   ],
   "source": [
    "sns.distplot(TotRmsAbvGrd_t, axlabel = \"Número de habitaciones por encima del nivel del suelo\")"
   ]
  },
  {
   "cell_type": "markdown",
   "metadata": {},
   "source": [
    "##### Año original de construcción"
   ]
  },
  {
   "cell_type": "code",
   "execution_count": 135,
   "metadata": {},
   "outputs": [
    {
     "data": {
      "text/plain": [
       "1971.42001710864"
      ]
     },
     "execution_count": 135,
     "metadata": {},
     "output_type": "execute_result"
    }
   ],
   "source": [
    "np.mean(YearBuilt_t)"
   ]
  },
  {
   "cell_type": "code",
   "execution_count": 136,
   "metadata": {},
   "outputs": [
    {
     "data": {
      "text/plain": [
       "2010.0"
      ]
     },
     "execution_count": 136,
     "metadata": {},
     "output_type": "execute_result"
    }
   ],
   "source": [
    "np.max(YearBuilt_t)"
   ]
  },
  {
   "cell_type": "code",
   "execution_count": 137,
   "metadata": {},
   "outputs": [
    {
     "data": {
      "text/plain": [
       "1875.0"
      ]
     },
     "execution_count": 137,
     "metadata": {},
     "output_type": "execute_result"
    }
   ],
   "source": [
    "np.min(YearBuilt_t)"
   ]
  },
  {
   "cell_type": "code",
   "execution_count": 138,
   "metadata": {},
   "outputs": [
    {
     "data": {
      "text/plain": [
       "135.0"
      ]
     },
     "execution_count": 138,
     "metadata": {},
     "output_type": "execute_result"
    }
   ],
   "source": [
    "np.ptp(YearBuilt_t)"
   ]
  },
  {
   "cell_type": "code",
   "execution_count": 139,
   "metadata": {},
   "outputs": [
    {
     "data": {
      "text/plain": [
       "29.945041927060213"
      ]
     },
     "execution_count": 139,
     "metadata": {},
     "output_type": "execute_result"
    }
   ],
   "source": [
    "np.std(YearBuilt_t)"
   ]
  },
  {
   "cell_type": "code",
   "execution_count": 140,
   "metadata": {},
   "outputs": [
    {
     "name": "stderr",
     "output_type": "stream",
     "text": [
      "C:\\Users\\eddso\\anaconda3\\lib\\site-packages\\seaborn\\distributions.py:2551: FutureWarning: `distplot` is a deprecated function and will be removed in a future version. Please adapt your code to use either `displot` (a figure-level function with similar flexibility) or `histplot` (an axes-level function for histograms).\n",
      "  warnings.warn(msg, FutureWarning)\n"
     ]
    },
    {
     "data": {
      "text/plain": [
       "<AxesSubplot:xlabel='Año original de construcción', ylabel='Density'>"
      ]
     },
     "execution_count": 140,
     "metadata": {},
     "output_type": "execute_result"
    },
    {
     "data": {
      "image/png": "[encoded data removed]",
      "text/plain": [
       "<Figure size 432x288 with 1 Axes>"
      ]
     },
     "metadata": {
      "needs_background": "light"
     },
     "output_type": "display_data"
    }
   ],
   "source": [
    "sns.distplot(YearBuilt_t, axlabel = \"Año original de construcción\")"
   ]
  },
  {
   "cell_type": "markdown",
   "metadata": {},
   "source": [
    "##### Pies lineales de la calle conectada a la propiedad"
   ]
  },
  {
   "cell_type": "code",
   "execution_count": 141,
   "metadata": {},
   "outputs": [],
   "source": [
    "# ya que esta variable contiene valores nulos se remueven primero mediante el siguiente código:\n",
    "nanLotFrontage = np.isnan(LotFrontage_t)\n",
    "notnanLotFrontage = ~ nanLotFrontage\n",
    "LotFrontage2 = LotFrontage_t[notnanLotFrontage]"
   ]
  },
  {
   "cell_type": "code",
   "execution_count": 142,
   "metadata": {},
   "outputs": [
    {
     "data": {
      "text/plain": [
       "69.99896157840082"
      ]
     },
     "execution_count": 142,
     "metadata": {},
     "output_type": "execute_result"
    }
   ],
   "source": [
    "np.mean(LotFrontage2)"
   ]
  },
  {
   "cell_type": "code",
   "execution_count": 143,
   "metadata": {},
   "outputs": [
    {
     "data": {
      "text/plain": [
       "313.0"
      ]
     },
     "execution_count": 143,
     "metadata": {},
     "output_type": "execute_result"
    }
   ],
   "source": [
    "np.max(LotFrontage2)"
   ]
  },
  {
   "cell_type": "code",
   "execution_count": 144,
   "metadata": {},
   "outputs": [
    {
     "data": {
      "text/plain": [
       "21.0"
      ]
     },
     "execution_count": 144,
     "metadata": {},
     "output_type": "execute_result"
    }
   ],
   "source": [
    "np.min(LotFrontage2)"
   ]
  },
  {
   "cell_type": "code",
   "execution_count": 145,
   "metadata": {},
   "outputs": [
    {
     "data": {
      "text/plain": [
       "292.0"
      ]
     },
     "execution_count": 145,
     "metadata": {},
     "output_type": "execute_result"
    }
   ],
   "source": [
    "np.ptp(LotFrontage2)"
   ]
  },
  {
   "cell_type": "code",
   "execution_count": 146,
   "metadata": {},
   "outputs": [
    {
     "name": "stderr",
     "output_type": "stream",
     "text": [
      "C:\\Users\\eddso\\anaconda3\\lib\\site-packages\\seaborn\\distributions.py:2551: FutureWarning: `distplot` is a deprecated function and will be removed in a future version. Please adapt your code to use either `displot` (a figure-level function with similar flexibility) or `histplot` (an axes-level function for histograms).\n",
      "  warnings.warn(msg, FutureWarning)\n"
     ]
    },
    {
     "data": {
      "text/plain": [
       "<AxesSubplot:xlabel='Pies lineales de la calle conectada a la propiedad', ylabel='Density'>"
      ]
     },
     "execution_count": 146,
     "metadata": {},
     "output_type": "execute_result"
    },
    {
     "data": {
      "image/png": "[encoded data removed]",
      "text/plain": [
       "<Figure size 432x288 with 1 Axes>"
      ]
     },
     "metadata": {
      "needs_background": "light"
     },
     "output_type": "display_data"
    }
   ],
   "source": [
    "sns.distplot(LotFrontage, axlabel = \"Pies lineales de la calle conectada a la propiedad\")"
   ]
  },
  {
   "cell_type": "markdown",
   "metadata": {},
   "source": [
    "### Correlación entre las variables independientes (x) y la variable dependiente (y = precio de venta)\n",
    "Para cada variable independiente x :\n",
    "* Calcular el coeficiente de correlación entre x y y\n",
    "* Graficar x vs y(scatterplot) usando matplotlib\n",
    "* Colocar el coeficiente de correlación y colocarlo  como parte del título de la gráfica. \n",
    "\n",
    "Basado en la gráfica y el coeficiente de correlación  de cada par x,y elegir  las 2 variables con más potencial predictivo(la 2 que presentan mayor correlación)."
   ]
  },
  {
   "cell_type": "markdown",
   "metadata": {},
   "source": [
    "* ***Correlación entre Nivel de calidad y Precio de venta***"
   ]
  },
  {
   "cell_type": "code",
   "execution_count": 147,
   "metadata": {},
   "outputs": [
    {
     "data": {
      "image/png": "[encoded data removed]",
      "text/plain": [
       "<Figure size 432x288 with 1 Axes>"
      ]
     },
     "metadata": {
      "needs_background": "light"
     },
     "output_type": "display_data"
    }
   ],
   "source": [
    "r_x1 = np.corrcoef(OverallQual_t,SalesPrice_t)\n",
    "r_x1[0,1]\n",
    "\n",
    "\n",
    "fig = plt.figure()\n",
    "ax1 = fig.add_subplot(1,1,1)\n",
    "\n",
    "ax1.scatter(OverallQual_t,SalesPrice_t)\n",
    "ax1.set_xlabel(\"Nivel de calidad\")\n",
    "ax1.set_ylabel(\"Precio de venta en $\")\n",
    "ax1.set_title(\"Gráfico de Dispersión\\n R = \"+str(r_x1[0,1]))\n",
    "\n",
    "plt.show()"
   ]
  },
  {
   "cell_type": "markdown",
   "metadata": {},
   "source": [
    "* ***Correlación entre Área del primer nivel y Precio de venta***"
   ]
  },
  {
   "cell_type": "code",
   "execution_count": 148,
   "metadata": {},
   "outputs": [
    {
     "data": {
      "image/png": "[encoded data removed]",
      "text/plain": [
       "<Figure size 432x288 with 1 Axes>"
      ]
     },
     "metadata": {
      "needs_background": "light"
     },
     "output_type": "display_data"
    }
   ],
   "source": [
    "r_x2 = np.corrcoef(FirstFloorArea_t,SalesPrice_t)\n",
    "r_x2[0,1]\n",
    "\n",
    "fig = plt.figure()\n",
    "ax2 = fig.add_subplot(1,1,1)\n",
    "\n",
    "ax2.scatter(FirstFloorArea_t,SalesPrice_t)\n",
    "ax2.set_xlabel(\"Área del primer nivel\")\n",
    "ax2.set_ylabel(\"Precio de venta en $\")\n",
    "ax2.set_title(\"Gráfico de Dispersión\\n R = \"+str(r_x2[0,1]))\n",
    "plt.show()"
   ]
  },
  {
   "cell_type": "markdown",
   "metadata": {},
   "source": [
    "* ***Correlación entre Número de habitaciones por encima del nivel del suelo y Precio de venta***"
   ]
  },
  {
   "cell_type": "code",
   "execution_count": 149,
   "metadata": {},
   "outputs": [
    {
     "data": {
      "image/png": "[encoded data removed]",
      "text/plain": [
       "<Figure size 432x288 with 1 Axes>"
      ]
     },
     "metadata": {
      "needs_background": "light"
     },
     "output_type": "display_data"
    }
   ],
   "source": [
    "r_x3 = np.corrcoef(TotRmsAbvGrd_t,SalesPrice_t)\n",
    "r_x3[0,1]\n",
    "\n",
    "fig = plt.figure()\n",
    "ax3 = fig.add_subplot(1,1,1)\n",
    "\n",
    "ax3.scatter(TotRmsAbvGrd_t,SalesPrice_t)\n",
    "ax3.set_xlabel(\"Número de habitaciones por encima del nivel del suelo\")\n",
    "ax3.set_ylabel(\"Precio de venta en $\")\n",
    "ax3.set_title(\"Gráfico de Dispersión\\n R = \"+str(r_x3[0,1]))\n",
    "plt.show()"
   ]
  },
  {
   "cell_type": "markdown",
   "metadata": {},
   "source": [
    "* ***Correlación entre Año de construcción y Precio de venta***"
   ]
  },
  {
   "cell_type": "code",
   "execution_count": 150,
   "metadata": {},
   "outputs": [
    {
     "data": {
      "image/png": "[encoded data removed]",
      "text/plain": [
       "<Figure size 432x288 with 1 Axes>"
      ]
     },
     "metadata": {
      "needs_background": "light"
     },
     "output_type": "display_data"
    }
   ],
   "source": [
    "r_x4 = np.corrcoef(YearBuilt_t,SalesPrice_t)\n",
    "r_x4[0,1]\n",
    "\n",
    "fig = plt.figure()\n",
    "ax4 = fig.add_subplot(1,1,1)\n",
    "\n",
    "ax4.scatter(YearBuilt_t,SalesPrice_t)\n",
    "ax4.set_xlabel(\"Año de construcción\")\n",
    "ax4.set_ylabel(\"Precio de venta en $\")\n",
    "ax4.set_title(\"Gráfico de Dispersión\\n R = \"+str(r_x4[0,1]))\n",
    "plt.show()"
   ]
  },
  {
   "cell_type": "markdown",
   "metadata": {},
   "source": [
    "* ***Correlación entre Pies lineales de la calle conectada a la propiedad y Precio de venta***"
   ]
  },
  {
   "cell_type": "code",
   "execution_count": 151,
   "metadata": {},
   "outputs": [
    {
     "data": {
      "image/png": "[encoded data removed]",
      "text/plain": [
       "<Figure size 432x288 with 1 Axes>"
      ]
     },
     "metadata": {
      "needs_background": "light"
     },
     "output_type": "display_data"
    }
   ],
   "source": [
    "df = pd.DataFrame(training_data[:,[0,5]], columns = ['Pies lineales','Precio de venta'])\n",
    "df_corr = df.corr(method='pearson')\n",
    "r_x5 = df_corr.at['Pies lineales','Precio de venta']\n",
    "\n",
    "fig = plt.figure()\n",
    "ax5 = fig.add_subplot(1,1,1)\n",
    "\n",
    "ax5.scatter(LotFrontage_t,SalesPrice_t)\n",
    "ax5.set_xlabel(\"Pies lineales de la calle conetada a la propiedad\")\n",
    "ax5.set_ylabel(\"Precio de venta en $\")\n",
    "ax5.set_title(\"Gráfico de Dispersión\\n R = \"+str(r_x5))\n",
    "plt.show()"
   ]
  },
  {
   "cell_type": "markdown",
   "metadata": {},
   "source": [
    "Resumen de correlaciones"
   ]
  },
  {
   "cell_type": "code",
   "execution_count": 168,
   "metadata": {},
   "outputs": [
    {
     "data": {
      "image/png": "[encoded data removed]",
      "text/plain": [
       "<Figure size 432x288 with 5 Axes>"
      ]
     },
     "metadata": {
      "needs_background": "light"
     },
     "output_type": "display_data"
    }
   ],
   "source": [
    "figura = plt.figure()\n",
    "eje1 = figura.add_subplot(231)\n",
    "eje2 = figura.add_subplot(232)\n",
    "eje3 = figura.add_subplot(233)\n",
    "eje4 = figura.add_subplot(234)\n",
    "eje5 = figura.add_subplot(235)\n",
    "\n",
    "eje1.scatter(OverallQual_t,SalesPrice_t)\n",
    "eje1.xaxis.set_visible(False)\n",
    "eje1.yaxis.set_visible(False)\n",
    "eje1.set_title(\"Overall Quality \\n R = \"+str(r_x1[0,1]), fontsize = '7')\n",
    "\n",
    "eje2.scatter(FirstFloorArea_t,SalesPrice_t)\n",
    "eje2.xaxis.set_visible(False)\n",
    "eje2.yaxis.set_visible(False)\n",
    "eje2.set_title(\"First Floor Area  \\n R = \"+str(r_x2[0,1]), fontsize = '7')\n",
    "\n",
    "eje3.scatter(TotRmsAbvGrd_t,SalesPrice_t)\n",
    "eje3.xaxis.set_visible(False)\n",
    "eje3.yaxis.set_visible(False)\n",
    "eje3.set_title(\"Total Rooms Above Ground\\n R = \"+str(r_x3[0,1]) , fontsize = '7')\n",
    "\n",
    "eje4.scatter(YearBuilt_t,SalesPrice_t)\n",
    "eje4.xaxis.set_visible(False)\n",
    "eje4.yaxis.set_visible(False)\n",
    "eje4.set_title(\"Year Built\\n R = \"+str(r_x4[0,1]), fontsize = '7')\n",
    "\n",
    "eje5.scatter(LotFrontage_t,SalesPrice_t)\n",
    "eje5.xaxis.set_visible(False)\n",
    "eje5.yaxis.set_visible(False)\n",
    "eje5.set_title(\"Lot Frontage\\n R = \"+str(r_x5), fontsize = '7')\n",
    "\n",
    "plt.show()"
   ]
  },
  {
   "cell_type": "markdown",
   "metadata": {},
   "source": [
    "***De las gráficas y los coeficientes de correlación podemos ver que las 2 variables con mayor potencial predictivo son Overall Quailty y First Floor Area.***"
   ]
  },
  {
   "cell_type": "markdown",
   "metadata": {},
   "source": [
    "## Modelado"
   ]
  },
  {
   "cell_type": "code",
   "execution_count": 169,
   "metadata": {},
   "outputs": [],
   "source": [
    "def modelo_lineal(x,y,epochs,imprimir_error_cada,lr):\n",
    "    b = 0\n",
    "    m = 0\n",
    "    modelo = {}\n",
    "    errores = {}\n",
    "    \n",
    "    # crear matriz con primera columna = vector x y segunda columa de unos\n",
    "    unos = np.ones_like(x)\n",
    "    matriz_x = np.vstack((x,unos))\n",
    "    matriz_x = matriz_x.T\n",
    "       \n",
    "    for i in range(epochs):\n",
    "        # vector de parámetros\n",
    "        parametros = np.array([m,b])\n",
    "        \n",
    "        y_hat = np.matmul(matriz_x,parametros)\n",
    "        error_promedio = np.mean(np.power(y-y_hat,2))/2\n",
    "        gradiente_m = np.mean((y_hat-y)*x)\n",
    "        gradiente_b = np.mean(y_hat-y)\n",
    "        m -= lr*gradiente_m\n",
    "        b -= lr*gradiente_b\n",
    "        \n",
    "        # imprimir error cada n iteraciones\n",
    "        if imprimir_error_cada == 0:\n",
    "            pass\n",
    "        else:\n",
    "            if (i+1)%imprimir_error_cada == 0:\n",
    "                print(\"Iteración no.\",i+1,\"----------------------\")\n",
    "                print(\"Error promedio = \",error_promedio)\n",
    "        \n",
    "        # resultados de la funcion\n",
    "        modelo[i+1] = [m,b]\n",
    "        errores[i+1] = error_promedio\n",
    "        vector_errores = np.array(list(errores.items()))\n",
    "    return modelo, vector_errores"
   ]
  },
  {
   "cell_type": "code",
   "execution_count": 170,
   "metadata": {},
   "outputs": [],
   "source": [
    "# EJEMPLO:\n",
    "var_x = np.array([68,80,68])\n",
    "var_y = np.array([208,181.5,223.5])\n",
    "iteraciones = 3\n",
    "imprimir_error_cada = 3\n",
    "learning_rate = 0.0001"
   ]
  },
  {
   "cell_type": "code",
   "execution_count": 54,
   "metadata": {},
   "outputs": [
    {
     "name": "stdout",
     "output_type": "stream",
     "text": [
      "Iteración no. 3 ----------------------\n",
      "Error promedio =  1607.5863095288457\n"
     ]
    },
    {
     "data": {
      "text/plain": [
       "({1: [1.4620666666666666, 0.020433333333333335],\n",
       "  2: [2.16137224, 0.030337743333333337],\n",
       "  3: [2.4958487145306667, 0.03520616276433334]},\n",
       " array([[1.00000000e+00, 2.10264167e+04],\n",
       "        [2.00000000e+00, 5.22296563e+03],\n",
       "        [3.00000000e+00, 1.60758631e+03]]))"
      ]
     },
     "execution_count": 54,
     "metadata": {},
     "output_type": "execute_result"
    }
   ],
   "source": [
    "resultado = modelo_lineal(var_x,var_y,iteraciones,imprimir_error_cada,learning_rate)\n",
    "resultado"
   ]
  },
  {
   "cell_type": "markdown",
   "metadata": {},
   "source": [
    "### Error del modelo en el tiempo"
   ]
  },
  {
   "cell_type": "code",
   "execution_count": 171,
   "metadata": {},
   "outputs": [],
   "source": [
    "# extraer los resultados de la tupla de la función\n",
    "dict_modelo = resultado[0]\n",
    "vector_errores = resultado[1]"
   ]
  },
  {
   "cell_type": "code",
   "execution_count": 172,
   "metadata": {},
   "outputs": [],
   "source": [
    "def graficar_error(vector_errores):\n",
    "    plt.plot(vector_errores[:,0],vector_errores[:,1],color = 'r')\n",
    "    plt.xlabel('Iteraciones')\n",
    "    plt.ylabel('Error promedio')\n",
    "    plt.title('Curva de aprendizaje')\n",
    "    plt.show()   "
   ]
  },
  {
   "cell_type": "code",
   "execution_count": 173,
   "metadata": {},
   "outputs": [
    {
     "data": {
      "image/png": "[encoded data removed]",
      "text/plain": [
       "<Figure size 432x288 with 1 Axes>"
      ]
     },
     "metadata": {
      "needs_background": "light"
     },
     "output_type": "display_data"
    }
   ],
   "source": [
    "graficar_error(vector_errores)"
   ]
  },
  {
   "cell_type": "markdown",
   "metadata": {},
   "source": [
    "### Evolución del modelo en el tiempo"
   ]
  },
  {
   "cell_type": "code",
   "execution_count": 174,
   "metadata": {},
   "outputs": [],
   "source": [
    "def graficar_modelo(historial_modelos,n):\n",
    "    unos = np.ones_like(x)\n",
    "    matriz_x = np.vstack((x,unos))\n",
    "    matriz_x = matriz_x.T\n",
    "\n",
    "    fig_modelo = plt.figure()\n",
    "    ax_modelo = fig_modelo.add_subplot(111)\n",
    "    \n",
    "    for i in range(len(dict_modelo)):\n",
    "        y_hat = np.matmul(matriz_x,dict_modelo[i+1])\n",
    "        if n == 0:\n",
    "            pass\n",
    "        else:\n",
    "            if (i+1)%n == 0:\n",
    "                ax_modelo.plot(x, y_hat, label = \"y_hat\")\n",
    "\n",
    "    ax_modelo.scatter(x,y)\n",
    "    ax_modelo.set_xlabel('Variable independiente X')\n",
    "    ax_modelo.set_ylabel('Precio de venta en dólares')\n",
    "    fig_modelo.suptitle(\"Evolución del modelo en el tiempo\", fontsize =14)\n",
    "    \n",
    "    plt.show()"
   ]
  },
  {
   "cell_type": "markdown",
   "metadata": {},
   "source": [
    "### Entrenamiento de las variables independientes (Overall Quality y First Floor Area)"
   ]
  },
  {
   "cell_type": "markdown",
   "metadata": {},
   "source": [
    "* ***Variable independiente: Overall Quality***"
   ]
  },
  {
   "cell_type": "code",
   "execution_count": 176,
   "metadata": {},
   "outputs": [
    {
     "data": {
      "text/plain": [
       "array([ 43860.29689878, -86482.95608082])"
      ]
     },
     "execution_count": 176,
     "metadata": {},
     "output_type": "execute_result"
    }
   ],
   "source": [
    "# Modelo (parámetros m y b de la última iteración)\n",
    "res_OverallQual = modelo_lineal(OverallQual_t,SalesPrice_t,1000,0,0.049)\n",
    "modelo_OverallQual = res_OverallQual[0][max(res_OverallQual[0].keys())]\n",
    "errores_OverallQual = res_OverallQual[1]\n",
    "modelo_OverallQual = np.array(modelo_OverallQual)\n",
    "modelo_OverallQual"
   ]
  },
  {
   "cell_type": "code",
   "execution_count": 177,
   "metadata": {},
   "outputs": [
    {
     "data": {
      "image/png": "[encoded data removed]",
      "text/plain": [
       "<Figure size 432x288 with 1 Axes>"
      ]
     },
     "metadata": {
      "needs_background": "light"
     },
     "output_type": "display_data"
    }
   ],
   "source": [
    "# curva de aprendizaje (errores)\n",
    "graficar_error(errores_OverallQual)"
   ]
  },
  {
   "cell_type": "markdown",
   "metadata": {},
   "source": [
    "* ***Variable independiente: First Floor Area***"
   ]
  },
  {
   "cell_type": "code",
   "execution_count": 178,
   "metadata": {},
   "outputs": [
    {
     "data": {
      "text/plain": [
       "array([153.70687793,  28.76079776])"
      ]
     },
     "execution_count": 178,
     "metadata": {},
     "output_type": "execute_result"
    }
   ],
   "source": [
    "# Modelo (parámetros m y b de la última iteración)\n",
    "res_FirstFloorArea = modelo_lineal(FirstFloorArea_t,SalesPrice_t,10000,0,0.000001)\n",
    "modelo_FirstFloorArea = res_FirstFloorArea[0][max(res_FirstFloorArea[0].keys())]\n",
    "errores_FirstFloorArea = res_FirstFloorArea[1]\n",
    "modelo_FirstFloorArea = np.array(modelo_FirstFloorArea)\n",
    "modelo_FirstFloorArea"
   ]
  },
  {
   "cell_type": "code",
   "execution_count": 179,
   "metadata": {},
   "outputs": [
    {
     "data": {
      "image/png": "[encoded data removed]",
      "text/plain": [
       "<Figure size 432x288 with 1 Axes>"
      ]
     },
     "metadata": {
      "needs_background": "light"
     },
     "output_type": "display_data"
    }
   ],
   "source": [
    "# curva de aprendizaje (errores)\n",
    "graficar_error(errores_FirstFloorArea)"
   ]
  },
  {
   "cell_type": "markdown",
   "metadata": {},
   "source": [
    "### Modelo lineal de Sci-Kit Learn"
   ]
  },
  {
   "cell_type": "code",
   "execution_count": 180,
   "metadata": {},
   "outputs": [],
   "source": [
    "def modelo_scikit(X,Y):\n",
    "    \"\"\" Esta función aplica linear_model de sklear para retornar\n",
    "    el coeficiente m y el intercepto de una regresión lineal de X y Y\"\"\"\n",
    "    from sklearn.linear_model import LinearRegression \n",
    "    regresion_lineal = LinearRegression()\n",
    "    regresion_lineal.fit(X.reshape(-1,1), Y) \n",
    "    return np.array([regresion_lineal.coef_[0], regresion_lineal.intercept_])"
   ]
  },
  {
   "cell_type": "code",
   "execution_count": 181,
   "metadata": {},
   "outputs": [
    {
     "data": {
      "text/plain": [
       "array([ -2.85416667, 409.83333333])"
      ]
     },
     "execution_count": 181,
     "metadata": {},
     "output_type": "execute_result"
    }
   ],
   "source": [
    "#ejemplo\n",
    "modelo_scikit(var_x,var_y)"
   ]
  },
  {
   "cell_type": "code",
   "execution_count": 183,
   "metadata": {},
   "outputs": [
    {
     "data": {
      "text/plain": [
       "array([ 45409.31148943, -96402.70790641])"
      ]
     },
     "execution_count": 183,
     "metadata": {},
     "output_type": "execute_result"
    }
   ],
   "source": [
    "# MODELO SCI-KIT LEARN PARA OVERALL QUALITY (parámetros m y b)\n",
    "modelo_scikit(OverallQual_t,SalesPrice_t)"
   ]
  },
  {
   "cell_type": "code",
   "execution_count": 184,
   "metadata": {},
   "outputs": [
    {
     "data": {
      "text/plain": [
       "array([  129.97275222, 30337.39790413])"
      ]
     },
     "execution_count": 184,
     "metadata": {},
     "output_type": "execute_result"
    }
   ],
   "source": [
    "# MODELO SCI-KIT LEARN PARA FIRST FLOOR AREA (parámetros m y b)\n",
    "modelo_scikit(FirstFloorArea_t,SalesPrice_t)"
   ]
  },
  {
   "cell_type": "markdown",
   "metadata": {},
   "source": [
    "### Modelo combinado"
   ]
  },
  {
   "cell_type": "code",
   "execution_count": 189,
   "metadata": {},
   "outputs": [],
   "source": [
    "def mod_comb_OverallQual(modelo_lineal,modelo_scikit,x):\n",
    "    \"\"\"Esta función toma como parámetros las funciones de modelo_lineal manual modelo lineal de sci-kit learn\n",
    "    y la variable x especificando Overall Quaility o cualquier vector de esta y devuelve una matriz con 3 columnas \n",
    "    y la misma cantidad de filas de X: la 1 corresponde a la predicción de y manual, \n",
    "    la 2 la predicción de y de sci-kit y la 3 es el promedio.\"\"\"\n",
    "    \n",
    "    # vector del modelo manual\n",
    "    res_OverallQual = modelo_lineal(x,SalesPrice,1000,0,0.049)\n",
    "    modelo_OverallQual = res_OverallQual[0][max(res_OverallQual[0].keys())]\n",
    "    modelo_OverallQual = np.array(modelo_OverallQual)\n",
    "    \n",
    "    # vector del modelo sci-kit learn\n",
    "    modelo_skl = modelo_scikit(x,SalesPrice)\n",
    "    \n",
    "    # crear matriz con primera columna = vector x y segunda columa de unos\n",
    "    unos = np.ones_like(x)\n",
    "    matriz_x = np.vstack((x,unos))\n",
    "    matriz_x = matriz_x.T\n",
    "    \n",
    "    #calcular y_hat del modelo manual\n",
    "    y_hat_manual = np.matmul(matriz_x,modelo_OverallQual)\n",
    "    \n",
    "    #calcular y_hat del modelo sci-kit learn\n",
    "    y_hat_skl = np.matmul(matriz_x,modelo_skl)\n",
    "    \n",
    "    #calcular y_hat promedio\n",
    "    y_hat_promedio = (y_hat_manual + y_hat_skl)/2\n",
    "    \n",
    "    # resultado\n",
    "    resultado = np.array([y_hat_manual, y_hat_skl, y_hat_promedio])\n",
    "    \n",
    "    return resultado.T"
   ]
  },
  {
   "cell_type": "code",
   "execution_count": 190,
   "metadata": {},
   "outputs": [],
   "source": [
    "def mod_comb_FirstFloorArea(modelo_lineal,modelo_scikit,x):\n",
    "    \"\"\"Esta función toma como parámetros las funciones de modelo_lineal manual modelo lineal de sci-kit learn\n",
    "    y la variable x especificando First Floor Area o cualquier vector de esta y devuelve una matriz con 3 columnas \n",
    "    y la misma cantidad de filas de X: la 1 corresponde a la predicción de y manual, \n",
    "    la 2 la predicción de y de sci-kit y la 3 es el promedio.\"\"\"\n",
    "    \n",
    "    # vector del modelo manual \n",
    "    res_FirstFloorArea = modelo_lineal(x,SalesPrice,10000,0,0.000001)\n",
    "    modelo_FirstFloorArea = res_FirstFloorArea[0][max(res_FirstFloorArea[0].keys())]\n",
    "    modelo_FirstFloorArea = np.array(modelo_FirstFloorArea)\n",
    "    \n",
    "    \n",
    "    # vector del modelo sci-kit learn\n",
    "    modelo_skl = modelo_scikit(x,SalesPrice)\n",
    "  \n",
    "    # crear matriz con primera columna = vector x y segunda columa de unos\n",
    "    unos = np.ones_like(x)\n",
    "    matriz_x = np.vstack((x,unos))\n",
    "    matriz_x = matriz_x.T\n",
    "    \n",
    "    #calcular y_hat del modelo manual\n",
    "    y_hat_manual = np.matmul(matriz_x,modelo_FirstFloorArea)\n",
    "    \n",
    "    #calcular y_hat del modelo sci-kit learn\n",
    "    y_hat_skl = np.matmul(matriz_x,modelo_skl)\n",
    "    \n",
    "    #calcular y_hat promedio\n",
    "    y_hat_promedio = (y_hat_manual + y_hat_skl)/2\n",
    "    \n",
    "    # resultado\n",
    "    resultado = np.array([y_hat_manual, y_hat_skl, y_hat_promedio])\n",
    "    \n",
    "    return resultado.T"
   ]
  },
  {
   "cell_type": "markdown",
   "metadata": {},
   "source": [
    "### Predicción de la variable dependiente (Sales Price)"
   ]
  },
  {
   "cell_type": "code",
   "execution_count": 191,
   "metadata": {},
   "outputs": [],
   "source": [
    "# datos de validación 20%\n",
    "SalesPrice = validation_data[:,0]\n",
    "OverallQual_test = validation_data[:,1] # Nivel de calidad 1-Very poor y 10-Very Excelent\n",
    "FirstFloorArea_test = validation_data[:,2] # Área del primer nivel en pies cuadrados"
   ]
  },
  {
   "cell_type": "code",
   "execution_count": 192,
   "metadata": {},
   "outputs": [
    {
     "data": {
      "text/plain": [
       "array([[355018.40146426, 360013.60451734, 357516.0029908 ],\n",
       "       [178406.34834987, 177837.85459809, 178122.10147398],\n",
       "       [178406.34834987, 177837.85459809, 178122.10147398],\n",
       "       [222559.36162846, 223381.7920779 , 222970.57685318],\n",
       "       [134253.33507127, 132293.91711828, 133273.62609477],\n",
       "       [178406.34834987, 177837.85459809, 178122.10147398],\n",
       "       [266712.37490706, 268925.72955772, 267819.05223239],\n",
       "       [134253.33507127, 132293.91711828, 133273.62609477],\n",
       "       [178406.34834987, 177837.85459809, 178122.10147398],\n",
       "       [134253.33507127, 132293.91711828, 133273.62609477],\n",
       "       [134253.33507127, 132293.91711828, 133273.62609477],\n",
       "       [222559.36162846, 223381.7920779 , 222970.57685318],\n",
       "       [266712.37490706, 268925.72955772, 267819.05223239],\n",
       "       [355018.40146426, 360013.60451734, 357516.0029908 ],\n",
       "       [134253.33507127, 132293.91711828, 133273.62609477],\n",
       "       [134253.33507127, 132293.91711828, 133273.62609477],\n",
       "       [134253.33507127, 132293.91711828, 133273.62609477],\n",
       "       [ 45947.30851407,  41206.04215866,  43576.67533636],\n",
       "       [266712.37490706, 268925.72955772, 267819.05223239],\n",
       "       [222559.36162846, 223381.7920779 , 222970.57685318],\n",
       "       [222559.36162846, 223381.7920779 , 222970.57685318],\n",
       "       [ 90100.32179267,  86749.97963847,  88425.15071557],\n",
       "       [266712.37490706, 268925.72955772, 267819.05223239],\n",
       "       [134253.33507127, 132293.91711828, 133273.62609477],\n",
       "       [178406.34834987, 177837.85459809, 178122.10147398],\n",
       "       [178406.34834987, 177837.85459809, 178122.10147398],\n",
       "       [178406.34834987, 177837.85459809, 178122.10147398],\n",
       "       [222559.36162846, 223381.7920779 , 222970.57685318],\n",
       "       [222559.36162846, 223381.7920779 , 222970.57685318],\n",
       "       [222559.36162846, 223381.7920779 , 222970.57685318],\n",
       "       [ 90100.32179267,  86749.97963847,  88425.15071557],\n",
       "       [ 90100.32179267,  86749.97963847,  88425.15071557],\n",
       "       [222559.36162846, 223381.7920779 , 222970.57685318],\n",
       "       [134253.33507127, 132293.91711828, 133273.62609477],\n",
       "       [222559.36162846, 223381.7920779 , 222970.57685318],\n",
       "       [134253.33507127, 132293.91711828, 133273.62609477],\n",
       "       [222559.36162846, 223381.7920779 , 222970.57685318],\n",
       "       [ 90100.32179267,  86749.97963847,  88425.15071557],\n",
       "       [178406.34834987, 177837.85459809, 178122.10147398],\n",
       "       [134253.33507127, 132293.91711828, 133273.62609477],\n",
       "       [266712.37490706, 268925.72955772, 267819.05223239],\n",
       "       [178406.34834987, 177837.85459809, 178122.10147398],\n",
       "       [266712.37490706, 268925.72955772, 267819.05223239],\n",
       "       [ 90100.32179267,  86749.97963847,  88425.15071557],\n",
       "       [ 90100.32179267,  86749.97963847,  88425.15071557],\n",
       "       [134253.33507127, 132293.91711828, 133273.62609477],\n",
       "       [134253.33507127, 132293.91711828, 133273.62609477],\n",
       "       [178406.34834987, 177837.85459809, 178122.10147398],\n",
       "       [266712.37490706, 268925.72955772, 267819.05223239],\n",
       "       [ 90100.32179267,  86749.97963847,  88425.15071557],\n",
       "       [178406.34834987, 177837.85459809, 178122.10147398],\n",
       "       [134253.33507127, 132293.91711828, 133273.62609477],\n",
       "       [134253.33507127, 132293.91711828, 133273.62609477],\n",
       "       [178406.34834987, 177837.85459809, 178122.10147398],\n",
       "       [134253.33507127, 132293.91711828, 133273.62609477],\n",
       "       [222559.36162846, 223381.7920779 , 222970.57685318],\n",
       "       [178406.34834987, 177837.85459809, 178122.10147398],\n",
       "       [178406.34834987, 177837.85459809, 178122.10147398],\n",
       "       [134253.33507127, 132293.91711828, 133273.62609477],\n",
       "       [310865.38818566, 314469.66703753, 312667.5276116 ],\n",
       "       [134253.33507127, 132293.91711828, 133273.62609477],\n",
       "       [134253.33507127, 132293.91711828, 133273.62609477],\n",
       "       [134253.33507127, 132293.91711828, 133273.62609477],\n",
       "       [ 90100.32179267,  86749.97963847,  88425.15071557],\n",
       "       [134253.33507127, 132293.91711828, 133273.62609477],\n",
       "       [134253.33507127, 132293.91711828, 133273.62609477],\n",
       "       [134253.33507127, 132293.91711828, 133273.62609477],\n",
       "       [222559.36162846, 223381.7920779 , 222970.57685318],\n",
       "       [222559.36162846, 223381.7920779 , 222970.57685318],\n",
       "       [178406.34834987, 177837.85459809, 178122.10147398],\n",
       "       [266712.37490706, 268925.72955772, 267819.05223239],\n",
       "       [222559.36162846, 223381.7920779 , 222970.57685318],\n",
       "       [222559.36162846, 223381.7920779 , 222970.57685318],\n",
       "       [222559.36162846, 223381.7920779 , 222970.57685318],\n",
       "       [355018.40146426, 360013.60451734, 357516.0029908 ],\n",
       "       [266712.37490706, 268925.72955772, 267819.05223239],\n",
       "       [178406.34834987, 177837.85459809, 178122.10147398],\n",
       "       [222559.36162846, 223381.7920779 , 222970.57685318],\n",
       "       [178406.34834987, 177837.85459809, 178122.10147398],\n",
       "       [178406.34834987, 177837.85459809, 178122.10147398],\n",
       "       [134253.33507127, 132293.91711828, 133273.62609477],\n",
       "       [222559.36162846, 223381.7920779 , 222970.57685318],\n",
       "       [222559.36162846, 223381.7920779 , 222970.57685318],\n",
       "       [134253.33507127, 132293.91711828, 133273.62609477],\n",
       "       [222559.36162846, 223381.7920779 , 222970.57685318],\n",
       "       [222559.36162846, 223381.7920779 , 222970.57685318],\n",
       "       [178406.34834987, 177837.85459809, 178122.10147398],\n",
       "       [266712.37490706, 268925.72955772, 267819.05223239],\n",
       "       [134253.33507127, 132293.91711828, 133273.62609477],\n",
       "       [222559.36162846, 223381.7920779 , 222970.57685318],\n",
       "       [178406.34834987, 177837.85459809, 178122.10147398],\n",
       "       [178406.34834987, 177837.85459809, 178122.10147398],\n",
       "       [134253.33507127, 132293.91711828, 133273.62609477],\n",
       "       [ 90100.32179267,  86749.97963847,  88425.15071557],\n",
       "       [178406.34834987, 177837.85459809, 178122.10147398],\n",
       "       [178406.34834987, 177837.85459809, 178122.10147398],\n",
       "       [222559.36162846, 223381.7920779 , 222970.57685318],\n",
       "       [222559.36162846, 223381.7920779 , 222970.57685318],\n",
       "       [310865.38818566, 314469.66703753, 312667.5276116 ],\n",
       "       [266712.37490706, 268925.72955772, 267819.05223239],\n",
       "       [134253.33507127, 132293.91711828, 133273.62609477],\n",
       "       [222559.36162846, 223381.7920779 , 222970.57685318],\n",
       "       [178406.34834987, 177837.85459809, 178122.10147398],\n",
       "       [134253.33507127, 132293.91711828, 133273.62609477],\n",
       "       [178406.34834987, 177837.85459809, 178122.10147398],\n",
       "       [134253.33507127, 132293.91711828, 133273.62609477],\n",
       "       [134253.33507127, 132293.91711828, 133273.62609477],\n",
       "       [178406.34834987, 177837.85459809, 178122.10147398],\n",
       "       [178406.34834987, 177837.85459809, 178122.10147398],\n",
       "       [266712.37490706, 268925.72955772, 267819.05223239],\n",
       "       [ 90100.32179267,  86749.97963847,  88425.15071557],\n",
       "       [222559.36162846, 223381.7920779 , 222970.57685318],\n",
       "       [222559.36162846, 223381.7920779 , 222970.57685318],\n",
       "       [134253.33507127, 132293.91711828, 133273.62609477],\n",
       "       [178406.34834987, 177837.85459809, 178122.10147398],\n",
       "       [178406.34834987, 177837.85459809, 178122.10147398],\n",
       "       [178406.34834987, 177837.85459809, 178122.10147398],\n",
       "       [178406.34834987, 177837.85459809, 178122.10147398],\n",
       "       [134253.33507127, 132293.91711828, 133273.62609477],\n",
       "       [266712.37490706, 268925.72955772, 267819.05223239],\n",
       "       [266712.37490706, 268925.72955772, 267819.05223239],\n",
       "       [134253.33507127, 132293.91711828, 133273.62609477],\n",
       "       [134253.33507127, 132293.91711828, 133273.62609477],\n",
       "       [134253.33507127, 132293.91711828, 133273.62609477],\n",
       "       [222559.36162846, 223381.7920779 , 222970.57685318],\n",
       "       [134253.33507127, 132293.91711828, 133273.62609477],\n",
       "       [134253.33507127, 132293.91711828, 133273.62609477],\n",
       "       [134253.33507127, 132293.91711828, 133273.62609477],\n",
       "       [178406.34834987, 177837.85459809, 178122.10147398],\n",
       "       [355018.40146426, 360013.60451734, 357516.0029908 ],\n",
       "       [134253.33507127, 132293.91711828, 133273.62609477],\n",
       "       [222559.36162846, 223381.7920779 , 222970.57685318],\n",
       "       [178406.34834987, 177837.85459809, 178122.10147398],\n",
       "       [266712.37490706, 268925.72955772, 267819.05223239],\n",
       "       [222559.36162846, 223381.7920779 , 222970.57685318],\n",
       "       [222559.36162846, 223381.7920779 , 222970.57685318],\n",
       "       [310865.38818566, 314469.66703753, 312667.5276116 ],\n",
       "       [222559.36162846, 223381.7920779 , 222970.57685318],\n",
       "       [134253.33507127, 132293.91711828, 133273.62609477],\n",
       "       [134253.33507127, 132293.91711828, 133273.62609477],\n",
       "       [178406.34834987, 177837.85459809, 178122.10147398],\n",
       "       [222559.36162846, 223381.7920779 , 222970.57685318],\n",
       "       [222559.36162846, 223381.7920779 , 222970.57685318],\n",
       "       [266712.37490706, 268925.72955772, 267819.05223239],\n",
       "       [310865.38818566, 314469.66703753, 312667.5276116 ],\n",
       "       [ 90100.32179267,  86749.97963847,  88425.15071557],\n",
       "       [178406.34834987, 177837.85459809, 178122.10147398],\n",
       "       [266712.37490706, 268925.72955772, 267819.05223239],\n",
       "       [222559.36162846, 223381.7920779 , 222970.57685318],\n",
       "       [266712.37490706, 268925.72955772, 267819.05223239],\n",
       "       [ 90100.32179267,  86749.97963847,  88425.15071557],\n",
       "       [178406.34834987, 177837.85459809, 178122.10147398],\n",
       "       [ 45947.30851407,  41206.04215866,  43576.67533636],\n",
       "       [222559.36162846, 223381.7920779 , 222970.57685318],\n",
       "       [ 90100.32179267,  86749.97963847,  88425.15071557],\n",
       "       [266712.37490706, 268925.72955772, 267819.05223239],\n",
       "       [ 90100.32179267,  86749.97963847,  88425.15071557],\n",
       "       [ 45947.30851407,  41206.04215866,  43576.67533636],\n",
       "       [134253.33507127, 132293.91711828, 133273.62609477],\n",
       "       [178406.34834987, 177837.85459809, 178122.10147398],\n",
       "       [222559.36162846, 223381.7920779 , 222970.57685318],\n",
       "       [266712.37490706, 268925.72955772, 267819.05223239],\n",
       "       [134253.33507127, 132293.91711828, 133273.62609477],\n",
       "       [ 90100.32179267,  86749.97963847,  88425.15071557],\n",
       "       [134253.33507127, 132293.91711828, 133273.62609477],\n",
       "       [134253.33507127, 132293.91711828, 133273.62609477],\n",
       "       [178406.34834987, 177837.85459809, 178122.10147398],\n",
       "       [134253.33507127, 132293.91711828, 133273.62609477],\n",
       "       [ 90100.32179267,  86749.97963847,  88425.15071557],\n",
       "       [222559.36162846, 223381.7920779 , 222970.57685318],\n",
       "       [134253.33507127, 132293.91711828, 133273.62609477],\n",
       "       [ 90100.32179267,  86749.97963847,  88425.15071557],\n",
       "       [178406.34834987, 177837.85459809, 178122.10147398],\n",
       "       [266712.37490706, 268925.72955772, 267819.05223239],\n",
       "       [178406.34834987, 177837.85459809, 178122.10147398],\n",
       "       [222559.36162846, 223381.7920779 , 222970.57685318],\n",
       "       [ 90100.32179267,  86749.97963847,  88425.15071557],\n",
       "       [222559.36162846, 223381.7920779 , 222970.57685318],\n",
       "       [266712.37490706, 268925.72955772, 267819.05223239],\n",
       "       [222559.36162846, 223381.7920779 , 222970.57685318],\n",
       "       [266712.37490706, 268925.72955772, 267819.05223239],\n",
       "       [134253.33507127, 132293.91711828, 133273.62609477],\n",
       "       [178406.34834987, 177837.85459809, 178122.10147398],\n",
       "       [178406.34834987, 177837.85459809, 178122.10147398],\n",
       "       [266712.37490706, 268925.72955772, 267819.05223239],\n",
       "       [222559.36162846, 223381.7920779 , 222970.57685318],\n",
       "       [222559.36162846, 223381.7920779 , 222970.57685318],\n",
       "       [134253.33507127, 132293.91711828, 133273.62609477],\n",
       "       [134253.33507127, 132293.91711828, 133273.62609477],\n",
       "       [178406.34834987, 177837.85459809, 178122.10147398],\n",
       "       [310865.38818566, 314469.66703753, 312667.5276116 ],\n",
       "       [134253.33507127, 132293.91711828, 133273.62609477],\n",
       "       [222559.36162846, 223381.7920779 , 222970.57685318],\n",
       "       [ 90100.32179267,  86749.97963847,  88425.15071557],\n",
       "       [178406.34834987, 177837.85459809, 178122.10147398],\n",
       "       [222559.36162846, 223381.7920779 , 222970.57685318],\n",
       "       [222559.36162846, 223381.7920779 , 222970.57685318],\n",
       "       [222559.36162846, 223381.7920779 , 222970.57685318],\n",
       "       [134253.33507127, 132293.91711828, 133273.62609477],\n",
       "       [178406.34834987, 177837.85459809, 178122.10147398],\n",
       "       [266712.37490706, 268925.72955772, 267819.05223239],\n",
       "       [ 90100.32179267,  86749.97963847,  88425.15071557],\n",
       "       [178406.34834987, 177837.85459809, 178122.10147398],\n",
       "       [222559.36162846, 223381.7920779 , 222970.57685318],\n",
       "       [355018.40146426, 360013.60451734, 357516.0029908 ],\n",
       "       [222559.36162846, 223381.7920779 , 222970.57685318],\n",
       "       [266712.37490706, 268925.72955772, 267819.05223239],\n",
       "       [178406.34834987, 177837.85459809, 178122.10147398],\n",
       "       [134253.33507127, 132293.91711828, 133273.62609477],\n",
       "       [178406.34834987, 177837.85459809, 178122.10147398],\n",
       "       [134253.33507127, 132293.91711828, 133273.62609477],\n",
       "       [ 45947.30851407,  41206.04215866,  43576.67533636],\n",
       "       [178406.34834987, 177837.85459809, 178122.10147398],\n",
       "       [222559.36162846, 223381.7920779 , 222970.57685318],\n",
       "       [134253.33507127, 132293.91711828, 133273.62609477],\n",
       "       [178406.34834987, 177837.85459809, 178122.10147398],\n",
       "       [ 90100.32179267,  86749.97963847,  88425.15071557],\n",
       "       [222559.36162846, 223381.7920779 , 222970.57685318],\n",
       "       [178406.34834987, 177837.85459809, 178122.10147398],\n",
       "       [310865.38818566, 314469.66703753, 312667.5276116 ],\n",
       "       [178406.34834987, 177837.85459809, 178122.10147398],\n",
       "       [222559.36162846, 223381.7920779 , 222970.57685318],\n",
       "       [134253.33507127, 132293.91711828, 133273.62609477],\n",
       "       [134253.33507127, 132293.91711828, 133273.62609477],\n",
       "       [178406.34834987, 177837.85459809, 178122.10147398],\n",
       "       [222559.36162846, 223381.7920779 , 222970.57685318],\n",
       "       [266712.37490706, 268925.72955772, 267819.05223239],\n",
       "       [134253.33507127, 132293.91711828, 133273.62609477],\n",
       "       [134253.33507127, 132293.91711828, 133273.62609477],\n",
       "       [134253.33507127, 132293.91711828, 133273.62609477],\n",
       "       [178406.34834987, 177837.85459809, 178122.10147398],\n",
       "       [178406.34834987, 177837.85459809, 178122.10147398],\n",
       "       [178406.34834987, 177837.85459809, 178122.10147398],\n",
       "       [222559.36162846, 223381.7920779 , 222970.57685318],\n",
       "       [266712.37490706, 268925.72955772, 267819.05223239],\n",
       "       [ 45947.30851407,  41206.04215866,  43576.67533636],\n",
       "       [266712.37490706, 268925.72955772, 267819.05223239],\n",
       "       [134253.33507127, 132293.91711828, 133273.62609477],\n",
       "       [134253.33507127, 132293.91711828, 133273.62609477],\n",
       "       [ 90100.32179267,  86749.97963847,  88425.15071557],\n",
       "       [222559.36162846, 223381.7920779 , 222970.57685318],\n",
       "       [222559.36162846, 223381.7920779 , 222970.57685318],\n",
       "       [178406.34834987, 177837.85459809, 178122.10147398],\n",
       "       [ 90100.32179267,  86749.97963847,  88425.15071557],\n",
       "       [266712.37490706, 268925.72955772, 267819.05223239],\n",
       "       [178406.34834987, 177837.85459809, 178122.10147398],\n",
       "       [222559.36162846, 223381.7920779 , 222970.57685318],\n",
       "       [ 90100.32179267,  86749.97963847,  88425.15071557],\n",
       "       [266712.37490706, 268925.72955772, 267819.05223239],\n",
       "       [134253.33507127, 132293.91711828, 133273.62609477],\n",
       "       [178406.34834987, 177837.85459809, 178122.10147398],\n",
       "       [178406.34834987, 177837.85459809, 178122.10147398],\n",
       "       [178406.34834987, 177837.85459809, 178122.10147398],\n",
       "       [178406.34834987, 177837.85459809, 178122.10147398],\n",
       "       [178406.34834987, 177837.85459809, 178122.10147398],\n",
       "       [134253.33507127, 132293.91711828, 133273.62609477],\n",
       "       [178406.34834987, 177837.85459809, 178122.10147398],\n",
       "       [222559.36162846, 223381.7920779 , 222970.57685318],\n",
       "       [134253.33507127, 132293.91711828, 133273.62609477],\n",
       "       [134253.33507127, 132293.91711828, 133273.62609477],\n",
       "       [178406.34834987, 177837.85459809, 178122.10147398],\n",
       "       [134253.33507127, 132293.91711828, 133273.62609477],\n",
       "       [178406.34834987, 177837.85459809, 178122.10147398],\n",
       "       [ 90100.32179267,  86749.97963847,  88425.15071557],\n",
       "       [178406.34834987, 177837.85459809, 178122.10147398],\n",
       "       [134253.33507127, 132293.91711828, 133273.62609477],\n",
       "       [178406.34834987, 177837.85459809, 178122.10147398],\n",
       "       [ 90100.32179267,  86749.97963847,  88425.15071557],\n",
       "       [266712.37490706, 268925.72955772, 267819.05223239],\n",
       "       [178406.34834987, 177837.85459809, 178122.10147398],\n",
       "       [222559.36162846, 223381.7920779 , 222970.57685318],\n",
       "       [178406.34834987, 177837.85459809, 178122.10147398],\n",
       "       [178406.34834987, 177837.85459809, 178122.10147398],\n",
       "       [355018.40146426, 360013.60451734, 357516.0029908 ],\n",
       "       [178406.34834987, 177837.85459809, 178122.10147398],\n",
       "       [222559.36162846, 223381.7920779 , 222970.57685318],\n",
       "       [178406.34834987, 177837.85459809, 178122.10147398],\n",
       "       [134253.33507127, 132293.91711828, 133273.62609477],\n",
       "       [266712.37490706, 268925.72955772, 267819.05223239],\n",
       "       [ 90100.32179267,  86749.97963847,  88425.15071557],\n",
       "       [134253.33507127, 132293.91711828, 133273.62609477],\n",
       "       [134253.33507127, 132293.91711828, 133273.62609477],\n",
       "       [266712.37490706, 268925.72955772, 267819.05223239],\n",
       "       [134253.33507127, 132293.91711828, 133273.62609477],\n",
       "       [134253.33507127, 132293.91711828, 133273.62609477],\n",
       "       [222559.36162846, 223381.7920779 , 222970.57685318],\n",
       "       [178406.34834987, 177837.85459809, 178122.10147398],\n",
       "       [178406.34834987, 177837.85459809, 178122.10147398],\n",
       "       [222559.36162846, 223381.7920779 , 222970.57685318],\n",
       "       [134253.33507127, 132293.91711828, 133273.62609477],\n",
       "       [134253.33507127, 132293.91711828, 133273.62609477]])"
      ]
     },
     "execution_count": 192,
     "metadata": {},
     "output_type": "execute_result"
    }
   ],
   "source": [
    "mod_comb_OverallQual(modelo_lineal,modelo_scikit,OverallQual_test)"
   ]
  },
  {
   "cell_type": "code",
   "execution_count": 193,
   "metadata": {},
   "outputs": [
    {
     "data": {
      "text/plain": [
       "array([[271012.20205289, 251889.23379329, 261450.71792309],\n",
       "       [165503.17333271, 174501.32318513, 170002.24825892],\n",
       "       [186664.17067771, 190022.32068438, 188343.24568104],\n",
       "       [ 92549.5251433 , 120991.87026812, 106770.69770571],\n",
       "       [242156.29658243, 230724.2372034 , 236440.26689292],\n",
       "       [173198.08145816, 180145.32227576, 176671.70186696],\n",
       "       [315109.94477184, 284233.69012041, 299671.81744613],\n",
       "       [136647.26786225, 153336.32659523, 144991.79722874],\n",
       "       [121109.47260893, 141939.78996991, 131524.63128942],\n",
       "       [121405.43061376, 142156.86685801, 131781.14873588],\n",
       "       [166391.04734718, 175152.55384943, 170771.80059831],\n",
       "       [192139.39376698, 194038.24311426, 193088.81844062],\n",
       "       [244523.96062103, 232460.85230821, 238492.40646462],\n",
       "       [356840.02345219, 314841.53134272, 335840.77739745],\n",
       "       [167278.92136166, 175803.78451373, 171541.3529377 ],\n",
       "       [232685.64042803, 223777.77678416, 228231.70860609],\n",
       "       [140494.72192498, 156158.32614055, 148326.52403277],\n",
       "       [150113.3570818 , 163213.32500385, 156663.34104282],\n",
       "       [240380.54855348, 229421.77587479, 234901.16221414],\n",
       "       [123033.1996403 , 143350.78974257, 133191.99469143],\n",
       "       [152185.06311558, 164732.86322056, 158458.96316807],\n",
       "       [240084.59054866, 229204.69898669, 234644.64476767],\n",
       "       [113118.60647865, 136078.71399117, 124598.66023491],\n",
       "       [124660.96866683, 144544.71262712, 134602.84064698],\n",
       "       [181188.94758844, 186006.3982545 , 183597.67292147],\n",
       "       [ 98172.72723498, 125116.33114204, 111644.52918851],\n",
       "       [107791.3623918 , 132171.33000534, 119981.34619857],\n",
       "       [130136.1917561 , 148560.635057  , 139348.41340655],\n",
       "       [120665.53560169, 141614.17463776, 131139.85511972],\n",
       "       [179413.19955949, 184703.93692589, 182058.56824269],\n",
       "       [204569.62996963, 203155.47241452, 203862.55119208],\n",
       "       [127916.50671991, 146932.55839624, 137424.53255808],\n",
       "       [128212.46472474, 147149.63528434, 137681.05000454],\n",
       "       [130876.08676816, 149103.32727726, 139989.70702271],\n",
       "       [241268.42256796, 230073.0065391 , 235670.71455353],\n",
       "       [158992.09722656, 169725.63164689, 164358.86443672],\n",
       "       [325024.53793348, 291505.76587181, 308265.15190265],\n",
       "       [156328.47518313, 167771.93965398, 162050.20741855],\n",
       "       [251626.95273684, 237670.69762265, 244648.82517974],\n",
       "       [189919.70873079, 192410.1664535 , 191164.93759214],\n",
       "       [245707.79264033, 233329.15986062, 239518.47625048],\n",
       "       [156180.49618072, 167663.40120993, 161921.94869532],\n",
       "       [159879.97124103, 170376.8623112 , 165128.41677611],\n",
       "       [ 99504.53825669, 126093.1771385 , 112798.8576976 ],\n",
       "       [142122.49095152, 157352.24902511, 149737.36998832],\n",
       "       [147893.67204561, 161585.24834309, 154739.46019435],\n",
       "       [132355.87679229, 150188.71171776, 141272.29425503],\n",
       "       [195098.97381523, 196209.01199527, 195653.99290525],\n",
       "       [194507.05780558, 195774.85821907, 195140.95801232],\n",
       "       [ 99504.53825669, 126093.1771385 , 112798.8576976 ],\n",
       "       [ 99504.53825669, 126093.1771385 , 112798.8576976 ],\n",
       "       [135019.49883572, 152142.40371068, 143580.9512732 ],\n",
       "       [179265.22055708, 184595.39848184, 181930.30951946],\n",
       "       [172902.12345334, 179928.24538766, 176415.1844205 ],\n",
       "       [316145.79778873, 284993.45922877, 300569.62850875],\n",
       "       [116670.10253655, 138683.63664839, 127676.86959247],\n",
       "       [168462.75338096, 176672.09206614, 172567.42272355],\n",
       "       [132355.87679229, 150188.71171776, 141272.29425503],\n",
       "       [135019.49883572, 152142.40371068, 143580.9512732 ],\n",
       "       [251922.91074166, 237887.77451075, 244905.34262621],\n",
       "       [223067.00527121, 216722.77792086, 219894.89159603],\n",
       "       [201462.07091897, 200876.16508945, 201169.11800421],\n",
       "       [176157.66150642, 182316.09115678, 179236.8763316 ],\n",
       "       [181188.94758844, 186006.3982545 , 183597.67292147],\n",
       "       [175861.70350159, 182099.01426868, 178980.35888513],\n",
       "       [151593.14710593, 164298.70944436, 157945.92827514],\n",
       "       [132059.91878746, 149971.63482966, 141015.77680856],\n",
       "       [113118.60647865, 136078.71399117, 124598.66023491],\n",
       "       [125400.8636789 , 145087.40484738, 135244.13426314],\n",
       "       [168906.6903882 , 176997.70739829, 172952.19889325],\n",
       "       [219663.48821572, 214226.39370769, 216944.9409617 ],\n",
       "       [130876.08676816, 149103.32727726, 139989.70702271],\n",
       "       [249999.1837103 , 236476.77473809, 243237.9792242 ],\n",
       "       [173642.0184654 , 180470.93760792, 177056.47803666],\n",
       "       [307267.05764397, 278481.15258572, 292874.10511485],\n",
       "       [117262.0185462 , 139117.79042459, 128189.9044854 ],\n",
       "       [168758.71138579, 176889.16895424, 172823.94017001],\n",
       "       [111934.77445935, 135210.40643876, 123572.59044906],\n",
       "       [153072.93713005, 165384.09388486, 159228.51550746],\n",
       "       [167870.83737131, 176237.93828994, 172054.38783062],\n",
       "       [146265.90301907, 160391.32545853, 153328.6142388 ],\n",
       "       [312298.343726  , 282171.45968345, 297234.90170472],\n",
       "       [207973.14702512, 205651.85662768, 206812.5018264 ],\n",
       "       [129396.29674404, 148017.94283675, 138707.11979039],\n",
       "       [224398.81629292, 217699.62391731, 221049.22010512],\n",
       "       [112526.690469  , 135644.56021497, 124085.62534198],\n",
       "       [141974.51194911, 157243.71058106, 149609.11126508],\n",
       "       [294096.92642925, 268821.23106521, 281459.07874723],\n",
       "       [127916.50671991, 146932.55839624, 137424.53255808],\n",
       "       [172606.16544851, 179711.16849956, 176158.66697404],\n",
       "       [156032.5171783 , 167554.86276588, 161793.68997209],\n",
       "       [132059.91878746, 149971.63482966, 141015.77680856],\n",
       "       [155440.60116865, 167120.70898968, 161280.65507916],\n",
       "       [163431.46729893, 172981.78496842, 168206.62613367],\n",
       "       [156920.39119278, 168206.09343018, 162563.24231148],\n",
       "       [197910.57486107, 198271.24243223, 198090.90864665],\n",
       "       [105571.67735561, 130543.25334458, 118057.4653501 ],\n",
       "       [142714.40696117, 157786.40280131, 150250.40488124],\n",
       "       [298684.27550404, 272185.92283078, 285435.09916741],\n",
       "       [291285.32538341, 266759.00062824, 279022.16300583],\n",
       "       [129396.29674404, 148017.94283675, 138707.11979039],\n",
       "       [197170.679849  , 197728.55021198, 197449.61503049],\n",
       "       [220403.38322778, 214769.08592795, 217586.23457786],\n",
       "       [138423.0158912 , 154638.78792384, 146530.90190752],\n",
       "       [200870.15490932, 200442.01131325, 200656.08311128],\n",
       "       [ 97876.76923015, 124899.25425394, 111388.01174205],\n",
       "       [137387.16287432, 153879.01881549, 145633.0908449 ],\n",
       "       [108827.21540869, 132931.0991137 , 120879.15726119],\n",
       "       [255178.44879474, 240275.62027987, 247727.0345373 ],\n",
       "       [166982.96335684, 175586.70762563, 171284.83549123],\n",
       "       [103351.99231942, 128915.17668382, 116133.58450162],\n",
       "       [232833.61943044, 223886.31522821, 228359.96732932],\n",
       "       [198206.53286589, 198488.31932034, 198347.42609311],\n",
       "       [153960.81114453, 166035.32454917, 159998.06784685],\n",
       "       [135019.49883572, 152142.40371068, 143580.9512732 ],\n",
       "       [251478.97373443, 237562.1591786 , 244520.56645651],\n",
       "       [122145.32562582, 142699.55907826, 132422.44235204],\n",
       "       [196578.76383935, 197294.39643578, 196936.58013757],\n",
       "       [234165.43045215, 224863.16122466, 229514.29583841],\n",
       "       [245559.81363792, 233220.62141657, 239390.21752725],\n",
       "       [165799.13133753, 174718.40007323, 170258.76570538],\n",
       "       [170534.45941474, 178191.63028285, 174363.04484879],\n",
       "       [ 93289.42015536, 121534.56248837, 107411.99132187],\n",
       "       [203977.71395998, 202721.31863831, 203349.51629915],\n",
       "       [123181.17864271, 143459.32818662, 133320.25341466],\n",
       "       [127916.50671991, 146932.55839624, 137424.53255808],\n",
       "       [155736.55917348, 167337.78587778, 161537.17252563],\n",
       "       [166982.96335684, 175586.70762563, 171284.83549123],\n",
       "       [158696.13922173, 169508.55475879, 164102.34699026],\n",
       "       [694380.12795532, 562417.72222242, 628398.92508887],\n",
       "       [184444.48564152, 188394.24402362, 186419.36483257],\n",
       "       [148781.54606009, 162236.47900739, 155509.01253374],\n",
       "       [111490.83745211, 134884.79110661, 123187.81427936],\n",
       "       [178081.38853778, 183727.09092944, 180904.23973361],\n",
       "       [239196.71653418, 228553.46832239, 233875.09242828],\n",
       "       [144490.15499012, 159088.86412992, 151789.50956002],\n",
       "       [244523.96062103, 232460.85230821, 238492.40646462],\n",
       "       [202497.92393586, 201635.93419781, 202066.92906683],\n",
       "       [146561.8610239 , 160608.40234663, 153585.13168526],\n",
       "       [166095.08934236, 174935.47696133, 170515.28315184],\n",
       "       [191547.47775733, 193604.08933805, 192575.78354769],\n",
       "       [281518.71122418, 259595.4633209 , 270557.08727254],\n",
       "       [188587.89770907, 191433.32045704, 190010.60908306],\n",
       "       [215076.13914093, 210861.70194212, 212968.92054152],\n",
       "       [210488.79006614, 207497.01017655, 208992.90012134],\n",
       "       [140346.74292257, 156049.7876965 , 148198.26530954],\n",
       "       [161655.71926998, 171679.32363981, 166667.52145489],\n",
       "       [241268.42256796, 230073.0065391 , 235670.71455353],\n",
       "       [200130.25989726, 199899.319093  , 200014.78949513],\n",
       "       [264501.12594673, 247113.54225506, 255807.3341009 ],\n",
       "       [140346.74292257, 156049.7876965 , 148198.26530954],\n",
       "       [218775.61420124, 213575.16304339, 216175.38862231],\n",
       "       [106607.5303725 , 131303.02245294, 118955.27641272],\n",
       "       [157068.37019519, 168314.63187423, 162691.50103471],\n",
       "       [104831.78234355, 130000.56112433, 117416.17173394],\n",
       "       [265684.95796603, 247981.84980747, 256833.40388675],\n",
       "       [117853.93455585, 139551.94420079, 128702.93937832],\n",
       "       [114598.39650278, 137164.09843168, 125881.24746723],\n",
       "       [120813.51460411, 141722.71308181, 131268.11384296],\n",
       "       [234461.38845698, 225080.23811276, 229770.81328487],\n",
       "       [141382.59593946, 156809.55680486, 149096.07637216],\n",
       "       [235053.30446663, 225514.39188897, 230283.8481778 ],\n",
       "       [141234.61693704, 156701.01836081, 148967.81764893],\n",
       "       [120813.51460411, 141722.71308181, 131268.11384296],\n",
       "       [118889.78757274, 140311.71330915, 129600.75044094],\n",
       "       [113266.58548106, 136187.25243522, 124726.91895814],\n",
       "       [197466.63785383, 197945.62710008, 197706.13247696],\n",
       "       [245115.87663068, 232895.00608442, 239005.44135755],\n",
       "       [102612.09730736, 128372.48446357, 115492.29088546],\n",
       "       [136203.33085502, 153010.71126308, 144607.02105905],\n",
       "       [127916.50671991, 146932.55839624, 137424.53255808],\n",
       "       [129100.33873921, 147800.86594865, 138450.60234393],\n",
       "       [164911.25732306, 174067.16940892, 169489.21336599],\n",
       "       [190067.6877332 , 192518.70489755, 191293.19631537],\n",
       "       [173494.03946299, 180362.39916386, 176928.21931343],\n",
       "       [107791.3623918 , 132171.33000534, 119981.34619857],\n",
       "       [142122.49095152, 157352.24902511, 149737.36998832],\n",
       "       [319105.37783698, 287164.22810978, 303134.80297338],\n",
       "       [262873.3569202 , 245919.6193705 , 254396.48814535],\n",
       "       [221143.27823984, 215311.7781482 , 218227.52819402],\n",
       "       [138866.95289844, 154964.40325599, 146915.67807722],\n",
       "       [198058.55386348, 198379.78087629, 198219.16736988],\n",
       "       [127028.63270544, 146281.32773194, 136654.98021869],\n",
       "       [116374.14453173, 138466.55976028, 127420.35214601],\n",
       "       [303863.54058848, 275984.76837255, 289924.15448052],\n",
       "       [146857.81902872, 160825.47923473, 153841.64913173],\n",
       "       [180892.98958362, 185789.3213664 , 183341.15547501],\n",
       "       [132059.91878746, 149971.63482966, 141015.77680856],\n",
       "       [159584.01323621, 170159.7854231 , 164871.89932965],\n",
       "       [113858.50149071, 136621.40621142, 125239.95385107],\n",
       "       [293061.07341236, 268061.46195685, 280561.26768461],\n",
       "       [146561.8610239 , 160608.40234663, 153585.13168526],\n",
       "       [226470.5223267 , 219219.16213402, 222844.84223036],\n",
       "       [189623.75072596, 192193.08956539, 190908.42014568],\n",
       "       [ 91217.71412159, 120015.02427166, 105616.36919662],\n",
       "       [ 77011.72988998, 109595.33364279,  93303.53176638],\n",
       "       [120517.55659928, 141505.6361937 , 131011.59639649],\n",
       "       [130580.12876334, 148886.25038915, 139733.18957625],\n",
       "       [136943.22586708, 153553.40348334, 145248.31467521],\n",
       "       [125548.84268131, 145195.94329143, 135372.39298637],\n",
       "       [246891.62465964, 234197.46741303, 240544.54603633],\n",
       "       [124365.01066201, 144327.63573902, 134346.32320052],\n",
       "       [245855.77164275, 233437.69830467, 239646.73497371],\n",
       "       [164023.38330858, 173415.93874462, 168719.6610266 ],\n",
       "       [389691.36198779, 338937.06592198, 364314.21395488],\n",
       "       [151889.10511075, 164515.78633246, 158202.4457216 ],\n",
       "       [232537.66142561, 223669.2383401 , 228103.44988286],\n",
       "       [116966.06054138, 138900.71353649, 127933.38703893],\n",
       "       [145673.98700942, 159957.17168233, 152815.57934588],\n",
       "       [ 71536.50680071, 105579.41121291,  88557.95900681],\n",
       "       [111638.81645453, 134993.32955066, 123316.07300259],\n",
       "       [127916.50671991, 146932.55839624, 137424.53255808],\n",
       "       [313334.19674289, 282931.2287918 , 298132.71276735],\n",
       "       [147745.6930432 , 161476.70989904, 154611.20147112],\n",
       "       [209600.91605166, 206845.77951224, 208223.34778195],\n",
       "       [103351.99231942, 128915.17668382, 116133.58450162],\n",
       "       [117853.93455585, 139551.94420079, 128702.93937832],\n",
       "       [206049.41999376, 204240.85685502, 205145.13842439],\n",
       "       [246299.70864998, 233763.31363682, 240031.5111434 ],\n",
       "       [258433.98684782, 242663.46604898, 250548.7264484 ],\n",
       "       [128656.40173197, 147475.25061649, 138065.82617423],\n",
       "       [225730.62731463, 218676.46991377, 222203.5486142 ],\n",
       "       [234461.38845698, 225080.23811276, 229770.81328487],\n",
       "       [133243.75080676, 150839.94238207, 142041.84659442],\n",
       "       [180745.01058121, 185680.78292235, 183212.89675178],\n",
       "       [222031.15225432, 215963.0088125 , 218997.08053341],\n",
       "       [167722.8583689 , 176129.39984589, 171926.12910739],\n",
       "       [249703.22570547, 236259.69784999, 242981.46177773],\n",
       "       [139014.93190086, 155072.94170005, 147043.93680045],\n",
       "       [168166.79537614, 176455.01517804, 172310.90527709],\n",
       "       [171718.29143404, 179059.93783526, 175389.11463465],\n",
       "       [140642.70092739, 156266.8645846 , 148454.782756  ],\n",
       "       [127916.50671991, 146932.55839624, 137424.53255808],\n",
       "       [191547.47775733, 193604.08933805, 192575.78354769],\n",
       "       [216703.90816747, 212055.62482668, 214379.76649707],\n",
       "       [102760.07630977, 128481.02290762, 115620.54960869],\n",
       "       [243636.08660656, 231809.62164391, 237722.85412523],\n",
       "       [113710.5224883 , 136512.86776737, 125111.69512784],\n",
       "       [123329.15764512, 143567.86663067, 133448.51213789],\n",
       "       [109715.08942316, 133582.329778  , 121648.70960058],\n",
       "       [182964.6956174 , 187308.85958311, 185136.77760025],\n",
       "       [139754.82691292, 155615.6339203 , 147685.23041661],\n",
       "       [164615.29931823, 173850.09252082, 169232.69591953],\n",
       "       [153960.81114453, 166035.32454917, 159998.06784685],\n",
       "       [272935.92908425, 253300.23356595, 263118.0813251 ],\n",
       "       [155884.53817589, 167446.32432183, 161665.43124886],\n",
       "       [232241.70342079, 223452.161452  , 227846.9324364 ],\n",
       "       [184444.48564152, 188394.24402362, 186419.36483257],\n",
       "       [193915.14179593, 195340.70444287, 194627.9231194 ],\n",
       "       [169350.62739544, 177323.32273044, 173336.97506294],\n",
       "       [272935.92908425, 253300.23356595, 263118.0813251 ],\n",
       "       [104831.78234355, 130000.56112433, 117416.17173394],\n",
       "       [158252.20221449, 169182.93942664, 163717.57082057],\n",
       "       [125548.84268131, 145195.94329143, 135372.39298637],\n",
       "       [233129.57743526, 224103.39211631, 228616.48477579],\n",
       "       [198946.42787796, 199031.01154059, 198988.71970927],\n",
       "       [185332.359656  , 189045.47468792, 187188.91717196],\n",
       "       [181040.96858603, 185897.85981045, 183469.41419824],\n",
       "       [155144.64316383, 166903.63210157, 161024.1376327 ],\n",
       "       [119037.76657516, 140420.2517532 , 129729.00916418],\n",
       "       [213152.41210956, 209450.70216946, 211301.55713951],\n",
       "       [108679.23640627, 132822.56066965, 120750.89853796],\n",
       "       [141826.53294669, 157135.17213701, 149480.85254185],\n",
       "       [143306.32297082, 158220.55657752, 150763.43977417],\n",
       "       [142418.44895634, 157569.32591321, 149993.88743478],\n",
       "       [166687.00535201, 175369.63073753, 171028.31804477],\n",
       "       [227506.37534359, 219978.93124238, 223742.65329298],\n",
       "       [127916.50671991, 146932.55839624, 137424.53255808],\n",
       "       [285958.08129656, 262851.61664242, 274404.84896949],\n",
       "       [182964.6956174 , 187308.85958311, 185136.77760025],\n",
       "       [153960.81114453, 166035.32454917, 159998.06784685],\n",
       "       [210636.76906855, 207605.5486206 , 209121.15884457],\n",
       "       [125548.84268131, 145195.94329143, 135372.39298637],\n",
       "       [151889.10511075, 164515.78633246, 158202.4457216 ],\n",
       "       [140938.65893222, 156483.9414727 , 148711.30020246],\n",
       "       [210488.79006614, 207497.01017655, 208992.90012134],\n",
       "       [135167.47783813, 152250.94215473, 143709.20999643],\n",
       "       [175861.70350159, 182099.01426868, 178980.35888513],\n",
       "       [180597.03157879, 185572.2444783 , 183084.63802855],\n",
       "       [117853.93455585, 139551.94420079, 128702.93937832],\n",
       "       [ 93289.42015536, 121534.56248837, 107411.99132187],\n",
       "       [132651.83479711, 150405.78860586, 141528.81170149],\n",
       "       [233573.5144425 , 224429.00744846, 229001.26094548],\n",
       "       [158696.13922173, 169508.55475879, 164102.34699026],\n",
       "       [168758.71138579, 176889.16895424, 172823.94017001],\n",
       "       [180745.01058121, 185680.78292235, 183212.89675178],\n",
       "       [141086.63793463, 156592.47991676, 148839.55892569],\n",
       "       [306823.12063674, 278155.53725357, 292489.32894515],\n",
       "       [175861.70350159, 182099.01426868, 178980.35888513],\n",
       "       [159584.01323621, 170159.7854231 , 164871.89932965],\n",
       "       [185924.27566565, 189479.62846413, 187701.95206489]])"
      ]
     },
     "execution_count": 193,
     "metadata": {},
     "output_type": "execute_result"
    }
   ],
   "source": [
    " mod_comb_FirstFloorArea(modelo_lineal,modelo_scikit,FirstFloorArea_test)"
   ]
  },
  {
   "cell_type": "code",
   "execution_count": 194,
   "metadata": {},
   "outputs": [],
   "source": [
    "modelo1 = mod_comb_OverallQual(modelo_lineal,modelo_scikit,OverallQual_test)\n",
    "modelo2 = mod_comb_FirstFloorArea(modelo_lineal,modelo_scikit,FirstFloorArea_test)"
   ]
  },
  {
   "cell_type": "code",
   "execution_count": 195,
   "metadata": {},
   "outputs": [],
   "source": [
    "estimacion_oq_manual = modelo1[:,0]\n",
    "estimacion_oq_skl = modelo1[:,1]\n",
    "estimacion_ffa_manual = modelo2[:,0]\n",
    "estimacion_ffa_skl = modelo2[:,1]"
   ]
  },
  {
   "cell_type": "code",
   "execution_count": 196,
   "metadata": {},
   "outputs": [
    {
     "name": "stdout",
     "output_type": "stream",
     "text": [
      "1313912050.0598311\n",
      "1311905775.0912397\n",
      "2416702846.713779\n",
      "2250783133.845637\n"
     ]
    }
   ],
   "source": [
    "error_oq_manual = np.mean(np.power(SalesPrice-estimacion_oq_manual,2))/2\n",
    "error_oq_skl = np.mean(np.power(SalesPrice-estimacion_oq_skl,2))/2\n",
    "\n",
    "error_ffa_manual = np.mean(np.power(SalesPrice-estimacion_ffa_manual,2))/2\n",
    "error_ffa_skl = np.mean(np.power(SalesPrice-estimacion_ffa_skl,2))/2\n",
    "\n",
    "print(error_oq_manual)\n",
    "print(error_oq_skl)\n",
    "print(error_ffa_manual)\n",
    "print(error_ffa_skl)"
   ]
  },
  {
   "cell_type": "markdown",
   "metadata": {},
   "source": [
    "### Error de cada modelo"
   ]
  },
  {
   "cell_type": "code",
   "execution_count": 197,
   "metadata": {},
   "outputs": [
    {
     "data": {
      "image/png": "[encoded data removed]",
      "text/plain": [
       "<Figure size 432x288 with 1 Axes>"
      ]
     },
     "metadata": {
      "needs_background": "light"
     },
     "output_type": "display_data"
    }
   ],
   "source": [
    "labels = ['Overall Quality', 'First Floor Area']\n",
    "error_manual = [error_oq_manual, error_ffa_manual]\n",
    "error_skl = [error_oq_skl, error_ffa_skl]\n",
    "label_location = np.arange(len(labels))\n",
    "width = 0.35\n",
    "\n",
    "fig, ej = plt.subplots()\n",
    "rects1 = ej.bar(label_location - width/2, error_manual, width, label='Manual', color = '#0028f7')\n",
    "rects2 = ej.bar(label_location + width/2, error_skl, width, label='SKL', color = '#ffbfc9')\n",
    "\n",
    "ej.set_ylabel('Error promedio')\n",
    "ej.set_title('Error según el modelo lineal y la variable independiente elegida', fontsize = 10)\n",
    "ej.set_xticks(label_location)\n",
    "ej.set_xticklabels(labels)\n",
    "ej.legend()\n",
    "\n",
    "fig.tight_layout()\n",
    "\n",
    "plt.show()"
   ]
  },
  {
   "cell_type": "markdown",
   "metadata": {},
   "source": [
    "### Conclusión\n",
    "\n",
    "* El modelo con menor error corresponde al de Sci-kit Learn sobre la variable independiente Overall Quality (nivel de calidad general de la casa). Y es el que debe utilizarse para predecir de forma más certera los precios de venta de las casas. Este modelo puede escribirse como: \n",
    "\n",
    "$$ SalesPrice = 45543.94*(Overall Quality) - 95425.77 $$ "
   ]
  },
  {
   "cell_type": "code",
   "execution_count": 198,
   "metadata": {},
   "outputs": [
    {
     "data": {
      "text/plain": [
       "array([ 45543.93747981, -95425.77028078])"
      ]
     },
     "execution_count": 198,
     "metadata": {},
     "output_type": "execute_result"
    }
   ],
   "source": [
    "modelo_scikit(OverallQual_test,SalesPrice)"
   ]
  },
  {
   "cell_type": "markdown",
   "metadata": {},
   "source": [
    "* Para la variable First Floor Area el modelo con menor error es también el generado por Sci-kit Learn. Pero hay mayor correlación entre el precio de venta y el nivel de calidad de la casa que entre el precio de venta y el área del primer nivel."
   ]
  }
 ],
 "metadata": {
  "kernelspec": {
   "display_name": "Python 3",
   "language": "python",
   "name": "python3"
  },
  "language_info": {
   "codemirror_mode": {
    "name": "ipython",
    "version": 3
   },
   "file_extension": ".py",
   "mimetype": "text/x-python",
   "name": "python",
   "nbconvert_exporter": "python",
   "pygments_lexer": "ipython3",
   "version": "3.8.5"
  }
 },
 "nbformat": 4,
 "nbformat_minor": 4
}
