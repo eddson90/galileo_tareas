{
 "cells": [
  {
   "cell_type": "markdown",
   "metadata": {},
   "source": [
    "# Tarea 6\n",
    "\n",
    "Eddson Sierra\n",
    "\n",
    "09/04/2021"
   ]
  },
  {
   "cell_type": "code",
   "execution_count": 27,
   "metadata": {},
   "outputs": [],
   "source": [
    "# imports\n",
    "import numpy as np"
   ]
  },
  {
   "cell_type": "markdown",
   "metadata": {},
   "source": [
    "## np.array vs np.matrix\n",
    "\n",
    "**Ejercicio**: Investigar y ejemplificar diferencias entre np.array y np.matrix\n",
    "\n",
    "**Array** permite crear arreglos a partir de listas, secuencias u otros objetos. Es una función más general que **matrix.**\n",
    "\n",
    "*Argumentos de numpy.array*: numpy.array(object, dtype=None, *, copy=True, order='K', subok=False, ndmin=0, like=None)\n",
    "\n",
    "En el caso de **matrix** es una función que permite la creación de matrices o arreglos a partir de elementos diferentes como listas y otros objetos. La gran diferencia es que np.matrix solo permite crear matrices de 2D mientras que np.array permite la creación de arreglos N-dimensionales. La función matrix es una subclase de los ndarrays. Se recomienda el uso de np.array en lugar de np.matrix ya que en el futuro esta última será removida.\n",
    "\n",
    "Ejemplos:"
   ]
  },
  {
   "cell_type": "code",
   "execution_count": 28,
   "metadata": {},
   "outputs": [
    {
     "data": {
      "text/plain": [
       "(array([1, 2, 3, 4]), matrix([[1, 2, 3, 4]]))"
      ]
     },
     "execution_count": 28,
     "metadata": {},
     "output_type": "execute_result"
    }
   ],
   "source": [
    "# la gran diferencia es que aunque tanto el arreglo como la matriz se crean con el mismo objeto\n",
    "# no tienen las mismas dimensiones ni son del mismo tipo:\n",
    "arr = np.array([1,2,3,4])\n",
    "mat = np.matrix([1,2,3,4])\n",
    "arr, mat"
   ]
  },
  {
   "cell_type": "code",
   "execution_count": 29,
   "metadata": {},
   "outputs": [
    {
     "name": "stdout",
     "output_type": "stream",
     "text": [
      "Shape del array: (4,) Shape de la matriz: (1, 4)\n"
     ]
    }
   ],
   "source": [
    "print(\"Shape del array:\", arr.shape, \"Shape de la matriz:\",mat.shape)"
   ]
  },
  {
   "cell_type": "code",
   "execution_count": 30,
   "metadata": {},
   "outputs": [
    {
     "name": "stdout",
     "output_type": "stream",
     "text": [
      "Type del array: <class 'numpy.ndarray'> Type de la matriz: <class 'numpy.matrix'>\n"
     ]
    }
   ],
   "source": [
    "print(\"Type del array:\", type(arr), \"Type de la matriz:\",type(mat))"
   ]
  },
  {
   "cell_type": "markdown",
   "metadata": {},
   "source": [
    "* Ambas tienen un método .T para obtener la matriz traspuesta, pero solo matrix tiene .I (matriz inversa) y .H (Conjugada de la matriz)."
   ]
  },
  {
   "cell_type": "code",
   "execution_count": 37,
   "metadata": {},
   "outputs": [
    {
     "name": "stdout",
     "output_type": "stream",
     "text": [
      "[[1 2]\n",
      " [3 4]]\n",
      "[[1 3]\n",
      " [2 4]]\n"
     ]
    }
   ],
   "source": [
    "arr2 = np.array([[1,2],[3,4]])\n",
    "print(arr2)\n",
    "print(arr2.T)"
   ]
  },
  {
   "cell_type": "code",
   "execution_count": 43,
   "metadata": {},
   "outputs": [
    {
     "name": "stdout",
     "output_type": "stream",
     "text": [
      "[[1 2]\n",
      " [3 4]]\n",
      "[[1 3]\n",
      " [2 4]]\n",
      "[[-2.   1. ]\n",
      " [ 1.5 -0.5]]\n",
      "[[1 3]\n",
      " [2 4]]\n"
     ]
    }
   ],
   "source": [
    "mat2 = np.matrix([[1,2],[3,4]])\n",
    "print(mat2)\n",
    "print(mat2.T)\n",
    "print(mat2.I)\n",
    "print(mat2.H)"
   ]
  },
  {
   "cell_type": "markdown",
   "metadata": {},
   "source": [
    "* Ambas pueden ser convertidas entre sí utilizando np.asmatrix() o np.asarray()"
   ]
  },
  {
   "cell_type": "code",
   "execution_count": 45,
   "metadata": {},
   "outputs": [
    {
     "data": {
      "text/plain": [
       "matrix([[1, 2],\n",
       "        [3, 4]])"
      ]
     },
     "execution_count": 45,
     "metadata": {},
     "output_type": "execute_result"
    }
   ],
   "source": [
    "matriz_from_arr2 = np.asmatrix(arr2)\n",
    "matriz_from_arr2"
   ]
  },
  {
   "cell_type": "code",
   "execution_count": 46,
   "metadata": {},
   "outputs": [
    {
     "data": {
      "text/plain": [
       "array([[1, 2],\n",
       "       [3, 4]])"
      ]
     },
     "execution_count": 46,
     "metadata": {},
     "output_type": "execute_result"
    }
   ],
   "source": [
    "arr_from_mat2 = np.asarray(mat2)\n",
    "arr_from_mat2"
   ]
  },
  {
   "cell_type": "markdown",
   "metadata": {},
   "source": [
    "## Ejercicio aplicado en DS\n",
    "\n",
    "Se tiene una red neuronal sencilla(y simplificada) como la de la siguiente imagen:\n",
    "<img src=\"https://www.oreilly.com/library/view/practical-convolutional-neural/9781788392303/assets/246151fb-7893-448d-b9bb-7a87b387a24b.png\" width=\"300\">\n",
    "\n",
    "Donde:\n",
    "* INPUT LAYER: un vector X de tamaño = 2 que representa los datos de entrada\n",
    "* HIDDEN_LAYER :capa oculta con 2 neuronas definidas por los vectores:\n",
    "    * HL1 = [0.25,0.37]\n",
    "    * HL2 = [-8,14]\n",
    "* OUTPUT_LAYER = capa de salida definida por el vector [4,9]\n",
    "\n",
    "Crear una funcion neural_network(X) para calcular:\n",
    "* Calcule la salida de cada neurona en la capa intermedia aplicada a la capa de entrada.\n",
    "* Use el resultado del paso anterior como entrada para la neurona en la capa de salida\n",
    "\n",
    "Utilizando multiplicación de matrices se debe calcular para cada fila de la matriz de entrada X el valor de las neuronas de la capa intermedia, esto producirá una nueva matriz con el mismo número de filas que X y 2 columnas(1 para cada neurona) , a  los valores de esta matriz se les debe aplicar la función \"sigmoid\"(descrita a continuación) para limitarlos al intervalo de 0 a 1, esto produce una matriz del mismo tamaño pero con valores entre 0 a 1, esta matriz se multiplica matricialmente por la matriz que representa los pesos de la capa de salida  y este proceso produce un nuevo tensor al cual se debe aplicar nuevamente la función sigmoid. El resultado debe ser un tensor con el mismo número de filas que la matriz X y una sola columna(una predicción para cada fila de X.\n",
    "\n",
    "<img src=\"https://cdn-images-1.medium.com/max/1600/1*Xu7B5y9gp0iL5ooBj7LtWw.png\" width=\"300\">"
   ]
  },
  {
   "cell_type": "code",
   "execution_count": 47,
   "metadata": {},
   "outputs": [],
   "source": [
    "def sigmoid(x): #convertir los valores de x al rango de 0 a 1\n",
    "    \n",
    "    return 1/(1+np.exp(-x))"
   ]
  },
  {
   "cell_type": "code",
   "execution_count": 48,
   "metadata": {},
   "outputs": [
    {
     "name": "stdout",
     "output_type": "stream",
     "text": [
      "[[0.99995577]\n",
      " [0.99999332]]\n"
     ]
    }
   ],
   "source": [
    "H1_W = np.array([[0.25,-8],\n",
    "                 [0.37,14]])\n",
    "OL_W = np.array([[4],[9]])\n",
    "\n",
    "X =  np.array([[0.1,0.2],\n",
    "               [1,2]])\n",
    "\n",
    "H1 = np.matmul(X,H1_W)\n",
    "H1 = sigmoid(H1)  # funcion de activacion: convertir a valores en el intervalo de 0 a 1\n",
    "OL = np.matmul(H1,OL_W)\n",
    "OL = sigmoid(OL)  # funcion de activacion: convertir a valores en el intervalo de 0 a 1\n",
    "\n",
    "print(OL)"
   ]
  },
  {
   "cell_type": "markdown",
   "metadata": {},
   "source": [
    "### Ejercicio \n",
    "\n",
    "Implementar en una funcion neural_network(X) la red neuronal definida por la siguiente arquitectura:\n",
    "\n",
    "<img src=\"http://i.imgur.com/UNlffE1.png\" width=\"300\">\n",
    "\n",
    "Podemos validar si fue correctamente implementada si usamos como entrada el vector x=[1,1] . Debemos obtener el resultado mostrado en la imagen.\n",
    "\n",
    "Una vez tenemos la implementacion correcta, cambiar la funcion de activacion de la capa de salida por la funcion de activacion ReLu(https://en.wikipedia.org/wiki/Rectifier_(neural_networks)):\n",
    "\n",
    "<img src=\"https://cdn-images-1.medium.com/max/1600/1*DfMRHwxY1gyyDmrIAd-gjQ.png\" width=\"300\">\n",
    "\n",
    "Luego evaluar la red neuronal sobre la matriz de datos X(de manera vectorizada):"
   ]
  },
  {
   "cell_type": "code",
   "execution_count": null,
   "metadata": {},
   "outputs": [],
   "source": [
    "X = np.array([\n",
    "    [0.1,2],\n",
    "    [0.3,0.45],\n",
    "    [5,9],\n",
    "    [12,6],\n",
    "    [7,5],\n",
    "    [0.3,0.8],\n",
    "    [12,5],\n",
    "    [100,200],\n",
    "    [7,8],\n",
    "    [300,1500]])"
   ]
  },
  {
   "cell_type": "code",
   "execution_count": null,
   "metadata": {},
   "outputs": [],
   "source": [
    "def neural_network(X):\n",
    "    "
   ]
  },
  {
   "cell_type": "code",
   "execution_count": 54,
   "metadata": {},
   "outputs": [
    {
     "data": {
      "text/plain": [
       "1.014762"
      ]
     },
     "execution_count": 54,
     "metadata": {},
     "output_type": "execute_result"
    }
   ],
   "source": [
    "vector_x = np.array([1,1])\n",
    "h_layer1 = np.array([0.712,0.112])\n",
    "h_layer2 = np.array([0.355,0.855])\n",
    "h_layer3 = np.array([0.268,0.468])\n",
    "h1 = np.matmul(vector_x,h_layer1)\n",
    "h2 = np.matmul(vector_x,h_layer2)\n",
    "h3 = np.matmul(vector_x,h_layer3)\n",
    "h = np.array([h1,h2,h3])\n",
    "z = np.array([0.116,0.329,0.708])\n",
    "np.matmul(h,z)"
   ]
  }
 ],
 "metadata": {
  "kernelspec": {
   "display_name": "Python 3",
   "language": "python",
   "name": "python3"
  },
  "language_info": {
   "codemirror_mode": {
    "name": "ipython",
    "version": 3
   },
   "file_extension": ".py",
   "mimetype": "text/x-python",
   "name": "python",
   "nbconvert_exporter": "python",
   "pygments_lexer": "ipython3",
   "version": "3.8.5"
  }
 },
 "nbformat": 4,
 "nbformat_minor": 4
}
